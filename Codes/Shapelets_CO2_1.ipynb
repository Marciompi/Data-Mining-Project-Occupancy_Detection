{
 "cells": [
  {
   "cell_type": "code",
   "execution_count": 1,
   "metadata": {},
   "outputs": [],
   "source": [
    "%matplotlib inline\n",
    "\n",
    "import numpy as np\n",
    "import pandas as pd\n",
    "import matplotlib.pyplot as plt\n",
    "\n",
    "from collections import defaultdict\n",
    "from sklearn.preprocessing import MinMaxScaler"
   ]
  },
  {
   "cell_type": "code",
   "execution_count": 2,
   "metadata": {},
   "outputs": [],
   "source": [
    "df = pd.read_csv(\"/Users/marco/Desktop/DataMining2Project-master-2/dataset_train+test2.csv\") #sostituisci con tuo percorso\n",
    "dateparse = lambda dates: pd.to_datetime(df['date'])\n",
    "\n",
    "df_ts = pd.read_csv(\"/Users/marco/Desktop/DataMining2Project-master-2/dataset_train+test2.csv\",\n",
    "                 parse_dates=True, index_col='date', date_parser=dateparse)"
   ]
  },
  {
   "cell_type": "code",
   "execution_count": 3,
   "metadata": {},
   "outputs": [
    {
     "data": {
      "text/html": [
       "<div>\n",
       "<style scoped>\n",
       "    .dataframe tbody tr th:only-of-type {\n",
       "        vertical-align: middle;\n",
       "    }\n",
       "\n",
       "    .dataframe tbody tr th {\n",
       "        vertical-align: top;\n",
       "    }\n",
       "\n",
       "    .dataframe thead th {\n",
       "        text-align: right;\n",
       "    }\n",
       "</style>\n",
       "<table border=\"1\" class=\"dataframe\">\n",
       "  <thead>\n",
       "    <tr style=\"text-align: right;\">\n",
       "      <th></th>\n",
       "      <th>Temperature</th>\n",
       "      <th>Humidity</th>\n",
       "      <th>Light</th>\n",
       "      <th>CO2</th>\n",
       "      <th>Occupancy</th>\n",
       "      <th>Ora</th>\n",
       "      <th>day</th>\n",
       "      <th>hour</th>\n",
       "      <th>absH</th>\n",
       "      <th>weekend</th>\n",
       "      <th>out_of_turn</th>\n",
       "    </tr>\n",
       "    <tr>\n",
       "      <th>date</th>\n",
       "      <th></th>\n",
       "      <th></th>\n",
       "      <th></th>\n",
       "      <th></th>\n",
       "      <th></th>\n",
       "      <th></th>\n",
       "      <th></th>\n",
       "      <th></th>\n",
       "      <th></th>\n",
       "      <th></th>\n",
       "      <th></th>\n",
       "    </tr>\n",
       "  </thead>\n",
       "  <tbody>\n",
       "    <tr>\n",
       "      <th>2015-02-04 17:51:00</th>\n",
       "      <td>23.18</td>\n",
       "      <td>27.2720</td>\n",
       "      <td>426.0</td>\n",
       "      <td>721.25</td>\n",
       "      <td>1</td>\n",
       "      <td>2</td>\n",
       "      <td>4</td>\n",
       "      <td>17:51:00</td>\n",
       "      <td>17</td>\n",
       "      <td>0.0</td>\n",
       "      <td>1.0</td>\n",
       "    </tr>\n",
       "    <tr>\n",
       "      <th>2015-02-04 17:51:59</th>\n",
       "      <td>23.15</td>\n",
       "      <td>27.2675</td>\n",
       "      <td>429.5</td>\n",
       "      <td>714.00</td>\n",
       "      <td>1</td>\n",
       "      <td>2</td>\n",
       "      <td>4</td>\n",
       "      <td>17:51:59</td>\n",
       "      <td>17</td>\n",
       "      <td>0.0</td>\n",
       "      <td>1.0</td>\n",
       "    </tr>\n",
       "    <tr>\n",
       "      <th>2015-02-04 17:53:00</th>\n",
       "      <td>23.15</td>\n",
       "      <td>27.2450</td>\n",
       "      <td>426.0</td>\n",
       "      <td>713.50</td>\n",
       "      <td>1</td>\n",
       "      <td>2</td>\n",
       "      <td>4</td>\n",
       "      <td>17:53:00</td>\n",
       "      <td>17</td>\n",
       "      <td>0.0</td>\n",
       "      <td>1.0</td>\n",
       "    </tr>\n",
       "    <tr>\n",
       "      <th>2015-02-04 17:54:00</th>\n",
       "      <td>23.15</td>\n",
       "      <td>27.2000</td>\n",
       "      <td>426.0</td>\n",
       "      <td>708.25</td>\n",
       "      <td>1</td>\n",
       "      <td>2</td>\n",
       "      <td>4</td>\n",
       "      <td>17:54:00</td>\n",
       "      <td>17</td>\n",
       "      <td>0.0</td>\n",
       "      <td>1.0</td>\n",
       "    </tr>\n",
       "    <tr>\n",
       "      <th>2015-02-04 17:55:00</th>\n",
       "      <td>23.10</td>\n",
       "      <td>27.2000</td>\n",
       "      <td>426.0</td>\n",
       "      <td>704.50</td>\n",
       "      <td>1</td>\n",
       "      <td>2</td>\n",
       "      <td>4</td>\n",
       "      <td>17:55:00</td>\n",
       "      <td>17</td>\n",
       "      <td>0.0</td>\n",
       "      <td>1.0</td>\n",
       "    </tr>\n",
       "  </tbody>\n",
       "</table>\n",
       "</div>"
      ],
      "text/plain": [
       "                     Temperature  Humidity  Light     CO2  Occupancy  Ora  \\\n",
       "date                                                                        \n",
       "2015-02-04 17:51:00        23.18   27.2720  426.0  721.25          1    2   \n",
       "2015-02-04 17:51:59        23.15   27.2675  429.5  714.00          1    2   \n",
       "2015-02-04 17:53:00        23.15   27.2450  426.0  713.50          1    2   \n",
       "2015-02-04 17:54:00        23.15   27.2000  426.0  708.25          1    2   \n",
       "2015-02-04 17:55:00        23.10   27.2000  426.0  704.50          1    2   \n",
       "\n",
       "                     day      hour  absH  weekend  out_of_turn  \n",
       "date                                                            \n",
       "2015-02-04 17:51:00    4  17:51:00    17      0.0          1.0  \n",
       "2015-02-04 17:51:59    4  17:51:59    17      0.0          1.0  \n",
       "2015-02-04 17:53:00    4  17:53:00    17      0.0          1.0  \n",
       "2015-02-04 17:54:00    4  17:54:00    17      0.0          1.0  \n",
       "2015-02-04 17:55:00    4  17:55:00    17      0.0          1.0  "
      ]
     },
     "execution_count": 3,
     "metadata": {},
     "output_type": "execute_result"
    }
   ],
   "source": [
    "df_ts.head()"
   ]
  },
  {
   "cell_type": "code",
   "execution_count": 4,
   "metadata": {},
   "outputs": [],
   "source": [
    "df_ts = df_ts[[ 'CO2', 'Occupancy', 'day', 'absH']]"
   ]
  },
  {
   "cell_type": "code",
   "execution_count": 5,
   "metadata": {
    "scrolled": true
   },
   "outputs": [
    {
     "data": {
      "text/html": [
       "<div>\n",
       "<style scoped>\n",
       "    .dataframe tbody tr th:only-of-type {\n",
       "        vertical-align: middle;\n",
       "    }\n",
       "\n",
       "    .dataframe tbody tr th {\n",
       "        vertical-align: top;\n",
       "    }\n",
       "\n",
       "    .dataframe thead th {\n",
       "        text-align: right;\n",
       "    }\n",
       "</style>\n",
       "<table border=\"1\" class=\"dataframe\">\n",
       "  <thead>\n",
       "    <tr style=\"text-align: right;\">\n",
       "      <th></th>\n",
       "      <th>CO2</th>\n",
       "      <th>Occupancy</th>\n",
       "      <th>day</th>\n",
       "      <th>absH</th>\n",
       "    </tr>\n",
       "    <tr>\n",
       "      <th>date</th>\n",
       "      <th></th>\n",
       "      <th></th>\n",
       "      <th></th>\n",
       "      <th></th>\n",
       "    </tr>\n",
       "  </thead>\n",
       "  <tbody>\n",
       "    <tr>\n",
       "      <th>2015-02-04 17:51:00</th>\n",
       "      <td>721.25</td>\n",
       "      <td>1</td>\n",
       "      <td>4</td>\n",
       "      <td>17</td>\n",
       "    </tr>\n",
       "    <tr>\n",
       "      <th>2015-02-04 17:51:59</th>\n",
       "      <td>714.00</td>\n",
       "      <td>1</td>\n",
       "      <td>4</td>\n",
       "      <td>17</td>\n",
       "    </tr>\n",
       "    <tr>\n",
       "      <th>2015-02-04 17:53:00</th>\n",
       "      <td>713.50</td>\n",
       "      <td>1</td>\n",
       "      <td>4</td>\n",
       "      <td>17</td>\n",
       "    </tr>\n",
       "    <tr>\n",
       "      <th>2015-02-04 17:54:00</th>\n",
       "      <td>708.25</td>\n",
       "      <td>1</td>\n",
       "      <td>4</td>\n",
       "      <td>17</td>\n",
       "    </tr>\n",
       "    <tr>\n",
       "      <th>2015-02-04 17:55:00</th>\n",
       "      <td>704.50</td>\n",
       "      <td>1</td>\n",
       "      <td>4</td>\n",
       "      <td>17</td>\n",
       "    </tr>\n",
       "  </tbody>\n",
       "</table>\n",
       "</div>"
      ],
      "text/plain": [
       "                        CO2  Occupancy  day  absH\n",
       "date                                             \n",
       "2015-02-04 17:51:00  721.25          1    4    17\n",
       "2015-02-04 17:51:59  714.00          1    4    17\n",
       "2015-02-04 17:53:00  713.50          1    4    17\n",
       "2015-02-04 17:54:00  708.25          1    4    17\n",
       "2015-02-04 17:55:00  704.50          1    4    17"
      ]
     },
     "execution_count": 5,
     "metadata": {},
     "output_type": "execute_result"
    }
   ],
   "source": [
    "df_ts.head()"
   ]
  },
  {
   "cell_type": "code",
   "execution_count": 6,
   "metadata": {},
   "outputs": [
    {
     "data": {
      "text/plain": [
       "[<matplotlib.lines.Line2D at 0x125f60150>]"
      ]
     },
     "execution_count": 6,
     "metadata": {},
     "output_type": "execute_result"
    },
    {
     "data": {
      "image/png": "[encoded data removed]",
      "text/plain": [
       "<Figure size 432x288 with 1 Axes>"
      ]
     },
     "metadata": {
      "needs_background": "light"
     },
     "output_type": "display_data"
    }
   ],
   "source": [
    "thur1 = df_ts[df_ts.day==5]\n",
    "thur1 = thur1[['CO2', 'Occupancy', 'absH']]\n",
    "thur1.reset_index(inplace=True)\n",
    "ts1dd = thur1.CO2\n",
    "plt.plot(ts1dd)"
   ]
  },
  {
   "cell_type": "code",
   "execution_count": 7,
   "metadata": {},
   "outputs": [],
   "source": [
    "thur1 = df_ts[df_ts.day==5]\n",
    "thur1 = thur1[['CO2', 'Occupancy', 'absH']]\n",
    "thur1.reset_index(inplace=True)\n",
    "ts1 = thur1.CO2\n",
    "\n",
    "fri1 = df_ts[df_ts.day==6]\n",
    "fri1 = fri1[['CO2', 'Occupancy','absH']]\n",
    "fri1.reset_index(inplace=True)\n",
    "ts2 = fri1.CO2\n",
    "\n",
    "sat1 = df_ts[df_ts.day==7]\n",
    "sat1 = sat1[['CO2', 'Occupancy', 'absH']]\n",
    "sat1.reset_index(inplace=True)\n",
    "ts3 = sat1.CO2\n",
    "\n",
    "sun1 = df_ts[df_ts.day==8]\n",
    "sun1 = sun1[['CO2', 'Occupancy', 'absH']]\n",
    "sun1.reset_index(inplace=True)\n",
    "ts4 = sun1.CO2\n",
    "\n",
    "mon2 = df_ts[df_ts.day==9]\n",
    "mon2 = mon2[['CO2', 'Occupancy', 'absH']]\n",
    "mon2.reset_index(inplace=True)\n",
    "ts5 = mon2.CO2\n",
    "\n",
    "thur2 = df_ts[df_ts.day==12]\n",
    "thur2 = thur2[['CO2', 'Occupancy', 'absH']]\n",
    "thur2.reset_index(inplace=True)\n",
    "ts6 = thur2.CO2\n",
    "\n",
    "fri2 = df_ts[df_ts.day==13]\n",
    "fri2 = fri2[['CO2', 'Occupancy', 'absH']]\n",
    "fri2.reset_index(inplace=True)\n",
    "ts7 = fri2.CO2\n",
    "\n",
    "sat2 = df_ts[df_ts.day==14]\n",
    "sat2 = sat2[['CO2', 'Occupancy', 'absH']]\n",
    "sat2.reset_index(inplace=True)\n",
    "ts8 = sat2.CO2\n",
    "\n",
    "sun2 = df_ts[df_ts.day==15]\n",
    "sun2 = sun2[['CO2', 'Occupancy', 'absH']]\n",
    "sun2.reset_index(inplace=True)\n",
    "ts9 = sun2.CO2\n",
    "\n",
    "mon3 = df_ts[df_ts.day==16]\n",
    "mon3 = mon3[['CO2', 'Occupancy', 'absH']]\n",
    "mon3.reset_index(inplace=True)\n",
    "ts10 = mon3.CO2\n",
    "\n",
    "thue3 = df_ts[df_ts.day==17]\n",
    "thue3 = thue3[['CO2', 'Occupancy', 'absH']]\n",
    "thue3.reset_index(inplace=True)\n",
    "ts11 = thue3.CO2"
   ]
  },
  {
   "cell_type": "code",
   "execution_count": 33,
   "metadata": {},
   "outputs": [
    {
     "data": {
      "text/plain": [
       "Text(0, 0.5, 'Occupancy')"
      ]
     },
     "execution_count": 33,
     "metadata": {},
     "output_type": "execute_result"
    },
    {
     "data": {
      "image/png": "[encoded data removed]",
      "text/plain": [
       "<Figure size 432x288 with 1 Axes>"
      ]
     },
     "metadata": {
      "needs_background": "light"
     },
     "output_type": "display_data"
    }
   ],
   "source": [
    "#thur1['absH'].value_counts().plot(kind='bar', title='distribuzione della temperatura')\n",
    "#plt.show()\n",
    "\n",
    "plotL = pd.crosstab(thur1['absH'], thur1['Occupancy'])\n",
    "plotLn = plotL.div(plotL.sum(1).astype(float), axis=0)\n",
    "plotLn.plot(kind='bar', stacked=True, \n",
    "                   title='Occupancy durante le ore')\n",
    "plt.xlabel('absH')\n",
    "plt.ylabel('Occupancy')"
   ]
  },
  {
   "cell_type": "code",
   "execution_count": 8,
   "metadata": {},
   "outputs": [
    {
     "data": {
      "text/plain": [
       "[<matplotlib.lines.Line2D at 0x124912590>]"
      ]
     },
     "execution_count": 8,
     "metadata": {},
     "output_type": "execute_result"
    },
    {
     "data": {
      "image/png": "[encoded data removed]",
      "text/plain": [
       "<Figure size 432x288 with 1 Axes>"
      ]
     },
     "metadata": {
      "needs_background": "light"
     },
     "output_type": "display_data"
    }
   ],
   "source": [
    "thur1_9 = thur1[thur1.absH==9] \n",
    "thur1_10 = thur1[thur1.absH==10] \n",
    "thur1_11 = thur1[thur1.absH==11] \n",
    "thur1_12 = thur1[thur1.absH==12]\n",
    "thur1_13 = thur1[thur1.absH==13]\n",
    "thur1_14 = thur1[thur1.absH==14]\n",
    "thur1_15 = thur1[thur1.absH==15] \n",
    "thur1_16 = thur1[thur1.absH==16] \n",
    "thur1_17 = thur1[thur1.absH==17]\n",
    "\n",
    "i = [thur1_9, thur1_10, thur1_11, thur1_12, thur1_13, thur1_14, thur1_15, thur1_16, thur1_17]\n",
    "\n",
    "thur1_mat = pd.concat(i)\n",
    "ts1 = thur1_mat.CO2\n",
    "plt.plot(ts1)\n",
    "\n",
    "#plt.show()"
   ]
  },
  {
   "cell_type": "code",
   "execution_count": 35,
   "metadata": {},
   "outputs": [
    {
     "data": {
      "text/plain": [
       "Text(0, 0.5, 'Occupancy')"
      ]
     },
     "execution_count": 35,
     "metadata": {},
     "output_type": "execute_result"
    },
    {
     "data": {
      "image/png": "[encoded data removed]",
      "text/plain": [
       "<Figure size 432x288 with 1 Axes>"
      ]
     },
     "metadata": {
      "needs_background": "light"
     },
     "output_type": "display_data"
    }
   ],
   "source": [
    "plotL = pd.crosstab(fri1['absH'], fri1['Occupancy'])\n",
    "plotLn = plotL.div(plotL.sum(1).astype(float), axis=0)\n",
    "plotLn.plot(kind='bar', stacked=True, \n",
    "                   title='Occupancy durante le ore')\n",
    "plt.xlabel('absH')\n",
    "plt.ylabel('Occupancy')"
   ]
  },
  {
   "cell_type": "code",
   "execution_count": 9,
   "metadata": {},
   "outputs": [],
   "source": [
    "fri1_9 = fri1[fri1.absH==9] \n",
    "fri1_10 = fri1[fri1.absH==10] \n",
    "fri1_11 = fri1[fri1.absH==11] \n",
    "fri1_12 = fri1[fri1.absH==12] \n",
    "fri1_13 = fri1[fri1.absH==13] \n",
    "fri1_14 = fri1[fri1.absH==14]\n",
    "fri1_15 = fri1[fri1.absH==15] \n",
    "fri1_16 = fri1[fri1.absH==16] \n",
    "fri1_17 = fri1[fri1.absH==17]\n",
    "\n",
    "\n",
    "i = [fri1_9, fri1_10, fri1_11, fri1_12, fri1_13, fri1_14, fri1_15, fri1_16, fri1_17]\n",
    "fri1_mat = pd.concat(i)\n",
    "ts2 = fri1_mat.CO2\n",
    "#plt.plot(ts2)\n",
    "\n",
    "#plt.show()"
   ]
  },
  {
   "cell_type": "code",
   "execution_count": 37,
   "metadata": {},
   "outputs": [
    {
     "data": {
      "text/plain": [
       "Text(0, 0.5, 'Occupancy')"
      ]
     },
     "execution_count": 37,
     "metadata": {},
     "output_type": "execute_result"
    },
    {
     "data": {
      "image/png": "[encoded data removed]",
      "text/plain": [
       "<Figure size 432x288 with 1 Axes>"
      ]
     },
     "metadata": {
      "needs_background": "light"
     },
     "output_type": "display_data"
    }
   ],
   "source": [
    "plotL = pd.crosstab(sat1['absH'], sat1['Occupancy'])\n",
    "plotLn = plotL.div(plotL.sum(1).astype(float), axis=0)\n",
    "plotLn.plot(kind='bar', stacked=True, \n",
    "                   title='Occupancy durante le ore')\n",
    "plt.xlabel('absH')\n",
    "plt.ylabel('Occupancy')"
   ]
  },
  {
   "cell_type": "code",
   "execution_count": 10,
   "metadata": {},
   "outputs": [],
   "source": [
    "sat1_9 = sat1[sat1.absH==9] \n",
    "sat1_10 = sat1[sat1.absH==10] \n",
    "sat1_11 = sat1[sat1.absH==11]\n",
    "sat1_12 = sat1[sat1.absH==12] \n",
    "sat1_13 = sat1[sat1.absH==13] \n",
    "sat1_14 = sat1[sat1.absH==14]\n",
    "sat1_15 = sat1[sat1.absH==15] \n",
    "sat1_16 = sat1[sat1.absH==16] \n",
    "sat1_17 = sat1[sat1.absH==17]\n",
    "\n",
    "\n",
    "i = [sat1_9, sat1_10, sat1_11, sat1_12, sat1_13, sat1_14, sat1_15, sat1_16, sat1_17]\n",
    "sat1_mat = pd.concat(i)\n",
    "ts3 = sat1_mat.CO2\n",
    "#plt.plot(ts3)\n",
    "\n",
    "#plt.show()"
   ]
  },
  {
   "cell_type": "code",
   "execution_count": 39,
   "metadata": {},
   "outputs": [
    {
     "data": {
      "text/plain": [
       "Text(0, 0.5, 'Occupancy')"
      ]
     },
     "execution_count": 39,
     "metadata": {},
     "output_type": "execute_result"
    },
    {
     "data": {
      "image/png": "[encoded data removed]",
      "text/plain": [
       "<Figure size 432x288 with 1 Axes>"
      ]
     },
     "metadata": {
      "needs_background": "light"
     },
     "output_type": "display_data"
    }
   ],
   "source": [
    "plotL = pd.crosstab(sun1['absH'], sun1['Occupancy'])\n",
    "plotLn = plotL.div(plotL.sum(1).astype(float), axis=0)\n",
    "plotLn.plot(kind='bar', stacked=True, \n",
    "                   title='Occupancy durante le ore')\n",
    "plt.xlabel('absH')\n",
    "plt.ylabel('Occupancy')"
   ]
  },
  {
   "cell_type": "code",
   "execution_count": 11,
   "metadata": {},
   "outputs": [],
   "source": [
    "sun1_9 = sun1[sun1.absH==9] \n",
    "sun1_10 = sun1[sun1.absH==10] \n",
    "sun1_11 = sun1[sun1.absH==11]\n",
    "sun1_12 = sun1[sun1.absH==12] \n",
    "sun1_13 = sun1[sun1.absH==13] \n",
    "sun1_14 = sun1[sun1.absH==14]\n",
    "sun1_15 = sun1[sun1.absH==15] \n",
    "sun1_16 = sun1[sun1.absH==16] \n",
    "sun1_17 = sun1[sun1.absH==17]\n",
    "\n",
    "\n",
    "i = [sun1_9, sun1_10, sun1_11, sun1_12, sun1_13, sun1_14, sun1_15, sun1_16, sun1_17]\n",
    "sun1_mat = pd.concat(i)\n",
    "ts4 = sun1_mat.CO2\n",
    "#plt.plot(ts4)\n",
    "\n",
    "#plt.show()"
   ]
  },
  {
   "cell_type": "code",
   "execution_count": 41,
   "metadata": {},
   "outputs": [
    {
     "data": {
      "text/plain": [
       "Text(0, 0.5, 'Occupancy')"
      ]
     },
     "execution_count": 41,
     "metadata": {},
     "output_type": "execute_result"
    },
    {
     "data": {
      "image/png": "[encoded data removed]",
      "text/plain": [
       "<Figure size 432x288 with 1 Axes>"
      ]
     },
     "metadata": {
      "needs_background": "light"
     },
     "output_type": "display_data"
    }
   ],
   "source": [
    "plotL = pd.crosstab(mon2['absH'], mon2['Occupancy'])\n",
    "plotLn = plotL.div(plotL.sum(1).astype(float), axis=0)\n",
    "plotLn.plot(kind='bar', stacked=True, \n",
    "                   title='Occupancy durante le ore')\n",
    "plt.xlabel('absH')\n",
    "plt.ylabel('Occupancy')"
   ]
  },
  {
   "cell_type": "code",
   "execution_count": 12,
   "metadata": {},
   "outputs": [],
   "source": [
    "mon2_9 = mon2[mon2.absH==9] \n",
    "mon2_10 = mon2[mon2.absH==10] \n",
    "mon2_11 = mon2[mon2.absH==11] \n",
    "mon2_12 = mon2[mon2.absH==12] \n",
    "mon2_13 = mon2[mon2.absH==13] \n",
    "mon2_14 = mon2[mon2.absH==14]\n",
    "mon2_15 = mon2[mon2.absH==15] \n",
    "mon2_16 = mon2[mon2.absH==16] \n",
    "mon2_17 = mon2[mon2.absH==17]\n",
    "\n",
    "\n",
    "i = [mon2_9, mon2_10, mon2_11, mon2_12, mon2_13, mon2_14, mon2_15, mon2_16, mon2_17]\n",
    "mon2_mat = pd.concat(i)\n",
    "ts5 = mon2_mat.CO2\n",
    "#plt.plot(ts5)\n",
    "\n",
    "#plt.show()"
   ]
  },
  {
   "cell_type": "code",
   "execution_count": 43,
   "metadata": {},
   "outputs": [
    {
     "data": {
      "text/plain": [
       "Text(0, 0.5, 'Occupancy')"
      ]
     },
     "execution_count": 43,
     "metadata": {},
     "output_type": "execute_result"
    },
    {
     "data": {
      "image/png": "[encoded data removed]",
      "text/plain": [
       "<Figure size 432x288 with 1 Axes>"
      ]
     },
     "metadata": {
      "needs_background": "light"
     },
     "output_type": "display_data"
    }
   ],
   "source": [
    "plotL = pd.crosstab(thur2['absH'], thur2['Occupancy'])\n",
    "plotLn = plotL.div(plotL.sum(1).astype(float), axis=0)\n",
    "plotLn.plot(kind='bar', stacked=True, \n",
    "                   title='Occupancy durante le ore')\n",
    "plt.xlabel('absH')\n",
    "plt.ylabel('Occupancy')\n",
    "\n",
    "# non è adatta come time series"
   ]
  },
  {
   "cell_type": "code",
   "execution_count": 44,
   "metadata": {},
   "outputs": [
    {
     "data": {
      "text/plain": [
       "Text(0, 0.5, 'Occupancy')"
      ]
     },
     "execution_count": 44,
     "metadata": {},
     "output_type": "execute_result"
    },
    {
     "data": {
      "image/png": "[encoded data removed]",
      "text/plain": [
       "<Figure size 432x288 with 1 Axes>"
      ]
     },
     "metadata": {
      "needs_background": "light"
     },
     "output_type": "display_data"
    }
   ],
   "source": [
    "plotL = pd.crosstab(fri2['absH'], fri2['Occupancy'])\n",
    "plotLn = plotL.div(plotL.sum(1).astype(float), axis=0)\n",
    "plotLn.plot(kind='bar', stacked=True, \n",
    "                   title='Occupancy durante le ore')\n",
    "plt.xlabel('absH')\n",
    "plt.ylabel('Occupancy')"
   ]
  },
  {
   "cell_type": "code",
   "execution_count": 13,
   "metadata": {},
   "outputs": [],
   "source": [
    "fri2_9 = fri2[fri2.absH==9] \n",
    "fri2_10 = fri2[fri2.absH==10] \n",
    "fri2_11 = fri2[fri2.absH==11]\n",
    "fri2_12 = fri2[fri2.absH==12] \n",
    "fri2_13 = fri2[fri2.absH==13] \n",
    "fri2_14 = fri2[fri2.absH==14]\n",
    "fri2_15 = fri2[fri2.absH==15] \n",
    "fri2_16 = fri2[fri2.absH==16] \n",
    "fri2_17 = fri2[fri2.absH==17]\n",
    "\n",
    "\n",
    "i = [fri2_9, fri2_10, fri2_11, fri2_12, fri2_13, fri2_14, fri2_15, fri2_16, fri2_17]\n",
    "fri2_mat = pd.concat(i)\n",
    "ts7 = fri2_mat.CO2\n",
    "#plt.plot(ts7)\n",
    "\n",
    "#plt.show()"
   ]
  },
  {
   "cell_type": "code",
   "execution_count": 46,
   "metadata": {},
   "outputs": [
    {
     "data": {
      "text/plain": [
       "Text(0, 0.5, 'Occupancy')"
      ]
     },
     "execution_count": 46,
     "metadata": {},
     "output_type": "execute_result"
    },
    {
     "data": {
      "image/png": "[encoded data removed]",
      "text/plain": [
       "<Figure size 432x288 with 1 Axes>"
      ]
     },
     "metadata": {
      "needs_background": "light"
     },
     "output_type": "display_data"
    }
   ],
   "source": [
    "plotL = pd.crosstab(sun2['absH'], sun2['Occupancy'])\n",
    "plotLn = plotL.div(plotL.sum(1).astype(float), axis=0)\n",
    "plotLn.plot(kind='bar', stacked=True, \n",
    "                   title='Occupancy durante le ore')\n",
    "plt.xlabel('absH')\n",
    "plt.ylabel('Occupancy')"
   ]
  },
  {
   "cell_type": "code",
   "execution_count": 14,
   "metadata": {},
   "outputs": [],
   "source": [
    "sat2_9 = sat2[sat2.absH==9] \n",
    "sat2_10 = sat2[sat2.absH==10] \n",
    "sat2_11 = sat2[sat2.absH==11]\n",
    "sat2_12 = sat2[sat2.absH==12] \n",
    "sat2_13 = sat2[sat2.absH==13] \n",
    "sat2_14 = sat2[sat2.absH==14]\n",
    "sat2_15 = sat2[sat2.absH==15] \n",
    "sat2_16 = sat2[sat2.absH==16] \n",
    "sat2_17 = sat2[sat2.absH==17]\n",
    "\n",
    "\n",
    "i = [sat2_9, sat2_10, sat2_11, sat2_12, sat2_13, sat2_14, sat2_15, sat2_16, sat2_17]\n",
    "sat2_mat = pd.concat(i)\n",
    "ts8 = sat2_mat.CO2\n",
    "#plt.plot(ts8)\n",
    "\n",
    "#plt.show()"
   ]
  },
  {
   "cell_type": "code",
   "execution_count": 15,
   "metadata": {},
   "outputs": [],
   "source": [
    "\n",
    "sun2_9 = sun2[sun2.absH==9] \n",
    "sun2_10 = sun2[sun2.absH==10] \n",
    "sun2_11 = sun2[sun2.absH==11]\n",
    "sun2_12 = sun2[sun2.absH==12] \n",
    "sun2_13 = sun2[sun2.absH==13] \n",
    "sun2_14 = sun2[sun2.absH==14]\n",
    "sun2_15 = sun2[sun2.absH==15] \n",
    "sun2_16 = sun2[sun2.absH==16] \n",
    "sun2_17 = sun2[sun2.absH==17]\n",
    "\n",
    "i = [sun2_9, sun2_10, sun2_11, sun2_12, sun2_13, sun2_14, sun2_15, sun2_16, sun2_17]\n",
    "sun2_mat = pd.concat(i)\n",
    "ts9 = sun2_mat.CO2\n",
    "#plt.plot(ts9)\n",
    "\n",
    "#plt.show()"
   ]
  },
  {
   "cell_type": "code",
   "execution_count": 49,
   "metadata": {},
   "outputs": [
    {
     "data": {
      "text/plain": [
       "Text(0, 0.5, 'Occupancy')"
      ]
     },
     "execution_count": 49,
     "metadata": {},
     "output_type": "execute_result"
    },
    {
     "data": {
      "image/png": "[encoded data removed]",
      "text/plain": [
       "<Figure size 432x288 with 1 Axes>"
      ]
     },
     "metadata": {
      "needs_background": "light"
     },
     "output_type": "display_data"
    }
   ],
   "source": [
    "plotL = pd.crosstab(mon3['absH'], mon3['Occupancy'])\n",
    "plotLn = plotL.div(plotL.sum(1).astype(float), axis=0)\n",
    "plotLn.plot(kind='bar', stacked=True, \n",
    "                   title='Occupancy durante le ore')\n",
    "plt.xlabel('absH')\n",
    "plt.ylabel('Occupancy')"
   ]
  },
  {
   "cell_type": "code",
   "execution_count": 16,
   "metadata": {},
   "outputs": [],
   "source": [
    "mon3_9 = mon3[mon3.absH==9] \n",
    "mon3_10 = mon3[mon3.absH==10] \n",
    "mon3_11 = mon3[mon3.absH==11]\n",
    "mon3_12 = mon3[mon3.absH==12] \n",
    "mon3_13 = mon3[mon3.absH==13] \n",
    "mon3_14 = mon3[mon3.absH==14]\n",
    "mon3_15 = mon3[mon3.absH==15] \n",
    "mon3_16 = mon3[mon3.absH==16] \n",
    "mon3_17 = mon3[mon3.absH==17]\n",
    "\n",
    "i = [mon3_9, mon3_10, mon3_11, mon3_12, mon3_13, mon3_14, mon3_15, mon3_16, mon3_17]\n",
    "mon3_mat = pd.concat(i)\n",
    "ts10 = mon3_mat.CO2\n",
    "#plt.plot(ts10)\n",
    "\n",
    "#plt.show()"
   ]
  },
  {
   "cell_type": "code",
   "execution_count": 51,
   "metadata": {},
   "outputs": [
    {
     "data": {
      "text/plain": [
       "Text(0, 0.5, 'Occupancy')"
      ]
     },
     "execution_count": 51,
     "metadata": {},
     "output_type": "execute_result"
    },
    {
     "data": {
      "image/png": "[encoded data removed]",
      "text/plain": [
       "<Figure size 432x288 with 1 Axes>"
      ]
     },
     "metadata": {
      "needs_background": "light"
     },
     "output_type": "display_data"
    }
   ],
   "source": [
    "plotL = pd.crosstab(thue3['absH'], thue3['Occupancy'])\n",
    "plotLn = plotL.div(plotL.sum(1).astype(float), axis=0)\n",
    "plotLn.plot(kind='bar', stacked=True, \n",
    "                   title='Occupancy durante le ore')\n",
    "plt.xlabel('absH')\n",
    "plt.ylabel('Occupancy')"
   ]
  },
  {
   "cell_type": "code",
   "execution_count": 17,
   "metadata": {},
   "outputs": [],
   "source": [
    "\n",
    "thue3_9 = thue3[thue3.absH==9] \n",
    "thue3_10 = thue3[thue3.absH==10] \n",
    "thue3_11 = thue3[thue3.absH==11]\n",
    "thue3_12 = thue3[thue3.absH==12] \n",
    "thue3_13 = thue3[thue3.absH==13] \n",
    "thue3_14 = thue3[thue3.absH==14]\n",
    "thue3_15 = thue3[thue3.absH==15] \n",
    "thue3_16 = thue3[thue3.absH==16] \n",
    "thue3_17 = thue3[thue3.absH==17]\n",
    "\n",
    "i = [thue3_9, thue3_10, thue3_11, thue3_12, thue3_13, thue3_14, thue3_15, thue3_16, thue3_17]\n",
    "thue3_mat = pd.concat(i)\n",
    "ts11 = thue3_mat.CO2\n",
    "#plt.plot(ts11)\n",
    "\n",
    "#plt.show()"
   ]
  },
  {
   "cell_type": "code",
   "execution_count": null,
   "metadata": {},
   "outputs": [],
   "source": []
  },
  {
   "cell_type": "code",
   "execution_count": 18,
   "metadata": {},
   "outputs": [],
   "source": [
    "ts_df = [ts1, ts2, ts3, ts4, ts5, ts7, ts8, ts9, ts10, ts11]\n",
    "\n",
    "df1 = pd.DataFrame(data=ts_df)\n"
   ]
  },
  {
   "cell_type": "code",
   "execution_count": 19,
   "metadata": {},
   "outputs": [
    {
     "data": {
      "text/html": [
       "<div>\n",
       "<style scoped>\n",
       "    .dataframe tbody tr th:only-of-type {\n",
       "        vertical-align: middle;\n",
       "    }\n",
       "\n",
       "    .dataframe tbody tr th {\n",
       "        vertical-align: top;\n",
       "    }\n",
       "\n",
       "    .dataframe thead th {\n",
       "        text-align: right;\n",
       "    }\n",
       "</style>\n",
       "<table border=\"1\" class=\"dataframe\">\n",
       "  <thead>\n",
       "    <tr style=\"text-align: right;\">\n",
       "      <th></th>\n",
       "      <th>540</th>\n",
       "      <th>541</th>\n",
       "      <th>542</th>\n",
       "      <th>543</th>\n",
       "      <th>544</th>\n",
       "      <th>545</th>\n",
       "      <th>546</th>\n",
       "      <th>547</th>\n",
       "      <th>548</th>\n",
       "      <th>549</th>\n",
       "      <th>...</th>\n",
       "      <th>1070</th>\n",
       "      <th>1071</th>\n",
       "      <th>1072</th>\n",
       "      <th>1073</th>\n",
       "      <th>1074</th>\n",
       "      <th>1075</th>\n",
       "      <th>1076</th>\n",
       "      <th>1077</th>\n",
       "      <th>1078</th>\n",
       "      <th>1079</th>\n",
       "    </tr>\n",
       "  </thead>\n",
       "  <tbody>\n",
       "    <tr>\n",
       "      <th>CO2</th>\n",
       "      <td>786.000000</td>\n",
       "      <td>786.666667</td>\n",
       "      <td>785.250000</td>\n",
       "      <td>788.000000</td>\n",
       "      <td>791.250000</td>\n",
       "      <td>808.75</td>\n",
       "      <td>812.00</td>\n",
       "      <td>811.000000</td>\n",
       "      <td>817.75</td>\n",
       "      <td>833.25</td>\n",
       "      <td>...</td>\n",
       "      <td>878.50</td>\n",
       "      <td>887.00</td>\n",
       "      <td>882.250000</td>\n",
       "      <td>879.250000</td>\n",
       "      <td>866.00</td>\n",
       "      <td>866.00</td>\n",
       "      <td>863.00</td>\n",
       "      <td>853.25</td>\n",
       "      <td>858.000000</td>\n",
       "      <td>852.50</td>\n",
       "    </tr>\n",
       "    <tr>\n",
       "      <th>CO2</th>\n",
       "      <td>643.666667</td>\n",
       "      <td>642.000000</td>\n",
       "      <td>639.333333</td>\n",
       "      <td>648.000000</td>\n",
       "      <td>649.000000</td>\n",
       "      <td>654.00</td>\n",
       "      <td>660.00</td>\n",
       "      <td>677.333333</td>\n",
       "      <td>698.20</td>\n",
       "      <td>709.25</td>\n",
       "      <td>...</td>\n",
       "      <td>812.00</td>\n",
       "      <td>801.00</td>\n",
       "      <td>801.000000</td>\n",
       "      <td>798.750000</td>\n",
       "      <td>805.75</td>\n",
       "      <td>802.25</td>\n",
       "      <td>791.50</td>\n",
       "      <td>790.50</td>\n",
       "      <td>780.500000</td>\n",
       "      <td>781.00</td>\n",
       "    </tr>\n",
       "    <tr>\n",
       "      <th>CO2</th>\n",
       "      <td>450.250000</td>\n",
       "      <td>454.750000</td>\n",
       "      <td>455.000000</td>\n",
       "      <td>455.333333</td>\n",
       "      <td>457.000000</td>\n",
       "      <td>461.50</td>\n",
       "      <td>458.00</td>\n",
       "      <td>461.000000</td>\n",
       "      <td>458.00</td>\n",
       "      <td>460.00</td>\n",
       "      <td>...</td>\n",
       "      <td>431.00</td>\n",
       "      <td>430.00</td>\n",
       "      <td>436.666667</td>\n",
       "      <td>439.333333</td>\n",
       "      <td>437.00</td>\n",
       "      <td>443.50</td>\n",
       "      <td>435.00</td>\n",
       "      <td>434.00</td>\n",
       "      <td>437.666667</td>\n",
       "      <td>441.50</td>\n",
       "    </tr>\n",
       "    <tr>\n",
       "      <th>CO2</th>\n",
       "      <td>430.666667</td>\n",
       "      <td>428.750000</td>\n",
       "      <td>430.750000</td>\n",
       "      <td>437.250000</td>\n",
       "      <td>438.000000</td>\n",
       "      <td>434.50</td>\n",
       "      <td>435.00</td>\n",
       "      <td>435.250000</td>\n",
       "      <td>437.75</td>\n",
       "      <td>435.00</td>\n",
       "      <td>...</td>\n",
       "      <td>428.00</td>\n",
       "      <td>427.50</td>\n",
       "      <td>428.000000</td>\n",
       "      <td>425.000000</td>\n",
       "      <td>426.50</td>\n",
       "      <td>426.00</td>\n",
       "      <td>422.00</td>\n",
       "      <td>426.00</td>\n",
       "      <td>423.500000</td>\n",
       "      <td>424.00</td>\n",
       "    </tr>\n",
       "    <tr>\n",
       "      <th>CO2</th>\n",
       "      <td>541.000000</td>\n",
       "      <td>546.000000</td>\n",
       "      <td>553.000000</td>\n",
       "      <td>559.750000</td>\n",
       "      <td>572.333333</td>\n",
       "      <td>578.75</td>\n",
       "      <td>595.00</td>\n",
       "      <td>599.000000</td>\n",
       "      <td>606.50</td>\n",
       "      <td>622.00</td>\n",
       "      <td>...</td>\n",
       "      <td>1871.25</td>\n",
       "      <td>1863.75</td>\n",
       "      <td>1859.333333</td>\n",
       "      <td>1855.000000</td>\n",
       "      <td>1851.25</td>\n",
       "      <td>1845.00</td>\n",
       "      <td>1839.25</td>\n",
       "      <td>1831.00</td>\n",
       "      <td>1830.000000</td>\n",
       "      <td>1826.00</td>\n",
       "    </tr>\n",
       "    <tr>\n",
       "      <th>CO2</th>\n",
       "      <td>536.000000</td>\n",
       "      <td>532.670000</td>\n",
       "      <td>536.000000</td>\n",
       "      <td>538.670000</td>\n",
       "      <td>540.000000</td>\n",
       "      <td>549.00</td>\n",
       "      <td>549.50</td>\n",
       "      <td>547.000000</td>\n",
       "      <td>549.00</td>\n",
       "      <td>560.00</td>\n",
       "      <td>...</td>\n",
       "      <td>575.00</td>\n",
       "      <td>571.00</td>\n",
       "      <td>573.000000</td>\n",
       "      <td>573.000000</td>\n",
       "      <td>575.67</td>\n",
       "      <td>578.50</td>\n",
       "      <td>577.50</td>\n",
       "      <td>576.00</td>\n",
       "      <td>573.500000</td>\n",
       "      <td>573.75</td>\n",
       "    </tr>\n",
       "    <tr>\n",
       "      <th>CO2</th>\n",
       "      <td>503.500000</td>\n",
       "      <td>505.330000</td>\n",
       "      <td>506.000000</td>\n",
       "      <td>504.250000</td>\n",
       "      <td>501.500000</td>\n",
       "      <td>502.33</td>\n",
       "      <td>503.50</td>\n",
       "      <td>505.330000</td>\n",
       "      <td>506.00</td>\n",
       "      <td>508.25</td>\n",
       "      <td>...</td>\n",
       "      <td>516.00</td>\n",
       "      <td>515.00</td>\n",
       "      <td>516.500000</td>\n",
       "      <td>518.670000</td>\n",
       "      <td>517.00</td>\n",
       "      <td>518.00</td>\n",
       "      <td>514.50</td>\n",
       "      <td>516.00</td>\n",
       "      <td>519.000000</td>\n",
       "      <td>515.50</td>\n",
       "    </tr>\n",
       "    <tr>\n",
       "      <th>CO2</th>\n",
       "      <td>615.330000</td>\n",
       "      <td>617.500000</td>\n",
       "      <td>620.000000</td>\n",
       "      <td>618.000000</td>\n",
       "      <td>621.250000</td>\n",
       "      <td>621.75</td>\n",
       "      <td>621.33</td>\n",
       "      <td>614.250000</td>\n",
       "      <td>613.00</td>\n",
       "      <td>616.25</td>\n",
       "      <td>...</td>\n",
       "      <td>668.00</td>\n",
       "      <td>673.50</td>\n",
       "      <td>675.500000</td>\n",
       "      <td>677.000000</td>\n",
       "      <td>676.00</td>\n",
       "      <td>676.00</td>\n",
       "      <td>676.00</td>\n",
       "      <td>680.50</td>\n",
       "      <td>679.330000</td>\n",
       "      <td>680.00</td>\n",
       "    </tr>\n",
       "    <tr>\n",
       "      <th>CO2</th>\n",
       "      <td>889.250000</td>\n",
       "      <td>891.670000</td>\n",
       "      <td>899.000000</td>\n",
       "      <td>901.750000</td>\n",
       "      <td>905.000000</td>\n",
       "      <td>897.50</td>\n",
       "      <td>905.00</td>\n",
       "      <td>899.000000</td>\n",
       "      <td>901.75</td>\n",
       "      <td>933.33</td>\n",
       "      <td>...</td>\n",
       "      <td>983.00</td>\n",
       "      <td>986.00</td>\n",
       "      <td>990.000000</td>\n",
       "      <td>981.670000</td>\n",
       "      <td>980.00</td>\n",
       "      <td>975.25</td>\n",
       "      <td>976.25</td>\n",
       "      <td>981.33</td>\n",
       "      <td>981.250000</td>\n",
       "      <td>985.50</td>\n",
       "    </tr>\n",
       "    <tr>\n",
       "      <th>CO2</th>\n",
       "      <td>832.750000</td>\n",
       "      <td>840.670000</td>\n",
       "      <td>838.500000</td>\n",
       "      <td>843.000000</td>\n",
       "      <td>846.500000</td>\n",
       "      <td>850.25</td>\n",
       "      <td>857.00</td>\n",
       "      <td>862.000000</td>\n",
       "      <td>851.67</td>\n",
       "      <td>850.33</td>\n",
       "      <td>...</td>\n",
       "      <td>1684.00</td>\n",
       "      <td>1699.67</td>\n",
       "      <td>1698.000000</td>\n",
       "      <td>1695.000000</td>\n",
       "      <td>1675.33</td>\n",
       "      <td>1658.67</td>\n",
       "      <td>1645.50</td>\n",
       "      <td>1652.00</td>\n",
       "      <td>1641.000000</td>\n",
       "      <td>1637.50</td>\n",
       "    </tr>\n",
       "  </tbody>\n",
       "</table>\n",
       "<p>10 rows × 540 columns</p>\n",
       "</div>"
      ],
      "text/plain": [
       "           540         541         542         543         544     545   \\\n",
       "CO2  786.000000  786.666667  785.250000  788.000000  791.250000  808.75   \n",
       "CO2  643.666667  642.000000  639.333333  648.000000  649.000000  654.00   \n",
       "CO2  450.250000  454.750000  455.000000  455.333333  457.000000  461.50   \n",
       "CO2  430.666667  428.750000  430.750000  437.250000  438.000000  434.50   \n",
       "CO2  541.000000  546.000000  553.000000  559.750000  572.333333  578.75   \n",
       "CO2  536.000000  532.670000  536.000000  538.670000  540.000000  549.00   \n",
       "CO2  503.500000  505.330000  506.000000  504.250000  501.500000  502.33   \n",
       "CO2  615.330000  617.500000  620.000000  618.000000  621.250000  621.75   \n",
       "CO2  889.250000  891.670000  899.000000  901.750000  905.000000  897.50   \n",
       "CO2  832.750000  840.670000  838.500000  843.000000  846.500000  850.25   \n",
       "\n",
       "       546         547     548     549   ...     1070     1071         1072  \\\n",
       "CO2  812.00  811.000000  817.75  833.25  ...   878.50   887.00   882.250000   \n",
       "CO2  660.00  677.333333  698.20  709.25  ...   812.00   801.00   801.000000   \n",
       "CO2  458.00  461.000000  458.00  460.00  ...   431.00   430.00   436.666667   \n",
       "CO2  435.00  435.250000  437.75  435.00  ...   428.00   427.50   428.000000   \n",
       "CO2  595.00  599.000000  606.50  622.00  ...  1871.25  1863.75  1859.333333   \n",
       "CO2  549.50  547.000000  549.00  560.00  ...   575.00   571.00   573.000000   \n",
       "CO2  503.50  505.330000  506.00  508.25  ...   516.00   515.00   516.500000   \n",
       "CO2  621.33  614.250000  613.00  616.25  ...   668.00   673.50   675.500000   \n",
       "CO2  905.00  899.000000  901.75  933.33  ...   983.00   986.00   990.000000   \n",
       "CO2  857.00  862.000000  851.67  850.33  ...  1684.00  1699.67  1698.000000   \n",
       "\n",
       "            1073     1074     1075     1076     1077         1078     1079  \n",
       "CO2   879.250000   866.00   866.00   863.00   853.25   858.000000   852.50  \n",
       "CO2   798.750000   805.75   802.25   791.50   790.50   780.500000   781.00  \n",
       "CO2   439.333333   437.00   443.50   435.00   434.00   437.666667   441.50  \n",
       "CO2   425.000000   426.50   426.00   422.00   426.00   423.500000   424.00  \n",
       "CO2  1855.000000  1851.25  1845.00  1839.25  1831.00  1830.000000  1826.00  \n",
       "CO2   573.000000   575.67   578.50   577.50   576.00   573.500000   573.75  \n",
       "CO2   518.670000   517.00   518.00   514.50   516.00   519.000000   515.50  \n",
       "CO2   677.000000   676.00   676.00   676.00   680.50   679.330000   680.00  \n",
       "CO2   981.670000   980.00   975.25   976.25   981.33   981.250000   985.50  \n",
       "CO2  1695.000000  1675.33  1658.67  1645.50  1652.00  1641.000000  1637.50  \n",
       "\n",
       "[10 rows x 540 columns]"
      ]
     },
     "execution_count": 19,
     "metadata": {},
     "output_type": "execute_result"
    }
   ],
   "source": [
    "df1"
   ]
  },
  {
   "cell_type": "code",
   "execution_count": 20,
   "metadata": {},
   "outputs": [
    {
     "name": "stderr",
     "output_type": "stream",
     "text": [
      "Using TensorFlow backend.\n",
      "/Users/marco/opt/anaconda3/lib/python3.7/site-packages/sklearn/utils/deprecation.py:144: FutureWarning: The sklearn.cluster.k_means_ module is  deprecated in version 0.22 and will be removed in version 0.24. The corresponding classes / functions should instead be imported from sklearn.cluster. Anything that cannot be imported from sklearn.cluster is now part of the private API.\n",
      "  warnings.warn(message, FutureWarning)\n"
     ]
    }
   ],
   "source": [
    "import pandas as pd\n",
    "\n",
    "from keras.optimizers import Adagrad\n",
    "from tslearn.shapelets import ShapeletModel\n",
    "from tslearn.shapelets import grabocka_params_to_shapelet_size_dict\n",
    "\n",
    "from tslearn.preprocessing import TimeSeriesScalerMinMax"
   ]
  },
  {
   "cell_type": "code",
   "execution_count": 21,
   "metadata": {},
   "outputs": [],
   "source": [
    "attributes = [col for col in df1.columns]\n",
    "X = df1[attributes].values"
   ]
  },
  {
   "cell_type": "code",
   "execution_count": 22,
   "metadata": {},
   "outputs": [
    {
     "data": {
      "text/plain": [
       "(10, 540)"
      ]
     },
     "execution_count": 22,
     "metadata": {},
     "output_type": "execute_result"
    }
   ],
   "source": [
    "X.shape"
   ]
  },
  {
   "cell_type": "code",
   "execution_count": 23,
   "metadata": {},
   "outputs": [],
   "source": [
    "y = [1, 1, 0, 0, 1, 1, 0, 0, 1, 1 ]"
   ]
  },
  {
   "cell_type": "code",
   "execution_count": 24,
   "metadata": {},
   "outputs": [
    {
     "name": "stdout",
     "output_type": "stream",
     "text": [
      "n_ts 10\n",
      "ts_sz 540\n",
      "n_classes 2\n",
      "shapelet_sizes {270: 3}\n"
     ]
    }
   ],
   "source": [
    "#X1 = X.transpose()\n",
    "n_ts, ts_sz = X.shape\n",
    "n_classes = len(set(y))\n",
    "\n",
    "# Set the number of shapelets per size as done in the original paper\n",
    "shapelet_sizes = grabocka_params_to_shapelet_size_dict(n_ts=n_ts,\n",
    "                                                       ts_sz=ts_sz,\n",
    "                                                       n_classes=n_classes,\n",
    "                                                       l=0.5,\n",
    "                                                       r=1)\n",
    "\n",
    "print('n_ts', n_ts)\n",
    "print('ts_sz', ts_sz)\n",
    "print('n_classes', n_classes)\n",
    "print('shapelet_sizes', shapelet_sizes)"
   ]
  },
  {
   "cell_type": "code",
   "execution_count": 25,
   "metadata": {},
   "outputs": [],
   "source": [
    "shp_clf = ShapeletModel(n_shapelets_per_size=shapelet_sizes,\n",
    "                        optimizer=\"sgd\",\n",
    "                        weight_regularizer=.01,\n",
    "                        max_iter=200,\n",
    "                        verbose=1)"
   ]
  },
  {
   "cell_type": "code",
   "execution_count": 26,
   "metadata": {},
   "outputs": [
    {
     "name": "stdout",
     "output_type": "stream",
     "text": [
      "WARNING:tensorflow:From /Users/marco/opt/anaconda3/lib/python3.7/site-packages/tensorflow_core/python/ops/resource_variable_ops.py:1630: calling BaseResourceVariable.__init__ (from tensorflow.python.ops.resource_variable_ops) with constraint is deprecated and will be removed in a future version.\n",
      "Instructions for updating:\n",
      "If using Keras pass *_constraint arguments to layers.\n",
      "WARNING:tensorflow:From /Users/marco/opt/anaconda3/lib/python3.7/site-packages/tensorflow_core/python/ops/nn_impl.py:183: where (from tensorflow.python.ops.array_ops) is deprecated and will be removed in a future version.\n",
      "Instructions for updating:\n",
      "Use tf.where in 2.0, which has the same broadcast rule as np.where\n",
      "WARNING:tensorflow:From /Users/marco/opt/anaconda3/lib/python3.7/site-packages/keras/backend/tensorflow_backend.py:422: The name tf.global_variables is deprecated. Please use tf.compat.v1.global_variables instead.\n",
      "\n",
      "Epoch 1/200\n",
      "10/10 [==============================] - 0s 16ms/step - loss: 235786.0938 - binary_accuracy: 0.2000 - binary_crossentropy: 235786.0781\n",
      "Epoch 2/200\n",
      "10/10 [==============================] - 0s 2ms/step - loss: 248268432.0000 - binary_accuracy: 0.6000 - binary_crossentropy: 248186960.0000\n",
      "Epoch 3/200\n",
      "10/10 [==============================] - 0s 2ms/step - loss: 98450280.0000 - binary_accuracy: 0.8000 - binary_crossentropy: 98403696.0000\n",
      "Epoch 4/200\n",
      "10/10 [==============================] - 0s 2ms/step - loss: 39724640.0000 - binary_accuracy: 0.8000 - binary_crossentropy: 39692136.0000\n",
      "Epoch 5/200\n",
      "10/10 [==============================] - 0s 2ms/step - loss: 2378809.0000 - binary_accuracy: 0.9000 - binary_crossentropy: 2349066.5000\n",
      "Epoch 6/200\n",
      "10/10 [==============================] - 0s 1ms/step - loss: 19335130.0000 - binary_accuracy: 0.9000 - binary_crossentropy: 19304164.0000\n",
      "Epoch 7/200\n",
      "10/10 [==============================] - 0s 2ms/step - loss: 14727916.0000 - binary_accuracy: 0.6000 - binary_crossentropy: 14698557.0000\n",
      "Epoch 8/200\n",
      "10/10 [==============================] - 0s 2ms/step - loss: 170715360.0000 - binary_accuracy: 0.7000 - binary_crossentropy: 170621216.0000\n",
      "Epoch 9/200\n",
      "10/10 [==============================] - 0s 2ms/step - loss: 92808224.0000 - binary_accuracy: 0.8000 - binary_crossentropy: 92740920.0000\n",
      "Epoch 10/200\n",
      "10/10 [==============================] - 0s 2ms/step - loss: 48330672.0000 - binary_accuracy: 0.8000 - binary_crossentropy: 48277860.0000\n",
      "Epoch 11/200\n",
      "10/10 [==============================] - 0s 2ms/step - loss: 18255368.0000 - binary_accuracy: 0.9000 - binary_crossentropy: 18208494.0000\n",
      "Epoch 12/200\n",
      "10/10 [==============================] - 0s 2ms/step - loss: 3499618.5000 - binary_accuracy: 0.8000 - binary_crossentropy: 3454736.0000\n",
      "Epoch 13/200\n",
      "10/10 [==============================] - 0s 2ms/step - loss: 4018567.7500 - binary_accuracy: 0.9000 - binary_crossentropy: 3974356.0000\n",
      "Epoch 14/200\n",
      "10/10 [==============================] - 0s 3ms/step - loss: 13319994.0000 - binary_accuracy: 0.9000 - binary_crossentropy: 13275384.0000\n",
      "Epoch 15/200\n",
      "10/10 [==============================] - 0s 2ms/step - loss: 6800241.0000 - binary_accuracy: 0.6000 - binary_crossentropy: 6756656.0000\n",
      "Epoch 16/200\n",
      "10/10 [==============================] - 0s 2ms/step - loss: 110377736.0000 - binary_accuracy: 0.8000 - binary_crossentropy: 110283240.0000\n",
      "Epoch 17/200\n",
      "10/10 [==============================] - 0s 2ms/step - loss: 70212048.0000 - binary_accuracy: 0.8000 - binary_crossentropy: 70136240.0000\n",
      "Epoch 18/200\n",
      "10/10 [==============================] - 0s 2ms/step - loss: 39395776.0000 - binary_accuracy: 0.9000 - binary_crossentropy: 39330976.0000\n",
      "Epoch 19/200\n",
      "10/10 [==============================] - 0s 1ms/step - loss: 25344950.0000 - binary_accuracy: 0.9000 - binary_crossentropy: 25286682.0000\n",
      "Epoch 20/200\n",
      "10/10 [==============================] - 0s 2ms/step - loss: 11930428.0000 - binary_accuracy: 0.9000 - binary_crossentropy: 11875922.0000\n",
      "Epoch 21/200\n",
      "10/10 [==============================] - 0s 3ms/step - loss: 5103906.0000 - binary_accuracy: 0.9000 - binary_crossentropy: 5050502.5000\n",
      "Epoch 22/200\n",
      "10/10 [==============================] - 0s 2ms/step - loss: 9887167.0000 - binary_accuracy: 0.9000 - binary_crossentropy: 9833870.0000\n",
      "Epoch 23/200\n",
      "10/10 [==============================] - 0s 2ms/step - loss: 6641506.5000 - binary_accuracy: 0.9000 - binary_crossentropy: 6588916.0000\n",
      "Epoch 24/200\n",
      "10/10 [==============================] - 0s 2ms/step - loss: 7876165.0000 - binary_accuracy: 0.9000 - binary_crossentropy: 7823997.0000\n",
      "Epoch 25/200\n",
      "10/10 [==============================] - 0s 2ms/step - loss: 11008837.0000 - binary_accuracy: 0.6000 - binary_crossentropy: 10956985.0000\n",
      "Epoch 26/200\n",
      "10/10 [==============================] - 0s 2ms/step - loss: 75544592.0000 - binary_accuracy: 0.8000 - binary_crossentropy: 75452496.0000\n",
      "Epoch 27/200\n",
      "10/10 [==============================] - 0s 2ms/step - loss: 47884740.0000 - binary_accuracy: 0.9000 - binary_crossentropy: 47805232.0000\n",
      "Epoch 28/200\n",
      "10/10 [==============================] - 0s 3ms/step - loss: 35684836.0000 - binary_accuracy: 0.9000 - binary_crossentropy: 35613784.0000\n",
      "Epoch 29/200\n",
      "10/10 [==============================] - 0s 2ms/step - loss: 24233978.0000 - binary_accuracy: 0.9000 - binary_crossentropy: 24168980.0000\n",
      "Epoch 30/200\n",
      "10/10 [==============================] - 0s 2ms/step - loss: 13305793.0000 - binary_accuracy: 0.9000 - binary_crossentropy: 13244590.0000\n",
      "Epoch 31/200\n",
      "10/10 [==============================] - 0s 2ms/step - loss: 5124774.5000 - binary_accuracy: 0.8000 - binary_crossentropy: 5065201.0000\n",
      "Epoch 32/200\n",
      "10/10 [==============================] - 0s 2ms/step - loss: 4787918.5000 - binary_accuracy: 0.8000 - binary_crossentropy: 4729351.0000\n",
      "Epoch 33/200\n",
      "10/10 [==============================] - 0s 2ms/step - loss: 5074034.0000 - binary_accuracy: 0.9000 - binary_crossentropy: 5016405.0000\n",
      "Epoch 34/200\n",
      "10/10 [==============================] - 0s 2ms/step - loss: 8277990.5000 - binary_accuracy: 0.9000 - binary_crossentropy: 8220657.0000\n",
      "Epoch 35/200\n",
      "10/10 [==============================] - 0s 1ms/step - loss: 6341555.0000 - binary_accuracy: 0.9000 - binary_crossentropy: 6284857.5000\n",
      "Epoch 36/200\n",
      "10/10 [==============================] - 0s 2ms/step - loss: 6594412.0000 - binary_accuracy: 0.9000 - binary_crossentropy: 6538269.0000\n",
      "Epoch 37/200\n",
      "10/10 [==============================] - 0s 1ms/step - loss: 7591347.0000 - binary_accuracy: 0.9000 - binary_crossentropy: 7535512.0000\n",
      "Epoch 38/200\n",
      "10/10 [==============================] - 0s 1ms/step - loss: 5053524.5000 - binary_accuracy: 0.8000 - binary_crossentropy: 4998500.0000\n",
      "Epoch 39/200\n",
      "10/10 [==============================] - 0s 1ms/step - loss: 4721429.0000 - binary_accuracy: 0.8000 - binary_crossentropy: 4667395.5000\n",
      "Epoch 40/200\n",
      "10/10 [==============================] - 0s 3ms/step - loss: 4392144.0000 - binary_accuracy: 0.8000 - binary_crossentropy: 4339035.0000\n",
      "Epoch 41/200\n",
      "10/10 [==============================] - 0s 2ms/step - loss: 4062337.5000 - binary_accuracy: 0.8000 - binary_crossentropy: 4010087.5000\n",
      "Epoch 42/200\n",
      "10/10 [==============================] - 0s 3ms/step - loss: 5298814.5000 - binary_accuracy: 0.9000 - binary_crossentropy: 5247357.0000\n",
      "Epoch 43/200\n",
      "10/10 [==============================] - 0s 3ms/step - loss: 7112063.5000 - binary_accuracy: 0.9000 - binary_crossentropy: 7060961.5000\n",
      "Epoch 44/200\n",
      "10/10 [==============================] - 0s 2ms/step - loss: 6554538.0000 - binary_accuracy: 0.9000 - binary_crossentropy: 6503858.5000\n",
      "Epoch 45/200\n",
      "10/10 [==============================] - 0s 2ms/step - loss: 5455406.0000 - binary_accuracy: 0.9000 - binary_crossentropy: 5405339.0000\n",
      "Epoch 46/200\n",
      "10/10 [==============================] - 0s 2ms/step - loss: 9614781.0000 - binary_accuracy: 0.6000 - binary_crossentropy: 9564814.0000\n",
      "Epoch 47/200\n",
      "10/10 [==============================] - 0s 2ms/step - loss: 55513600.0000 - binary_accuracy: 0.8000 - binary_crossentropy: 55430356.0000\n",
      "Epoch 48/200\n",
      "10/10 [==============================] - 0s 2ms/step - loss: 38868064.0000 - binary_accuracy: 0.9000 - binary_crossentropy: 38793996.0000\n",
      "Epoch 49/200\n",
      "10/10 [==============================] - 0s 2ms/step - loss: 29148866.0000 - binary_accuracy: 0.9000 - binary_crossentropy: 29081676.0000\n"
     ]
    },
    {
     "name": "stdout",
     "output_type": "stream",
     "text": [
      "Epoch 50/200\n",
      "10/10 [==============================] - 0s 2ms/step - loss: 19966588.0000 - binary_accuracy: 0.9000 - binary_crossentropy: 19904364.0000\n",
      "Epoch 51/200\n",
      "10/10 [==============================] - 0s 2ms/step - loss: 11162208.0000 - binary_accuracy: 0.9000 - binary_crossentropy: 11103134.0000\n",
      "Epoch 52/200\n",
      "10/10 [==============================] - 0s 2ms/step - loss: 4993800.5000 - binary_accuracy: 0.8000 - binary_crossentropy: 4936130.5000\n",
      "Epoch 53/200\n",
      "10/10 [==============================] - 0s 2ms/step - loss: 4688345.0000 - binary_accuracy: 0.8000 - binary_crossentropy: 4631657.5000\n",
      "Epoch 54/200\n",
      "10/10 [==============================] - 0s 1ms/step - loss: 4606486.5000 - binary_accuracy: 0.9000 - binary_crossentropy: 4550720.0000\n",
      "Epoch 55/200\n",
      "10/10 [==============================] - 0s 2ms/step - loss: 6921060.5000 - binary_accuracy: 0.9000 - binary_crossentropy: 6865649.0000\n",
      "Epoch 56/200\n",
      "10/10 [==============================] - 0s 2ms/step - loss: 5661024.0000 - binary_accuracy: 0.9000 - binary_crossentropy: 5606177.0000\n",
      "Epoch 57/200\n",
      "10/10 [==============================] - 0s 2ms/step - loss: 5502296.5000 - binary_accuracy: 0.9000 - binary_crossentropy: 5448019.0000\n",
      "Epoch 58/200\n",
      "10/10 [==============================] - 0s 2ms/step - loss: 6702568.0000 - binary_accuracy: 0.9000 - binary_crossentropy: 6648578.0000\n",
      "Epoch 59/200\n",
      "10/10 [==============================] - 0s 2ms/step - loss: 4836437.0000 - binary_accuracy: 0.8000 - binary_crossentropy: 4783228.5000\n",
      "Epoch 60/200\n",
      "10/10 [==============================] - 0s 2ms/step - loss: 4536012.5000 - binary_accuracy: 0.8000 - binary_crossentropy: 4483755.0000\n",
      "Epoch 61/200\n",
      "10/10 [==============================] - 0s 2ms/step - loss: 4239522.0000 - binary_accuracy: 0.8000 - binary_crossentropy: 4188154.5000\n",
      "Epoch 62/200\n",
      "10/10 [==============================] - 0s 2ms/step - loss: 3986609.7500 - binary_accuracy: 0.9000 - binary_crossentropy: 3936073.2500\n",
      "Epoch 63/200\n",
      "10/10 [==============================] - 0s 2ms/step - loss: 6932268.0000 - binary_accuracy: 0.9000 - binary_crossentropy: 6881973.0000\n",
      "Epoch 64/200\n",
      "10/10 [==============================] - 0s 4ms/step - loss: 5039774.5000 - binary_accuracy: 0.9000 - binary_crossentropy: 4990060.0000\n",
      "Epoch 65/200\n",
      "10/10 [==============================] - 0s 3ms/step - loss: 5525815.5000 - binary_accuracy: 0.9000 - binary_crossentropy: 5476557.0000\n",
      "Epoch 66/200\n",
      "10/10 [==============================] - 0s 2ms/step - loss: 6079881.0000 - binary_accuracy: 0.9000 - binary_crossentropy: 6030927.5000\n",
      "Epoch 67/200\n",
      "10/10 [==============================] - 0s 2ms/step - loss: 4407698.5000 - binary_accuracy: 0.8000 - binary_crossentropy: 4359413.0000\n",
      "Epoch 68/200\n",
      "10/10 [==============================] - 0s 2ms/step - loss: 4114579.0000 - binary_accuracy: 0.8000 - binary_crossentropy: 4067158.0000\n",
      "Epoch 69/200\n",
      "10/10 [==============================] - 0s 3ms/step - loss: 3825170.0000 - binary_accuracy: 0.8000 - binary_crossentropy: 3778554.5000\n",
      "Epoch 70/200\n",
      "10/10 [==============================] - 0s 3ms/step - loss: 3534338.7500 - binary_accuracy: 0.8000 - binary_crossentropy: 3488470.7500\n",
      "Epoch 71/200\n",
      "10/10 [==============================] - 0s 2ms/step - loss: 4566053.5000 - binary_accuracy: 0.9000 - binary_crossentropy: 4520875.0000\n",
      "Epoch 72/200\n",
      "10/10 [==============================] - 0s 2ms/step - loss: 5493693.5000 - binary_accuracy: 0.9000 - binary_crossentropy: 5448882.5000\n",
      "Epoch 73/200\n",
      "10/10 [==============================] - 0s 2ms/step - loss: 5608467.5000 - binary_accuracy: 0.9000 - binary_crossentropy: 5563963.0000\n",
      "Epoch 74/200\n",
      "10/10 [==============================] - 0s 2ms/step - loss: 4113258.0000 - binary_accuracy: 0.9000 - binary_crossentropy: 4069333.5000\n",
      "Epoch 75/200\n",
      "10/10 [==============================] - 0s 2ms/step - loss: 7826849.5000 - binary_accuracy: 0.6000 - binary_crossentropy: 7782961.5000\n",
      "Epoch 76/200\n",
      "10/10 [==============================] - 0s 2ms/step - loss: 44016224.0000 - binary_accuracy: 0.9000 - binary_crossentropy: 43944480.0000\n",
      "Epoch 77/200\n",
      "10/10 [==============================] - 0s 2ms/step - loss: 35414584.0000 - binary_accuracy: 0.9000 - binary_crossentropy: 35350880.0000\n",
      "Epoch 78/200\n",
      "10/10 [==============================] - 0s 2ms/step - loss: 27395120.0000 - binary_accuracy: 0.9000 - binary_crossentropy: 27337766.0000\n",
      "Epoch 79/200\n",
      "10/10 [==============================] - 0s 1ms/step - loss: 19818526.0000 - binary_accuracy: 0.9000 - binary_crossentropy: 19765940.0000\n",
      "Epoch 80/200\n",
      "10/10 [==============================] - 0s 2ms/step - loss: 12566294.0000 - binary_accuracy: 0.9000 - binary_crossentropy: 12516980.0000\n",
      "Epoch 81/200\n",
      "10/10 [==============================] - 0s 2ms/step - loss: 5527130.5000 - binary_accuracy: 0.9000 - binary_crossentropy: 5479650.5000\n",
      "Epoch 82/200\n",
      "10/10 [==============================] - 0s 2ms/step - loss: 4924372.0000 - binary_accuracy: 0.9000 - binary_crossentropy: 4877326.0000\n",
      "Epoch 83/200\n",
      "10/10 [==============================] - 0s 2ms/step - loss: 4393042.0000 - binary_accuracy: 0.8000 - binary_crossentropy: 4346529.0000\n",
      "Epoch 84/200\n",
      "10/10 [==============================] - 0s 2ms/step - loss: 4123236.2500 - binary_accuracy: 0.8000 - binary_crossentropy: 4077586.5000\n",
      "Epoch 85/200\n",
      "10/10 [==============================] - 0s 2ms/step - loss: 3856944.5000 - binary_accuracy: 0.8000 - binary_crossentropy: 3812104.0000\n",
      "Epoch 86/200\n",
      "10/10 [==============================] - 0s 4ms/step - loss: 3589025.5000 - binary_accuracy: 0.8000 - binary_crossentropy: 3544940.7500\n",
      "Epoch 87/200\n",
      "10/10 [==============================] - 0s 2ms/step - loss: 3798237.2500 - binary_accuracy: 0.9000 - binary_crossentropy: 3754854.7500\n",
      "Epoch 88/200\n",
      "10/10 [==============================] - 0s 2ms/step - loss: 5235975.5000 - binary_accuracy: 0.9000 - binary_crossentropy: 5192902.5000\n",
      "Epoch 89/200\n",
      "10/10 [==============================] - 0s 3ms/step - loss: 4701325.0000 - binary_accuracy: 0.9000 - binary_crossentropy: 4658633.5000\n",
      "Epoch 90/200\n",
      "10/10 [==============================] - 0s 2ms/step - loss: 4027234.0000 - binary_accuracy: 0.9000 - binary_crossentropy: 3985035.2500\n",
      "Epoch 91/200\n",
      "10/10 [==============================] - 0s 3ms/step - loss: 5595410.5000 - binary_accuracy: 0.9000 - binary_crossentropy: 5553356.5000\n",
      "Epoch 92/200\n",
      "10/10 [==============================] - 0s 2ms/step - loss: 3705296.5000 - binary_accuracy: 0.8000 - binary_crossentropy: 3663916.7500\n",
      "Epoch 93/200\n",
      "10/10 [==============================] - 0s 2ms/step - loss: 3444593.2500 - binary_accuracy: 0.8000 - binary_crossentropy: 3403938.7500\n",
      "Epoch 94/200\n",
      "10/10 [==============================] - 0s 2ms/step - loss: 3182889.2500 - binary_accuracy: 0.8000 - binary_crossentropy: 3142907.5000\n",
      "Epoch 95/200\n",
      "10/10 [==============================] - 0s 2ms/step - loss: 3655946.0000 - binary_accuracy: 0.9000 - binary_crossentropy: 3616584.7500\n",
      "Epoch 96/200\n",
      "10/10 [==============================] - 0s 3ms/step - loss: 4858817.5000 - binary_accuracy: 0.9000 - binary_crossentropy: 4819745.0000\n",
      "Epoch 97/200\n",
      "10/10 [==============================] - 0s 2ms/step - loss: 4554720.5000 - binary_accuracy: 0.9000 - binary_crossentropy: 4515964.5000\n",
      "Epoch 98/200\n",
      "10/10 [==============================] - 0s 3ms/step - loss: 3662980.2500 - binary_accuracy: 0.9000 - binary_crossentropy: 3624695.2500\n",
      "Epoch 99/200\n",
      "10/10 [==============================] - 0s 3ms/step - loss: 5444604.0000 - binary_accuracy: 0.9000 - binary_crossentropy: 5406400.5000\n",
      "Epoch 100/200\n",
      "10/10 [==============================] - 0s 2ms/step - loss: 3314064.2500 - binary_accuracy: 0.8000 - binary_crossentropy: 3276512.5000\n",
      "Epoch 101/200\n",
      "10/10 [==============================] - 0s 3ms/step - loss: 3059090.5000 - binary_accuracy: 0.8000 - binary_crossentropy: 3022185.2500\n",
      "Epoch 102/200\n",
      "10/10 [==============================] - 0s 3ms/step - loss: 2803202.0000 - binary_accuracy: 0.8000 - binary_crossentropy: 2766892.2500\n",
      "Epoch 103/200\n",
      "10/10 [==============================] - 0s 2ms/step - loss: 3597577.5000 - binary_accuracy: 0.9000 - binary_crossentropy: 3561812.0000\n",
      "Epoch 104/200\n",
      "10/10 [==============================] - 0s 3ms/step - loss: 4429789.0000 - binary_accuracy: 0.9000 - binary_crossentropy: 4394308.0000\n"
     ]
    },
    {
     "name": "stdout",
     "output_type": "stream",
     "text": [
      "Epoch 105/200\n",
      "10/10 [==============================] - 0s 2ms/step - loss: 4490841.0000 - binary_accuracy: 0.9000 - binary_crossentropy: 4455600.5000\n",
      "Epoch 106/200\n",
      "10/10 [==============================] - 0s 2ms/step - loss: 3247735.5000 - binary_accuracy: 0.9000 - binary_crossentropy: 3212960.7500\n",
      "Epoch 107/200\n",
      "10/10 [==============================] - 0s 2ms/step - loss: 7702904.0000 - binary_accuracy: 0.6000 - binary_crossentropy: 7668137.5000\n",
      "Epoch 108/200\n",
      "10/10 [==============================] - 0s 2ms/step - loss: 36719156.0000 - binary_accuracy: 0.9000 - binary_crossentropy: 36660768.0000\n",
      "Epoch 109/200\n",
      "10/10 [==============================] - 0s 2ms/step - loss: 29749258.0000 - binary_accuracy: 0.9000 - binary_crossentropy: 29697590.0000\n",
      "Epoch 110/200\n",
      "10/10 [==============================] - 0s 2ms/step - loss: 23213076.0000 - binary_accuracy: 0.9000 - binary_crossentropy: 23166756.0000\n",
      "Epoch 111/200\n",
      "10/10 [==============================] - 0s 2ms/step - loss: 17010602.0000 - binary_accuracy: 0.9000 - binary_crossentropy: 16968342.0000\n",
      "Epoch 112/200\n",
      "10/10 [==============================] - 0s 2ms/step - loss: 11052868.0000 - binary_accuracy: 0.9000 - binary_crossentropy: 11013440.0000\n",
      "Epoch 113/200\n",
      "10/10 [==============================] - 0s 2ms/step - loss: 5260059.0000 - binary_accuracy: 0.9000 - binary_crossentropy: 5222280.5000\n",
      "Epoch 114/200\n",
      "10/10 [==============================] - 0s 2ms/step - loss: 3334860.7500 - binary_accuracy: 0.9000 - binary_crossentropy: 3297580.0000\n",
      "Epoch 115/200\n",
      "10/10 [==============================] - 0s 2ms/step - loss: 4203219.5000 - binary_accuracy: 0.9000 - binary_crossentropy: 4166240.7500\n",
      "Epoch 116/200\n",
      "10/10 [==============================] - 0s 2ms/step - loss: 4113311.7500 - binary_accuracy: 0.9000 - binary_crossentropy: 4076622.5000\n",
      "Epoch 117/200\n",
      "10/10 [==============================] - 0s 2ms/step - loss: 3404242.5000 - binary_accuracy: 0.8000 - binary_crossentropy: 3368012.7500\n",
      "Epoch 118/200\n",
      "10/10 [==============================] - 0s 1ms/step - loss: 3168959.5000 - binary_accuracy: 0.8000 - binary_crossentropy: 3133396.0000\n",
      "Epoch 119/200\n",
      "10/10 [==============================] - 0s 2ms/step - loss: 2932892.5000 - binary_accuracy: 0.8000 - binary_crossentropy: 2897948.2500\n",
      "Epoch 120/200\n",
      "10/10 [==============================] - 0s 1ms/step - loss: 2699266.5000 - binary_accuracy: 0.8000 - binary_crossentropy: 2664894.0000\n",
      "Epoch 121/200\n",
      "10/10 [==============================] - 0s 1ms/step - loss: 3447812.7500 - binary_accuracy: 0.9000 - binary_crossentropy: 3413965.2500\n",
      "Epoch 122/200\n",
      "10/10 [==============================] - 0s 1ms/step - loss: 3638143.2500 - binary_accuracy: 0.9000 - binary_crossentropy: 3604623.5000\n",
      "Epoch 123/200\n",
      "10/10 [==============================] - 0s 2ms/step - loss: 4225202.0000 - binary_accuracy: 0.9000 - binary_crossentropy: 4191863.2500\n",
      "Epoch 124/200\n",
      "10/10 [==============================] - 0s 4ms/step - loss: 3021299.2500 - binary_accuracy: 0.8000 - binary_crossentropy: 2988445.7500\n",
      "Epoch 125/200\n",
      "10/10 [==============================] - 0s 2ms/step - loss: 2790484.5000 - binary_accuracy: 0.8000 - binary_crossentropy: 2758220.2500\n",
      "Epoch 126/200\n",
      "10/10 [==============================] - 0s 2ms/step - loss: 2558876.7500 - binary_accuracy: 0.8000 - binary_crossentropy: 2527155.5000\n",
      "Epoch 127/200\n",
      "10/10 [==============================] - 0s 2ms/step - loss: 2825951.7500 - binary_accuracy: 0.9000 - binary_crossentropy: 2794727.2500\n",
      "Epoch 128/200\n",
      "10/10 [==============================] - 0s 2ms/step - loss: 4065773.7500 - binary_accuracy: 0.9000 - binary_crossentropy: 4034756.0000\n",
      "Epoch 129/200\n",
      "10/10 [==============================] - 0s 2ms/step - loss: 3604884.7500 - binary_accuracy: 0.9000 - binary_crossentropy: 3574138.0000\n",
      "Epoch 130/200\n",
      "10/10 [==============================] - 0s 2ms/step - loss: 3030185.5000 - binary_accuracy: 0.9000 - binary_crossentropy: 2999803.5000\n",
      "Epoch 131/200\n",
      "10/10 [==============================] - 0s 2ms/step - loss: 4404438.0000 - binary_accuracy: 0.8000 - binary_crossentropy: 4374123.0000\n",
      "Epoch 132/200\n",
      "10/10 [==============================] - 0s 2ms/step - loss: 10498792.0000 - binary_accuracy: 0.9000 - binary_crossentropy: 10466298.0000\n",
      "Epoch 133/200\n",
      "10/10 [==============================] - 0s 2ms/step - loss: 5021313.0000 - binary_accuracy: 0.9000 - binary_crossentropy: 4990385.5000\n",
      "Epoch 134/200\n",
      "10/10 [==============================] - 0s 3ms/step - loss: 2688976.2500 - binary_accuracy: 0.9000 - binary_crossentropy: 2658525.5000\n",
      "Epoch 135/200\n",
      "10/10 [==============================] - 0s 3ms/step - loss: 3999824.5000 - binary_accuracy: 0.9000 - binary_crossentropy: 3969566.5000\n",
      "Epoch 136/200\n",
      "10/10 [==============================] - 0s 3ms/step - loss: 3447873.5000 - binary_accuracy: 0.9000 - binary_crossentropy: 3417891.2500\n",
      "Epoch 137/200\n",
      "10/10 [==============================] - 0s 3ms/step - loss: 2990498.7500 - binary_accuracy: 0.9000 - binary_crossentropy: 2960863.0000\n",
      "Epoch 138/200\n",
      "10/10 [==============================] - 0s 2ms/step - loss: 4200187.5000 - binary_accuracy: 0.9000 - binary_crossentropy: 4170628.5000\n",
      "Epoch 139/200\n",
      "10/10 [==============================] - 0s 3ms/step - loss: 2600365.7500 - binary_accuracy: 0.8000 - binary_crossentropy: 2571305.5000\n",
      "Epoch 140/200\n",
      "10/10 [==============================] - 0s 3ms/step - loss: 2378240.0000 - binary_accuracy: 0.8000 - binary_crossentropy: 2349684.7500\n",
      "Epoch 141/200\n",
      "10/10 [==============================] - 0s 1ms/step - loss: 2170165.2500 - binary_accuracy: 0.9000 - binary_crossentropy: 2142070.5000\n",
      "Epoch 142/200\n",
      "10/10 [==============================] - 0s 1ms/step - loss: 4313934.5000 - binary_accuracy: 0.9000 - binary_crossentropy: 4285934.0000\n",
      "Epoch 143/200\n",
      "10/10 [==============================] - 0s 2ms/step - loss: 2927234.0000 - binary_accuracy: 0.9000 - binary_crossentropy: 2899578.5000\n",
      "Epoch 144/200\n",
      "10/10 [==============================] - 0s 1ms/step - loss: 3308968.0000 - binary_accuracy: 0.9000 - binary_crossentropy: 3281560.0000\n",
      "Epoch 145/200\n",
      "10/10 [==============================] - 0s 2ms/step - loss: 3676911.2500 - binary_accuracy: 0.9000 - binary_crossentropy: 3649650.5000\n",
      "Epoch 146/200\n",
      "10/10 [==============================] - 0s 1ms/step - loss: 2474295.2500 - binary_accuracy: 0.8000 - binary_crossentropy: 2447433.7500\n",
      "Epoch 147/200\n",
      "10/10 [==============================] - 0s 1ms/step - loss: 2254378.0000 - binary_accuracy: 0.8000 - binary_crossentropy: 2227996.0000\n",
      "Epoch 148/200\n",
      "10/10 [==============================] - 0s 3ms/step - loss: 2036039.2500 - binary_accuracy: 0.8000 - binary_crossentropy: 2010092.7500\n",
      "Epoch 149/200\n",
      "10/10 [==============================] - 0s 2ms/step - loss: 2467028.2500 - binary_accuracy: 0.9000 - binary_crossentropy: 2441473.5000\n",
      "Epoch 150/200\n",
      "10/10 [==============================] - 0s 3ms/step - loss: 3604910.5000 - binary_accuracy: 0.9000 - binary_crossentropy: 3579514.5000\n",
      "Epoch 151/200\n",
      "10/10 [==============================] - 0s 3ms/step - loss: 3217524.5000 - binary_accuracy: 0.9000 - binary_crossentropy: 3192338.5000\n",
      "Epoch 152/200\n",
      "10/10 [==============================] - 0s 3ms/step - loss: 2612849.0000 - binary_accuracy: 0.9000 - binary_crossentropy: 2587973.5000\n",
      "Epoch 153/200\n",
      "10/10 [==============================] - 0s 2ms/step - loss: 7136574.0000 - binary_accuracy: 0.6000 - binary_crossentropy: 7111713.5000\n",
      "Epoch 154/200\n",
      "10/10 [==============================] - 0s 2ms/step - loss: 30015410.0000 - binary_accuracy: 0.9000 - binary_crossentropy: 29970886.0000\n",
      "Epoch 155/200\n",
      "10/10 [==============================] - 0s 2ms/step - loss: 24532828.0000 - binary_accuracy: 0.9000 - binary_crossentropy: 24493814.0000\n",
      "Epoch 156/200\n",
      "10/10 [==============================] - 0s 2ms/step - loss: 19361182.0000 - binary_accuracy: 0.9000 - binary_crossentropy: 19326596.0000\n",
      "Epoch 157/200\n",
      "10/10 [==============================] - 0s 2ms/step - loss: 14432978.0000 - binary_accuracy: 0.9000 - binary_crossentropy: 14401797.0000\n",
      "Epoch 158/200\n",
      "10/10 [==============================] - 0s 2ms/step - loss: 9683757.0000 - binary_accuracy: 0.9000 - binary_crossentropy: 9655007.0000\n",
      "Epoch 159/200\n",
      "10/10 [==============================] - 0s 3ms/step - loss: 5059761.5000 - binary_accuracy: 0.9000 - binary_crossentropy: 5032499.0000\n"
     ]
    },
    {
     "name": "stdout",
     "output_type": "stream",
     "text": [
      "Epoch 160/200\n",
      "10/10 [==============================] - 0s 2ms/step - loss: 2180187.2500 - binary_accuracy: 0.8000 - binary_crossentropy: 2153492.0000\n",
      "Epoch 161/200\n",
      "10/10 [==============================] - 0s 4ms/step - loss: 2375240.5000 - binary_accuracy: 0.9000 - binary_crossentropy: 2348967.5000\n",
      "Epoch 162/200\n",
      "10/10 [==============================] - 0s 2ms/step - loss: 3280338.5000 - binary_accuracy: 0.9000 - binary_crossentropy: 3254255.5000\n",
      "Epoch 163/200\n",
      "10/10 [==============================] - 0s 3ms/step - loss: 3037233.5000 - binary_accuracy: 0.9000 - binary_crossentropy: 3011365.0000\n",
      "Epoch 164/200\n",
      "10/10 [==============================] - 0s 2ms/step - loss: 2442600.2500 - binary_accuracy: 0.8000 - binary_crossentropy: 2417055.2500\n",
      "Epoch 165/200\n",
      "10/10 [==============================] - 0s 3ms/step - loss: 2239659.0000 - binary_accuracy: 0.8000 - binary_crossentropy: 2214588.5000\n",
      "Epoch 166/200\n",
      "10/10 [==============================] - 0s 2ms/step - loss: 2037963.5000 - binary_accuracy: 0.8000 - binary_crossentropy: 2013327.0000\n",
      "Epoch 167/200\n",
      "10/10 [==============================] - 0s 2ms/step - loss: 2085626.2500 - binary_accuracy: 0.9000 - binary_crossentropy: 2061383.3750\n",
      "Epoch 168/200\n",
      "10/10 [==============================] - 0s 3ms/step - loss: 3388746.0000 - binary_accuracy: 0.9000 - binary_crossentropy: 3364637.5000\n",
      "Epoch 169/200\n",
      "10/10 [==============================] - 0s 2ms/step - loss: 2747959.0000 - binary_accuracy: 0.9000 - binary_crossentropy: 2724089.5000\n",
      "Epoch 170/200\n",
      "10/10 [==============================] - 0s 2ms/step - loss: 2506736.2500 - binary_accuracy: 0.9000 - binary_crossentropy: 2483135.0000\n",
      "Epoch 171/200\n",
      "10/10 [==============================] - 0s 2ms/step - loss: 3404429.7500 - binary_accuracy: 0.9000 - binary_crossentropy: 3380893.5000\n",
      "Epoch 172/200\n",
      "10/10 [==============================] - 0s 3ms/step - loss: 2102224.7500 - binary_accuracy: 0.8000 - binary_crossentropy: 2079089.3750\n",
      "Epoch 173/200\n",
      "10/10 [==============================] - 0s 1ms/step - loss: 1902776.5000 - binary_accuracy: 0.8000 - binary_crossentropy: 1880047.3750\n",
      "Epoch 174/200\n",
      "10/10 [==============================] - 0s 2ms/step - loss: 1825564.8750 - binary_accuracy: 0.9000 - binary_crossentropy: 1803202.0000\n",
      "Epoch 175/200\n",
      "10/10 [==============================] - 0s 2ms/step - loss: 3460545.0000 - binary_accuracy: 0.9000 - binary_crossentropy: 3438268.5000\n",
      "Epoch 176/200\n",
      "10/10 [==============================] - 0s 3ms/step - loss: 2484840.5000 - binary_accuracy: 0.9000 - binary_crossentropy: 2462822.5000\n",
      "Epoch 177/200\n",
      "10/10 [==============================] - 0s 3ms/step - loss: 2584238.0000 - binary_accuracy: 0.9000 - binary_crossentropy: 2562439.5000\n",
      "Epoch 178/200\n",
      "10/10 [==============================] - 0s 2ms/step - loss: 3138615.5000 - binary_accuracy: 0.9000 - binary_crossentropy: 3116902.5000\n",
      "Epoch 179/200\n",
      "10/10 [==============================] - 0s 2ms/step - loss: 1972250.7500 - binary_accuracy: 0.8000 - binary_crossentropy: 1950889.3750\n",
      "Epoch 180/200\n",
      "10/10 [==============================] - 0s 3ms/step - loss: 1776106.6250 - binary_accuracy: 0.8000 - binary_crossentropy: 1755125.2500\n",
      "Epoch 181/200\n",
      "10/10 [==============================] - 0s 2ms/step - loss: 1601695.5000 - binary_accuracy: 0.9000 - binary_crossentropy: 1581055.0000\n",
      "Epoch 182/200\n",
      "10/10 [==============================] - 0s 2ms/step - loss: 3505115.7500 - binary_accuracy: 0.9000 - binary_crossentropy: 3484520.5000\n",
      "Epoch 183/200\n",
      "10/10 [==============================] - 0s 2ms/step - loss: 2257665.5000 - binary_accuracy: 0.9000 - binary_crossentropy: 2237342.7500\n",
      "Epoch 184/200\n",
      "10/10 [==============================] - 0s 2ms/step - loss: 2636332.5000 - binary_accuracy: 0.9000 - binary_crossentropy: 2616187.5000\n",
      "Epoch 185/200\n",
      "10/10 [==============================] - 0s 2ms/step - loss: 3090054.0000 - binary_accuracy: 0.7000 - binary_crossentropy: 3070010.0000\n",
      "Epoch 186/200\n",
      "10/10 [==============================] - 0s 2ms/step - loss: 17844822.0000 - binary_accuracy: 0.9000 - binary_crossentropy: 17816428.0000\n",
      "Epoch 187/200\n",
      "10/10 [==============================] - 0s 2ms/step - loss: 13423456.0000 - binary_accuracy: 0.9000 - binary_crossentropy: 13398211.0000\n",
      "Epoch 188/200\n",
      "10/10 [==============================] - 0s 2ms/step - loss: 9158961.0000 - binary_accuracy: 0.9000 - binary_crossentropy: 9135990.0000\n",
      "Epoch 189/200\n",
      "10/10 [==============================] - 0s 3ms/step - loss: 5003957.5000 - binary_accuracy: 0.9000 - binary_crossentropy: 4982413.0000\n",
      "Epoch 190/200\n",
      "10/10 [==============================] - 0s 2ms/step - loss: 1809942.5000 - binary_accuracy: 0.8000 - binary_crossentropy: 1788998.3750\n",
      "Epoch 191/200\n",
      "10/10 [==============================] - 0s 3ms/step - loss: 1621346.2500 - binary_accuracy: 0.8000 - binary_crossentropy: 1600750.3750\n",
      "Epoch 192/200\n",
      "10/10 [==============================] - 0s 3ms/step - loss: 2166002.0000 - binary_accuracy: 0.9000 - binary_crossentropy: 2145716.7500\n",
      "Epoch 193/200\n",
      "10/10 [==============================] - 0s 2ms/step - loss: 2541113.2500 - binary_accuracy: 0.9000 - binary_crossentropy: 2521007.5000\n",
      "Epoch 194/200\n",
      "10/10 [==============================] - 0s 1ms/step - loss: 2780072.0000 - binary_accuracy: 0.9000 - binary_crossentropy: 2760076.5000\n",
      "Epoch 195/200\n",
      "10/10 [==============================] - 0s 1ms/step - loss: 1867692.1250 - binary_accuracy: 0.8000 - binary_crossentropy: 1848000.0000\n",
      "Epoch 196/200\n",
      "10/10 [==============================] - 0s 2ms/step - loss: 1680550.8750 - binary_accuracy: 0.8000 - binary_crossentropy: 1661218.3750\n",
      "Epoch 197/200\n",
      "10/10 [==============================] - 0s 1ms/step - loss: 1493868.0000 - binary_accuracy: 0.8000 - binary_crossentropy: 1474857.7500\n",
      "Epoch 198/200\n",
      "10/10 [==============================] - 0s 1ms/step - loss: 2027306.6250 - binary_accuracy: 0.9000 - binary_crossentropy: 2008581.2500\n",
      "Epoch 199/200\n",
      "10/10 [==============================] - 0s 2ms/step - loss: 2522115.0000 - binary_accuracy: 0.9000 - binary_crossentropy: 2503543.5000\n",
      "Epoch 200/200\n",
      "10/10 [==============================] - 0s 3ms/step - loss: 2640127.2500 - binary_accuracy: 0.9000 - binary_crossentropy: 2621665.0000\n"
     ]
    },
    {
     "data": {
      "text/plain": [
       "ShapeletModel(batch_size=256, max_iter=200, n_shapelets_per_size={270: 3},\n",
       "              optimizer='sgd', random_state=None, shapelet_length=0.15,\n",
       "              total_lengths=3, verbose=1, verbose_level=None,\n",
       "              weight_regularizer=0.01)"
      ]
     },
     "execution_count": 26,
     "metadata": {},
     "output_type": "execute_result"
    }
   ],
   "source": [
    "shp_clf.fit(X, y)"
   ]
  },
  {
   "cell_type": "code",
   "execution_count": 27,
   "metadata": {},
   "outputs": [],
   "source": [
    "from sklearn.metrics import accuracy_score"
   ]
  },
  {
   "cell_type": "code",
   "execution_count": 28,
   "metadata": {},
   "outputs": [
    {
     "name": "stdout",
     "output_type": "stream",
     "text": [
      "10/10 [==============================] - 0s 6ms/step\n",
      "Correct classification rate: 0.8\n"
     ]
    }
   ],
   "source": [
    "predicted_labels = shp_clf.predict(X)\n",
    "print(\"Correct classification rate:\", accuracy_score(y, predicted_labels))"
   ]
  },
  {
   "cell_type": "code",
   "execution_count": 29,
   "metadata": {},
   "outputs": [
    {
     "name": "stdout",
     "output_type": "stream",
     "text": [
      "\r",
      "10/10 [==============================] - 0s 6ms/step\n"
     ]
    },
    {
     "name": "stderr",
     "output_type": "stream",
     "text": [
      "/Users/marco/opt/anaconda3/lib/python3.7/site-packages/tslearn/utils.py:63: UserWarning: 2-Dimensional data passed. Assuming these are 10 1-dimensional timeseries\n",
      "  '{} 1-dimensional timeseries'.format(X.shape[0]))\n"
     ]
    }
   ],
   "source": [
    "predicted_locations = shp_clf.locate(X)"
   ]
  },
  {
   "cell_type": "code",
   "execution_count": 30,
   "metadata": {},
   "outputs": [
    {
     "data": {
      "image/png": "[encoded data removed]",
      "text/plain": [
       "<Figure size 432x288 with 1 Axes>"
      ]
     },
     "metadata": {
      "needs_background": "light"
     },
     "output_type": "display_data"
    }
   ],
   "source": [
    "ts_id = 0\n",
    "plt.figure()\n",
    "n_shapelets = sum(shapelet_sizes.values())\n",
    "plt.title(\"Example locations of shapelet matches \"\n",
    "          \"(%d shapelets extracted)\".format(n_shapelets))\n",
    "\n",
    "plt.plot(X[ts_id].ravel())\n",
    "for idx_shp, shp in enumerate(shp_clf.shapelets_):\n",
    "    t0 = predicted_locations[ts_id, idx_shp]\n",
    "    plt.plot(np.arange(t0, t0 + len(shp)), shp, linewidth=2)"
   ]
  },
  {
   "cell_type": "code",
   "execution_count": null,
   "metadata": {},
   "outputs": [],
   "source": []
  }
 ],
 "metadata": {
  "kernelspec": {
   "display_name": "Python 3",
   "language": "python",
   "name": "python3"
  },
  "language_info": {
   "codemirror_mode": {
    "name": "ipython",
    "version": 3
   },
   "file_extension": ".py",
   "mimetype": "text/x-python",
   "name": "python",
   "nbconvert_exporter": "python",
   "pygments_lexer": "ipython3",
   "version": "3.7.4"
  }
 },
 "nbformat": 4,
 "nbformat_minor": 2
}
