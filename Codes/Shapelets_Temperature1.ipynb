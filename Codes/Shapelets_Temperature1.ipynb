{
 "cells": [
  {
   "cell_type": "code",
   "execution_count": 1,
   "metadata": {},
   "outputs": [],
   "source": [
    "%matplotlib inline\n",
    "\n",
    "import numpy as np\n",
    "import pandas as pd\n",
    "import matplotlib.pyplot as plt\n",
    "\n",
    "from collections import defaultdict\n",
    "from sklearn.preprocessing import MinMaxScaler"
   ]
  },
  {
   "cell_type": "code",
   "execution_count": 2,
   "metadata": {},
   "outputs": [],
   "source": [
    "df = pd.read_csv(\"/Users/marco/Desktop/DataMining2Project-master-2/dataset_train+test2.csv\") #sostituisci con tuo percorso\n",
    "dateparse = lambda dates: pd.to_datetime(df['date'])\n",
    "\n",
    "df_ts = pd.read_csv(\"/Users/marco/Desktop/DataMining2Project-master-2/dataset_train+test2.csv\",\n",
    "                 parse_dates=True, index_col='date', date_parser=dateparse)"
   ]
  },
  {
   "cell_type": "code",
   "execution_count": 3,
   "metadata": {},
   "outputs": [
    {
     "data": {
      "text/html": [
       "<div>\n",
       "<style scoped>\n",
       "    .dataframe tbody tr th:only-of-type {\n",
       "        vertical-align: middle;\n",
       "    }\n",
       "\n",
       "    .dataframe tbody tr th {\n",
       "        vertical-align: top;\n",
       "    }\n",
       "\n",
       "    .dataframe thead th {\n",
       "        text-align: right;\n",
       "    }\n",
       "</style>\n",
       "<table border=\"1\" class=\"dataframe\">\n",
       "  <thead>\n",
       "    <tr style=\"text-align: right;\">\n",
       "      <th></th>\n",
       "      <th>Temperature</th>\n",
       "      <th>Humidity</th>\n",
       "      <th>Light</th>\n",
       "      <th>CO2</th>\n",
       "      <th>Occupancy</th>\n",
       "      <th>Ora</th>\n",
       "      <th>day</th>\n",
       "      <th>hour</th>\n",
       "      <th>absH</th>\n",
       "      <th>weekend</th>\n",
       "      <th>out_of_turn</th>\n",
       "    </tr>\n",
       "    <tr>\n",
       "      <th>date</th>\n",
       "      <th></th>\n",
       "      <th></th>\n",
       "      <th></th>\n",
       "      <th></th>\n",
       "      <th></th>\n",
       "      <th></th>\n",
       "      <th></th>\n",
       "      <th></th>\n",
       "      <th></th>\n",
       "      <th></th>\n",
       "      <th></th>\n",
       "    </tr>\n",
       "  </thead>\n",
       "  <tbody>\n",
       "    <tr>\n",
       "      <th>2015-02-04 17:51:00</th>\n",
       "      <td>23.18</td>\n",
       "      <td>27.2720</td>\n",
       "      <td>426.0</td>\n",
       "      <td>721.25</td>\n",
       "      <td>1</td>\n",
       "      <td>2</td>\n",
       "      <td>4</td>\n",
       "      <td>17:51:00</td>\n",
       "      <td>17</td>\n",
       "      <td>0.0</td>\n",
       "      <td>1.0</td>\n",
       "    </tr>\n",
       "    <tr>\n",
       "      <th>2015-02-04 17:51:59</th>\n",
       "      <td>23.15</td>\n",
       "      <td>27.2675</td>\n",
       "      <td>429.5</td>\n",
       "      <td>714.00</td>\n",
       "      <td>1</td>\n",
       "      <td>2</td>\n",
       "      <td>4</td>\n",
       "      <td>17:51:59</td>\n",
       "      <td>17</td>\n",
       "      <td>0.0</td>\n",
       "      <td>1.0</td>\n",
       "    </tr>\n",
       "    <tr>\n",
       "      <th>2015-02-04 17:53:00</th>\n",
       "      <td>23.15</td>\n",
       "      <td>27.2450</td>\n",
       "      <td>426.0</td>\n",
       "      <td>713.50</td>\n",
       "      <td>1</td>\n",
       "      <td>2</td>\n",
       "      <td>4</td>\n",
       "      <td>17:53:00</td>\n",
       "      <td>17</td>\n",
       "      <td>0.0</td>\n",
       "      <td>1.0</td>\n",
       "    </tr>\n",
       "    <tr>\n",
       "      <th>2015-02-04 17:54:00</th>\n",
       "      <td>23.15</td>\n",
       "      <td>27.2000</td>\n",
       "      <td>426.0</td>\n",
       "      <td>708.25</td>\n",
       "      <td>1</td>\n",
       "      <td>2</td>\n",
       "      <td>4</td>\n",
       "      <td>17:54:00</td>\n",
       "      <td>17</td>\n",
       "      <td>0.0</td>\n",
       "      <td>1.0</td>\n",
       "    </tr>\n",
       "    <tr>\n",
       "      <th>2015-02-04 17:55:00</th>\n",
       "      <td>23.10</td>\n",
       "      <td>27.2000</td>\n",
       "      <td>426.0</td>\n",
       "      <td>704.50</td>\n",
       "      <td>1</td>\n",
       "      <td>2</td>\n",
       "      <td>4</td>\n",
       "      <td>17:55:00</td>\n",
       "      <td>17</td>\n",
       "      <td>0.0</td>\n",
       "      <td>1.0</td>\n",
       "    </tr>\n",
       "  </tbody>\n",
       "</table>\n",
       "</div>"
      ],
      "text/plain": [
       "                     Temperature  Humidity  Light     CO2  Occupancy  Ora  \\\n",
       "date                                                                        \n",
       "2015-02-04 17:51:00        23.18   27.2720  426.0  721.25          1    2   \n",
       "2015-02-04 17:51:59        23.15   27.2675  429.5  714.00          1    2   \n",
       "2015-02-04 17:53:00        23.15   27.2450  426.0  713.50          1    2   \n",
       "2015-02-04 17:54:00        23.15   27.2000  426.0  708.25          1    2   \n",
       "2015-02-04 17:55:00        23.10   27.2000  426.0  704.50          1    2   \n",
       "\n",
       "                     day      hour  absH  weekend  out_of_turn  \n",
       "date                                                            \n",
       "2015-02-04 17:51:00    4  17:51:00    17      0.0          1.0  \n",
       "2015-02-04 17:51:59    4  17:51:59    17      0.0          1.0  \n",
       "2015-02-04 17:53:00    4  17:53:00    17      0.0          1.0  \n",
       "2015-02-04 17:54:00    4  17:54:00    17      0.0          1.0  \n",
       "2015-02-04 17:55:00    4  17:55:00    17      0.0          1.0  "
      ]
     },
     "execution_count": 3,
     "metadata": {},
     "output_type": "execute_result"
    }
   ],
   "source": [
    "df_ts.head()"
   ]
  },
  {
   "cell_type": "code",
   "execution_count": 4,
   "metadata": {},
   "outputs": [],
   "source": [
    "df_ts = df_ts[[ 'Temperature', 'Occupancy', 'day', 'absH']]"
   ]
  },
  {
   "cell_type": "code",
   "execution_count": 5,
   "metadata": {
    "scrolled": true
   },
   "outputs": [
    {
     "data": {
      "text/html": [
       "<div>\n",
       "<style scoped>\n",
       "    .dataframe tbody tr th:only-of-type {\n",
       "        vertical-align: middle;\n",
       "    }\n",
       "\n",
       "    .dataframe tbody tr th {\n",
       "        vertical-align: top;\n",
       "    }\n",
       "\n",
       "    .dataframe thead th {\n",
       "        text-align: right;\n",
       "    }\n",
       "</style>\n",
       "<table border=\"1\" class=\"dataframe\">\n",
       "  <thead>\n",
       "    <tr style=\"text-align: right;\">\n",
       "      <th></th>\n",
       "      <th>Temperature</th>\n",
       "      <th>Occupancy</th>\n",
       "      <th>day</th>\n",
       "      <th>absH</th>\n",
       "    </tr>\n",
       "    <tr>\n",
       "      <th>date</th>\n",
       "      <th></th>\n",
       "      <th></th>\n",
       "      <th></th>\n",
       "      <th></th>\n",
       "    </tr>\n",
       "  </thead>\n",
       "  <tbody>\n",
       "    <tr>\n",
       "      <th>2015-02-04 17:51:00</th>\n",
       "      <td>23.18</td>\n",
       "      <td>1</td>\n",
       "      <td>4</td>\n",
       "      <td>17</td>\n",
       "    </tr>\n",
       "    <tr>\n",
       "      <th>2015-02-04 17:51:59</th>\n",
       "      <td>23.15</td>\n",
       "      <td>1</td>\n",
       "      <td>4</td>\n",
       "      <td>17</td>\n",
       "    </tr>\n",
       "    <tr>\n",
       "      <th>2015-02-04 17:53:00</th>\n",
       "      <td>23.15</td>\n",
       "      <td>1</td>\n",
       "      <td>4</td>\n",
       "      <td>17</td>\n",
       "    </tr>\n",
       "    <tr>\n",
       "      <th>2015-02-04 17:54:00</th>\n",
       "      <td>23.15</td>\n",
       "      <td>1</td>\n",
       "      <td>4</td>\n",
       "      <td>17</td>\n",
       "    </tr>\n",
       "    <tr>\n",
       "      <th>2015-02-04 17:55:00</th>\n",
       "      <td>23.10</td>\n",
       "      <td>1</td>\n",
       "      <td>4</td>\n",
       "      <td>17</td>\n",
       "    </tr>\n",
       "  </tbody>\n",
       "</table>\n",
       "</div>"
      ],
      "text/plain": [
       "                     Temperature  Occupancy  day  absH\n",
       "date                                                  \n",
       "2015-02-04 17:51:00        23.18          1    4    17\n",
       "2015-02-04 17:51:59        23.15          1    4    17\n",
       "2015-02-04 17:53:00        23.15          1    4    17\n",
       "2015-02-04 17:54:00        23.15          1    4    17\n",
       "2015-02-04 17:55:00        23.10          1    4    17"
      ]
     },
     "execution_count": 5,
     "metadata": {},
     "output_type": "execute_result"
    }
   ],
   "source": [
    "df_ts.head()"
   ]
  },
  {
   "cell_type": "code",
   "execution_count": 6,
   "metadata": {},
   "outputs": [
    {
     "data": {
      "text/plain": [
       "[<matplotlib.lines.Line2D at 0x121924550>]"
      ]
     },
     "execution_count": 6,
     "metadata": {},
     "output_type": "execute_result"
    },
    {
     "data": {
      "image/png": "[encoded data removed]",
      "text/plain": [
       "<Figure size 432x288 with 1 Axes>"
      ]
     },
     "metadata": {
      "needs_background": "light"
     },
     "output_type": "display_data"
    }
   ],
   "source": [
    "thur1 = df_ts[df_ts.day==5]\n",
    "thur1 = thur1[['Temperature', 'Occupancy', 'absH']]\n",
    "thur1.reset_index(inplace=True)\n",
    "ts1dd = thur1.Temperature\n",
    "plt.plot(ts1dd)"
   ]
  },
  {
   "cell_type": "code",
   "execution_count": 7,
   "metadata": {},
   "outputs": [],
   "source": [
    "thur1 = df_ts[df_ts.day==5]\n",
    "thur1 = thur1[['Temperature', 'Occupancy', 'absH']]\n",
    "thur1.reset_index(inplace=True)\n",
    "ts1 = thur1.Temperature\n",
    "\n",
    "fri1 = df_ts[df_ts.day==6]\n",
    "fri1 = fri1[['Temperature', 'Occupancy','absH']]\n",
    "fri1.reset_index(inplace=True)\n",
    "ts2 = fri1.Temperature\n",
    "\n",
    "sat1 = df_ts[df_ts.day==7]\n",
    "sat1 = sat1[['Temperature', 'Occupancy', 'absH']]\n",
    "sat1.reset_index(inplace=True)\n",
    "ts3 = sat1.Temperature\n",
    "\n",
    "sun1 = df_ts[df_ts.day==8]\n",
    "sun1 = sun1[['Temperature', 'Occupancy', 'absH']]\n",
    "sun1.reset_index(inplace=True)\n",
    "ts4 = sun1.Temperature\n",
    "\n",
    "mon2 = df_ts[df_ts.day==9]\n",
    "mon2 = mon2[['Temperature', 'Occupancy', 'absH']]\n",
    "mon2.reset_index(inplace=True)\n",
    "ts5 = mon2.Temperature\n",
    "\n",
    "thur2 = df_ts[df_ts.day==12]\n",
    "thur2 = thur2[['Temperature', 'Occupancy', 'absH']]\n",
    "thur2.reset_index(inplace=True)\n",
    "ts6 = thur2.Temperature\n",
    "\n",
    "fri2 = df_ts[df_ts.day==13]\n",
    "fri2 = fri2[['Temperature', 'Occupancy', 'absH']]\n",
    "fri2.reset_index(inplace=True)\n",
    "ts7 = fri2.Temperature\n",
    "\n",
    "sat2 = df_ts[df_ts.day==14]\n",
    "sat2 = sat2[['Temperature', 'Occupancy', 'absH']]\n",
    "sat2.reset_index(inplace=True)\n",
    "ts8 = sat2.Temperature\n",
    "\n",
    "sun2 = df_ts[df_ts.day==15]\n",
    "sun2 = sun2[['Temperature', 'Occupancy', 'absH']]\n",
    "sun2.reset_index(inplace=True)\n",
    "ts9 = sun2.Temperature\n",
    "\n",
    "mon3 = df_ts[df_ts.day==16]\n",
    "mon3 = mon3[['Temperature', 'Occupancy', 'absH']]\n",
    "mon3.reset_index(inplace=True)\n",
    "ts10 = mon3.Temperature\n",
    "\n",
    "thue3 = df_ts[df_ts.day==17]\n",
    "thue3 = thue3[['Temperature', 'Occupancy', 'absH']]\n",
    "thue3.reset_index(inplace=True)\n",
    "ts11 = thue3.Temperature"
   ]
  },
  {
   "cell_type": "code",
   "execution_count": 33,
   "metadata": {},
   "outputs": [
    {
     "data": {
      "text/plain": [
       "Text(0, 0.5, 'Occupancy')"
      ]
     },
     "execution_count": 33,
     "metadata": {},
     "output_type": "execute_result"
    },
    {
     "data": {
      "image/png": "[encoded data removed]",
      "text/plain": [
       "<Figure size 432x288 with 1 Axes>"
      ]
     },
     "metadata": {
      "needs_background": "light"
     },
     "output_type": "display_data"
    }
   ],
   "source": [
    "#thur1['absH'].value_counts().plot(kind='bar', title='distribuzione della temperatura')\n",
    "#plt.show()\n",
    "\n",
    "plotL = pd.crosstab(thur1['absH'], thur1['Occupancy'])\n",
    "plotLn = plotL.div(plotL.sum(1).astype(float), axis=0)\n",
    "plotLn.plot(kind='bar', stacked=True, \n",
    "                   title='Occupancy durante le ore')\n",
    "plt.xlabel('absH')\n",
    "plt.ylabel('Occupancy')"
   ]
  },
  {
   "cell_type": "code",
   "execution_count": 8,
   "metadata": {},
   "outputs": [
    {
     "data": {
      "text/plain": [
       "[<matplotlib.lines.Line2D at 0x1202d2a90>]"
      ]
     },
     "execution_count": 8,
     "metadata": {},
     "output_type": "execute_result"
    },
    {
     "data": {
      "image/png": "[encoded data removed]",
      "text/plain": [
       "<Figure size 432x288 with 1 Axes>"
      ]
     },
     "metadata": {
      "needs_background": "light"
     },
     "output_type": "display_data"
    }
   ],
   "source": [
    "thur1_9 = thur1[thur1.absH==9] \n",
    "thur1_10 = thur1[thur1.absH==10] \n",
    "thur1_11 = thur1[thur1.absH==11] \n",
    "thur1_12 = thur1[thur1.absH==12]\n",
    "thur1_13 = thur1[thur1.absH==13]\n",
    "thur1_14 = thur1[thur1.absH==14]\n",
    "thur1_15 = thur1[thur1.absH==15] \n",
    "thur1_16 = thur1[thur1.absH==16] \n",
    "thur1_17 = thur1[thur1.absH==17]\n",
    "\n",
    "i = [thur1_9, thur1_10, thur1_11, thur1_12, thur1_13, thur1_14, thur1_15, thur1_16, thur1_17]\n",
    "\n",
    "thur1_mat = pd.concat(i)\n",
    "ts1 = thur1_mat.Temperature\n",
    "plt.plot(ts1)\n",
    "\n",
    "#plt.show()"
   ]
  },
  {
   "cell_type": "code",
   "execution_count": 35,
   "metadata": {},
   "outputs": [
    {
     "data": {
      "text/plain": [
       "Text(0, 0.5, 'Occupancy')"
      ]
     },
     "execution_count": 35,
     "metadata": {},
     "output_type": "execute_result"
    },
    {
     "data": {
      "image/png": "[encoded data removed]",
      "text/plain": [
       "<Figure size 432x288 with 1 Axes>"
      ]
     },
     "metadata": {
      "needs_background": "light"
     },
     "output_type": "display_data"
    }
   ],
   "source": [
    "plotL = pd.crosstab(fri1['absH'], fri1['Occupancy'])\n",
    "plotLn = plotL.div(plotL.sum(1).astype(float), axis=0)\n",
    "plotLn.plot(kind='bar', stacked=True, \n",
    "                   title='Occupancy durante le ore')\n",
    "plt.xlabel('absH')\n",
    "plt.ylabel('Occupancy')"
   ]
  },
  {
   "cell_type": "code",
   "execution_count": 9,
   "metadata": {},
   "outputs": [],
   "source": [
    "fri1_9 = fri1[fri1.absH==9] \n",
    "fri1_10 = fri1[fri1.absH==10] \n",
    "fri1_11 = fri1[fri1.absH==11] \n",
    "fri1_12 = fri1[fri1.absH==12] \n",
    "fri1_13 = fri1[fri1.absH==13] \n",
    "fri1_14 = fri1[fri1.absH==14]\n",
    "fri1_15 = fri1[fri1.absH==15] \n",
    "fri1_16 = fri1[fri1.absH==16] \n",
    "fri1_17 = fri1[fri1.absH==17]\n",
    "\n",
    "\n",
    "i = [fri1_9, fri1_10, fri1_11, fri1_12, fri1_13, fri1_14, fri1_15, fri1_16, fri1_17]\n",
    "fri1_mat = pd.concat(i)\n",
    "ts2 = fri1_mat.Temperature\n",
    "#plt.plot(ts2)\n",
    "\n",
    "#plt.show()"
   ]
  },
  {
   "cell_type": "code",
   "execution_count": 37,
   "metadata": {},
   "outputs": [
    {
     "data": {
      "text/plain": [
       "Text(0, 0.5, 'Occupancy')"
      ]
     },
     "execution_count": 37,
     "metadata": {},
     "output_type": "execute_result"
    },
    {
     "data": {
      "image/png": "[encoded data removed]",
      "text/plain": [
       "<Figure size 432x288 with 1 Axes>"
      ]
     },
     "metadata": {
      "needs_background": "light"
     },
     "output_type": "display_data"
    }
   ],
   "source": [
    "plotL = pd.crosstab(sat1['absH'], sat1['Occupancy'])\n",
    "plotLn = plotL.div(plotL.sum(1).astype(float), axis=0)\n",
    "plotLn.plot(kind='bar', stacked=True, \n",
    "                   title='Occupancy durante le ore')\n",
    "plt.xlabel('absH')\n",
    "plt.ylabel('Occupancy')"
   ]
  },
  {
   "cell_type": "code",
   "execution_count": 10,
   "metadata": {},
   "outputs": [],
   "source": [
    "sat1_9 = sat1[sat1.absH==9] \n",
    "sat1_10 = sat1[sat1.absH==10] \n",
    "sat1_11 = sat1[sat1.absH==11]\n",
    "sat1_12 = sat1[sat1.absH==12] \n",
    "sat1_13 = sat1[sat1.absH==13] \n",
    "sat1_14 = sat1[sat1.absH==14]\n",
    "sat1_15 = sat1[sat1.absH==15] \n",
    "sat1_16 = sat1[sat1.absH==16] \n",
    "sat1_17 = sat1[sat1.absH==17]\n",
    "\n",
    "\n",
    "i = [sat1_9, sat1_10, sat1_11, sat1_12, sat1_13, sat1_14, sat1_15, sat1_16, sat1_17]\n",
    "sat1_mat = pd.concat(i)\n",
    "ts3 = sat1_mat.Temperature\n",
    "#plt.plot(ts3)\n",
    "\n",
    "#plt.show()"
   ]
  },
  {
   "cell_type": "code",
   "execution_count": 39,
   "metadata": {},
   "outputs": [
    {
     "data": {
      "text/plain": [
       "Text(0, 0.5, 'Occupancy')"
      ]
     },
     "execution_count": 39,
     "metadata": {},
     "output_type": "execute_result"
    },
    {
     "data": {
      "image/png": "[encoded data removed]",
      "text/plain": [
       "<Figure size 432x288 with 1 Axes>"
      ]
     },
     "metadata": {
      "needs_background": "light"
     },
     "output_type": "display_data"
    }
   ],
   "source": [
    "plotL = pd.crosstab(sun1['absH'], sun1['Occupancy'])\n",
    "plotLn = plotL.div(plotL.sum(1).astype(float), axis=0)\n",
    "plotLn.plot(kind='bar', stacked=True, \n",
    "                   title='Occupancy durante le ore')\n",
    "plt.xlabel('absH')\n",
    "plt.ylabel('Occupancy')"
   ]
  },
  {
   "cell_type": "code",
   "execution_count": 11,
   "metadata": {},
   "outputs": [],
   "source": [
    "sun1_9 = sun1[sun1.absH==9] \n",
    "sun1_10 = sun1[sun1.absH==10] \n",
    "sun1_11 = sun1[sun1.absH==11]\n",
    "sun1_12 = sun1[sun1.absH==12] \n",
    "sun1_13 = sun1[sun1.absH==13] \n",
    "sun1_14 = sun1[sun1.absH==14]\n",
    "sun1_15 = sun1[sun1.absH==15] \n",
    "sun1_16 = sun1[sun1.absH==16] \n",
    "sun1_17 = sun1[sun1.absH==17]\n",
    "\n",
    "\n",
    "i = [sun1_9, sun1_10, sun1_11, sun1_12, sun1_13, sun1_14, sun1_15, sun1_16, sun1_17]\n",
    "sun1_mat = pd.concat(i)\n",
    "ts4 = sun1_mat.Temperature\n",
    "#plt.plot(ts4)\n",
    "\n",
    "#plt.show()"
   ]
  },
  {
   "cell_type": "code",
   "execution_count": 41,
   "metadata": {},
   "outputs": [
    {
     "data": {
      "text/plain": [
       "Text(0, 0.5, 'Occupancy')"
      ]
     },
     "execution_count": 41,
     "metadata": {},
     "output_type": "execute_result"
    },
    {
     "data": {
      "image/png": "[encoded data removed]",
      "text/plain": [
       "<Figure size 432x288 with 1 Axes>"
      ]
     },
     "metadata": {
      "needs_background": "light"
     },
     "output_type": "display_data"
    }
   ],
   "source": [
    "plotL = pd.crosstab(mon2['absH'], mon2['Occupancy'])\n",
    "plotLn = plotL.div(plotL.sum(1).astype(float), axis=0)\n",
    "plotLn.plot(kind='bar', stacked=True, \n",
    "                   title='Occupancy durante le ore')\n",
    "plt.xlabel('absH')\n",
    "plt.ylabel('Occupancy')"
   ]
  },
  {
   "cell_type": "code",
   "execution_count": 12,
   "metadata": {},
   "outputs": [],
   "source": [
    "mon2_9 = mon2[mon2.absH==9] \n",
    "mon2_10 = mon2[mon2.absH==10] \n",
    "mon2_11 = mon2[mon2.absH==11] \n",
    "mon2_12 = mon2[mon2.absH==12] \n",
    "mon2_13 = mon2[mon2.absH==13] \n",
    "mon2_14 = mon2[mon2.absH==14]\n",
    "mon2_15 = mon2[mon2.absH==15] \n",
    "mon2_16 = mon2[mon2.absH==16] \n",
    "mon2_17 = mon2[mon2.absH==17]\n",
    "\n",
    "\n",
    "i = [mon2_9, mon2_10, mon2_11, mon2_12, mon2_13, mon2_14, mon2_15, mon2_16, mon2_17]\n",
    "mon2_mat = pd.concat(i)\n",
    "ts5 = mon2_mat.Temperature\n",
    "#plt.plot(ts5)\n",
    "\n",
    "#plt.show()"
   ]
  },
  {
   "cell_type": "code",
   "execution_count": 43,
   "metadata": {},
   "outputs": [
    {
     "data": {
      "text/plain": [
       "Text(0, 0.5, 'Occupancy')"
      ]
     },
     "execution_count": 43,
     "metadata": {},
     "output_type": "execute_result"
    },
    {
     "data": {
      "image/png": "[encoded data removed]",
      "text/plain": [
       "<Figure size 432x288 with 1 Axes>"
      ]
     },
     "metadata": {
      "needs_background": "light"
     },
     "output_type": "display_data"
    }
   ],
   "source": [
    "plotL = pd.crosstab(thur2['absH'], thur2['Occupancy'])\n",
    "plotLn = plotL.div(plotL.sum(1).astype(float), axis=0)\n",
    "plotLn.plot(kind='bar', stacked=True, \n",
    "                   title='Occupancy durante le ore')\n",
    "plt.xlabel('absH')\n",
    "plt.ylabel('Occupancy')\n",
    "\n",
    "# non è adatta come time series"
   ]
  },
  {
   "cell_type": "code",
   "execution_count": 44,
   "metadata": {},
   "outputs": [
    {
     "data": {
      "text/plain": [
       "Text(0, 0.5, 'Occupancy')"
      ]
     },
     "execution_count": 44,
     "metadata": {},
     "output_type": "execute_result"
    },
    {
     "data": {
      "image/png": "[encoded data removed]",
      "text/plain": [
       "<Figure size 432x288 with 1 Axes>"
      ]
     },
     "metadata": {
      "needs_background": "light"
     },
     "output_type": "display_data"
    }
   ],
   "source": [
    "plotL = pd.crosstab(fri2['absH'], fri2['Occupancy'])\n",
    "plotLn = plotL.div(plotL.sum(1).astype(float), axis=0)\n",
    "plotLn.plot(kind='bar', stacked=True, \n",
    "                   title='Occupancy durante le ore')\n",
    "plt.xlabel('absH')\n",
    "plt.ylabel('Occupancy')"
   ]
  },
  {
   "cell_type": "code",
   "execution_count": 13,
   "metadata": {},
   "outputs": [],
   "source": [
    "fri2_9 = fri2[fri2.absH==9] \n",
    "fri2_10 = fri2[fri2.absH==10] \n",
    "fri2_11 = fri2[fri2.absH==11]\n",
    "fri2_12 = fri2[fri2.absH==12] \n",
    "fri2_13 = fri2[fri2.absH==13] \n",
    "fri2_14 = fri2[fri2.absH==14]\n",
    "fri2_15 = fri2[fri2.absH==15] \n",
    "fri2_16 = fri2[fri2.absH==16] \n",
    "fri2_17 = fri2[fri2.absH==17]\n",
    "\n",
    "\n",
    "i = [fri2_9, fri2_10, fri2_11, fri2_12, fri2_13, fri2_14, fri2_15, fri2_16, fri2_17]\n",
    "fri2_mat = pd.concat(i)\n",
    "ts7 = fri2_mat.Temperature\n",
    "#plt.plot(ts7)\n",
    "\n",
    "#plt.show()"
   ]
  },
  {
   "cell_type": "code",
   "execution_count": 46,
   "metadata": {},
   "outputs": [
    {
     "data": {
      "text/plain": [
       "Text(0, 0.5, 'Occupancy')"
      ]
     },
     "execution_count": 46,
     "metadata": {},
     "output_type": "execute_result"
    },
    {
     "data": {
      "image/png": "[encoded data removed]",
      "text/plain": [
       "<Figure size 432x288 with 1 Axes>"
      ]
     },
     "metadata": {
      "needs_background": "light"
     },
     "output_type": "display_data"
    }
   ],
   "source": [
    "plotL = pd.crosstab(sun2['absH'], sun2['Occupancy'])\n",
    "plotLn = plotL.div(plotL.sum(1).astype(float), axis=0)\n",
    "plotLn.plot(kind='bar', stacked=True, \n",
    "                   title='Occupancy durante le ore')\n",
    "plt.xlabel('absH')\n",
    "plt.ylabel('Occupancy')"
   ]
  },
  {
   "cell_type": "code",
   "execution_count": 14,
   "metadata": {},
   "outputs": [],
   "source": [
    "sat2_9 = sat2[sat2.absH==9] \n",
    "sat2_10 = sat2[sat2.absH==10] \n",
    "sat2_11 = sat2[sat2.absH==11]\n",
    "sat2_12 = sat2[sat2.absH==12] \n",
    "sat2_13 = sat2[sat2.absH==13] \n",
    "sat2_14 = sat2[sat2.absH==14]\n",
    "sat2_15 = sat2[sat2.absH==15] \n",
    "sat2_16 = sat2[sat2.absH==16] \n",
    "sat2_17 = sat2[sat2.absH==17]\n",
    "\n",
    "\n",
    "i = [sat2_9, sat2_10, sat2_11, sat2_12, sat2_13, sat2_14, sat2_15, sat2_16, sat2_17]\n",
    "sat2_mat = pd.concat(i)\n",
    "ts8 = sat2_mat.Temperature\n",
    "#plt.plot(ts8)\n",
    "\n",
    "#plt.show()"
   ]
  },
  {
   "cell_type": "code",
   "execution_count": 15,
   "metadata": {},
   "outputs": [],
   "source": [
    "\n",
    "sun2_9 = sun2[sun2.absH==9] \n",
    "sun2_10 = sun2[sun2.absH==10] \n",
    "sun2_11 = sun2[sun2.absH==11]\n",
    "sun2_12 = sun2[sun2.absH==12] \n",
    "sun2_13 = sun2[sun2.absH==13] \n",
    "sun2_14 = sun2[sun2.absH==14]\n",
    "sun2_15 = sun2[sun2.absH==15] \n",
    "sun2_16 = sun2[sun2.absH==16] \n",
    "sun2_17 = sun2[sun2.absH==17]\n",
    "\n",
    "i = [sun2_9, sun2_10, sun2_11, sun2_12, sun2_13, sun2_14, sun2_15, sun2_16, sun2_17]\n",
    "sun2_mat = pd.concat(i)\n",
    "ts9 = sun2_mat.Temperature\n",
    "#plt.plot(ts9)\n",
    "\n",
    "#plt.show()"
   ]
  },
  {
   "cell_type": "code",
   "execution_count": 49,
   "metadata": {},
   "outputs": [
    {
     "data": {
      "text/plain": [
       "Text(0, 0.5, 'Occupancy')"
      ]
     },
     "execution_count": 49,
     "metadata": {},
     "output_type": "execute_result"
    },
    {
     "data": {
      "image/png": "[encoded data removed]",
      "text/plain": [
       "<Figure size 432x288 with 1 Axes>"
      ]
     },
     "metadata": {
      "needs_background": "light"
     },
     "output_type": "display_data"
    }
   ],
   "source": [
    "plotL = pd.crosstab(mon3['absH'], mon3['Occupancy'])\n",
    "plotLn = plotL.div(plotL.sum(1).astype(float), axis=0)\n",
    "plotLn.plot(kind='bar', stacked=True, \n",
    "                   title='Occupancy durante le ore')\n",
    "plt.xlabel('absH')\n",
    "plt.ylabel('Occupancy')"
   ]
  },
  {
   "cell_type": "code",
   "execution_count": 16,
   "metadata": {},
   "outputs": [],
   "source": [
    "mon3_9 = mon3[mon3.absH==9] \n",
    "mon3_10 = mon3[mon3.absH==10] \n",
    "mon3_11 = mon3[mon3.absH==11]\n",
    "mon3_12 = mon3[mon3.absH==12] \n",
    "mon3_13 = mon3[mon3.absH==13] \n",
    "mon3_14 = mon3[mon3.absH==14]\n",
    "mon3_15 = mon3[mon3.absH==15] \n",
    "mon3_16 = mon3[mon3.absH==16] \n",
    "mon3_17 = mon3[mon3.absH==17]\n",
    "\n",
    "i = [mon3_9, mon3_10, mon3_11, mon3_12, mon3_13, mon3_14, mon3_15, mon3_16, mon3_17]\n",
    "mon3_mat = pd.concat(i)\n",
    "ts10 = mon3_mat.Temperature\n",
    "#plt.plot(ts10)\n",
    "\n",
    "#plt.show()"
   ]
  },
  {
   "cell_type": "code",
   "execution_count": 51,
   "metadata": {},
   "outputs": [
    {
     "data": {
      "text/plain": [
       "Text(0, 0.5, 'Occupancy')"
      ]
     },
     "execution_count": 51,
     "metadata": {},
     "output_type": "execute_result"
    },
    {
     "data": {
      "image/png": "[encoded data removed]",
      "text/plain": [
       "<Figure size 432x288 with 1 Axes>"
      ]
     },
     "metadata": {
      "needs_background": "light"
     },
     "output_type": "display_data"
    }
   ],
   "source": [
    "plotL = pd.crosstab(thue3['absH'], thue3['Occupancy'])\n",
    "plotLn = plotL.div(plotL.sum(1).astype(float), axis=0)\n",
    "plotLn.plot(kind='bar', stacked=True, \n",
    "                   title='Occupancy durante le ore')\n",
    "plt.xlabel('absH')\n",
    "plt.ylabel('Occupancy')"
   ]
  },
  {
   "cell_type": "code",
   "execution_count": 17,
   "metadata": {},
   "outputs": [],
   "source": [
    "\n",
    "thue3_9 = thue3[thue3.absH==9] \n",
    "thue3_10 = thue3[thue3.absH==10] \n",
    "thue3_11 = thue3[thue3.absH==11]\n",
    "thue3_12 = thue3[thue3.absH==12] \n",
    "thue3_13 = thue3[thue3.absH==13] \n",
    "thue3_14 = thue3[thue3.absH==14]\n",
    "thue3_15 = thue3[thue3.absH==15] \n",
    "thue3_16 = thue3[thue3.absH==16] \n",
    "thue3_17 = thue3[thue3.absH==17]\n",
    "\n",
    "i = [thue3_9, thue3_10, thue3_11, thue3_12, thue3_13, thue3_14, thue3_15, thue3_16, thue3_17]\n",
    "thue3_mat = pd.concat(i)\n",
    "ts11 = thue3_mat.Temperature\n",
    "#plt.plot(ts11)\n",
    "\n",
    "#plt.show()"
   ]
  },
  {
   "cell_type": "code",
   "execution_count": null,
   "metadata": {},
   "outputs": [],
   "source": []
  },
  {
   "cell_type": "code",
   "execution_count": 18,
   "metadata": {},
   "outputs": [],
   "source": [
    "ts_df = [ts1, ts2, ts3, ts4, ts5, ts7, ts8, ts9, ts10, ts11]\n",
    "\n",
    "df1 = pd.DataFrame(data=ts_df)\n"
   ]
  },
  {
   "cell_type": "code",
   "execution_count": 19,
   "metadata": {},
   "outputs": [
    {
     "data": {
      "text/html": [
       "<div>\n",
       "<style scoped>\n",
       "    .dataframe tbody tr th:only-of-type {\n",
       "        vertical-align: middle;\n",
       "    }\n",
       "\n",
       "    .dataframe tbody tr th {\n",
       "        vertical-align: top;\n",
       "    }\n",
       "\n",
       "    .dataframe thead th {\n",
       "        text-align: right;\n",
       "    }\n",
       "</style>\n",
       "<table border=\"1\" class=\"dataframe\">\n",
       "  <thead>\n",
       "    <tr style=\"text-align: right;\">\n",
       "      <th></th>\n",
       "      <th>540</th>\n",
       "      <th>541</th>\n",
       "      <th>542</th>\n",
       "      <th>543</th>\n",
       "      <th>544</th>\n",
       "      <th>545</th>\n",
       "      <th>546</th>\n",
       "      <th>547</th>\n",
       "      <th>548</th>\n",
       "      <th>549</th>\n",
       "      <th>...</th>\n",
       "      <th>1070</th>\n",
       "      <th>1071</th>\n",
       "      <th>1072</th>\n",
       "      <th>1073</th>\n",
       "      <th>1074</th>\n",
       "      <th>1075</th>\n",
       "      <th>1076</th>\n",
       "      <th>1077</th>\n",
       "      <th>1078</th>\n",
       "      <th>1079</th>\n",
       "    </tr>\n",
       "  </thead>\n",
       "  <tbody>\n",
       "    <tr>\n",
       "      <th>Temperature</th>\n",
       "      <td>21.500000</td>\n",
       "      <td>21.5000</td>\n",
       "      <td>21.500000</td>\n",
       "      <td>21.5000</td>\n",
       "      <td>21.525000</td>\n",
       "      <td>21.55</td>\n",
       "      <td>21.60</td>\n",
       "      <td>21.6000</td>\n",
       "      <td>21.7000</td>\n",
       "      <td>21.700000</td>\n",
       "      <td>...</td>\n",
       "      <td>22.125</td>\n",
       "      <td>22.133333</td>\n",
       "      <td>22.125000</td>\n",
       "      <td>22.100</td>\n",
       "      <td>22.10</td>\n",
       "      <td>22.10</td>\n",
       "      <td>22.066667</td>\n",
       "      <td>22.025</td>\n",
       "      <td>22.00</td>\n",
       "      <td>22.00</td>\n",
       "    </tr>\n",
       "    <tr>\n",
       "      <th>Temperature</th>\n",
       "      <td>20.926667</td>\n",
       "      <td>20.9175</td>\n",
       "      <td>20.963333</td>\n",
       "      <td>20.8900</td>\n",
       "      <td>20.890000</td>\n",
       "      <td>20.89</td>\n",
       "      <td>20.89</td>\n",
       "      <td>20.8900</td>\n",
       "      <td>20.8900</td>\n",
       "      <td>20.890000</td>\n",
       "      <td>...</td>\n",
       "      <td>21.700</td>\n",
       "      <td>21.700000</td>\n",
       "      <td>21.633333</td>\n",
       "      <td>21.675</td>\n",
       "      <td>21.70</td>\n",
       "      <td>21.70</td>\n",
       "      <td>21.625000</td>\n",
       "      <td>21.650</td>\n",
       "      <td>21.65</td>\n",
       "      <td>21.70</td>\n",
       "    </tr>\n",
       "    <tr>\n",
       "      <th>Temperature</th>\n",
       "      <td>19.575000</td>\n",
       "      <td>19.5750</td>\n",
       "      <td>19.575000</td>\n",
       "      <td>19.6000</td>\n",
       "      <td>19.633333</td>\n",
       "      <td>19.65</td>\n",
       "      <td>19.70</td>\n",
       "      <td>19.7675</td>\n",
       "      <td>19.7900</td>\n",
       "      <td>19.790000</td>\n",
       "      <td>...</td>\n",
       "      <td>20.390</td>\n",
       "      <td>20.390000</td>\n",
       "      <td>20.390000</td>\n",
       "      <td>20.390</td>\n",
       "      <td>20.50</td>\n",
       "      <td>20.39</td>\n",
       "      <td>20.390000</td>\n",
       "      <td>20.390</td>\n",
       "      <td>20.39</td>\n",
       "      <td>20.39</td>\n",
       "    </tr>\n",
       "    <tr>\n",
       "      <th>Temperature</th>\n",
       "      <td>19.260000</td>\n",
       "      <td>19.2450</td>\n",
       "      <td>19.267500</td>\n",
       "      <td>19.2675</td>\n",
       "      <td>19.260000</td>\n",
       "      <td>19.29</td>\n",
       "      <td>19.26</td>\n",
       "      <td>19.2900</td>\n",
       "      <td>19.2900</td>\n",
       "      <td>19.290000</td>\n",
       "      <td>...</td>\n",
       "      <td>19.390</td>\n",
       "      <td>19.390000</td>\n",
       "      <td>19.463333</td>\n",
       "      <td>19.390</td>\n",
       "      <td>19.39</td>\n",
       "      <td>19.39</td>\n",
       "      <td>19.390000</td>\n",
       "      <td>19.390</td>\n",
       "      <td>19.39</td>\n",
       "      <td>19.39</td>\n",
       "    </tr>\n",
       "    <tr>\n",
       "      <th>Temperature</th>\n",
       "      <td>19.745000</td>\n",
       "      <td>19.7675</td>\n",
       "      <td>19.790000</td>\n",
       "      <td>19.7900</td>\n",
       "      <td>19.790000</td>\n",
       "      <td>19.84</td>\n",
       "      <td>19.89</td>\n",
       "      <td>19.8900</td>\n",
       "      <td>19.9175</td>\n",
       "      <td>19.963333</td>\n",
       "      <td>...</td>\n",
       "      <td>22.100</td>\n",
       "      <td>22.100000</td>\n",
       "      <td>22.100000</td>\n",
       "      <td>22.100</td>\n",
       "      <td>22.10</td>\n",
       "      <td>22.10</td>\n",
       "      <td>22.100000</td>\n",
       "      <td>22.100</td>\n",
       "      <td>22.10</td>\n",
       "      <td>22.10</td>\n",
       "    </tr>\n",
       "    <tr>\n",
       "      <th>Temperature</th>\n",
       "      <td>21.290000</td>\n",
       "      <td>21.2900</td>\n",
       "      <td>21.320000</td>\n",
       "      <td>21.3900</td>\n",
       "      <td>21.500000</td>\n",
       "      <td>21.50</td>\n",
       "      <td>21.50</td>\n",
       "      <td>21.5700</td>\n",
       "      <td>21.5700</td>\n",
       "      <td>21.570000</td>\n",
       "      <td>...</td>\n",
       "      <td>21.290</td>\n",
       "      <td>21.290000</td>\n",
       "      <td>21.230000</td>\n",
       "      <td>21.270</td>\n",
       "      <td>21.29</td>\n",
       "      <td>21.25</td>\n",
       "      <td>21.220000</td>\n",
       "      <td>21.290</td>\n",
       "      <td>21.25</td>\n",
       "      <td>21.25</td>\n",
       "    </tr>\n",
       "    <tr>\n",
       "      <th>Temperature</th>\n",
       "      <td>19.950000</td>\n",
       "      <td>19.8900</td>\n",
       "      <td>19.950000</td>\n",
       "      <td>19.9700</td>\n",
       "      <td>19.950000</td>\n",
       "      <td>19.93</td>\n",
       "      <td>19.95</td>\n",
       "      <td>19.9600</td>\n",
       "      <td>19.9500</td>\n",
       "      <td>20.000000</td>\n",
       "      <td>...</td>\n",
       "      <td>19.890</td>\n",
       "      <td>19.890000</td>\n",
       "      <td>19.890000</td>\n",
       "      <td>19.930</td>\n",
       "      <td>19.89</td>\n",
       "      <td>19.89</td>\n",
       "      <td>19.890000</td>\n",
       "      <td>19.890</td>\n",
       "      <td>19.89</td>\n",
       "      <td>19.89</td>\n",
       "    </tr>\n",
       "    <tr>\n",
       "      <th>Temperature</th>\n",
       "      <td>20.530000</td>\n",
       "      <td>20.6000</td>\n",
       "      <td>20.600000</td>\n",
       "      <td>20.6800</td>\n",
       "      <td>20.680000</td>\n",
       "      <td>20.68</td>\n",
       "      <td>20.70</td>\n",
       "      <td>20.7700</td>\n",
       "      <td>20.7900</td>\n",
       "      <td>20.770000</td>\n",
       "      <td>...</td>\n",
       "      <td>20.550</td>\n",
       "      <td>20.500000</td>\n",
       "      <td>20.500000</td>\n",
       "      <td>20.500</td>\n",
       "      <td>20.50</td>\n",
       "      <td>20.50</td>\n",
       "      <td>20.500000</td>\n",
       "      <td>20.500</td>\n",
       "      <td>20.50</td>\n",
       "      <td>20.50</td>\n",
       "    </tr>\n",
       "    <tr>\n",
       "      <th>Temperature</th>\n",
       "      <td>20.700000</td>\n",
       "      <td>20.7000</td>\n",
       "      <td>20.700000</td>\n",
       "      <td>20.7500</td>\n",
       "      <td>20.760000</td>\n",
       "      <td>20.79</td>\n",
       "      <td>20.79</td>\n",
       "      <td>20.7900</td>\n",
       "      <td>20.7900</td>\n",
       "      <td>20.790000</td>\n",
       "      <td>...</td>\n",
       "      <td>22.000</td>\n",
       "      <td>21.960000</td>\n",
       "      <td>22.000000</td>\n",
       "      <td>21.930</td>\n",
       "      <td>22.00</td>\n",
       "      <td>21.97</td>\n",
       "      <td>21.950000</td>\n",
       "      <td>21.890</td>\n",
       "      <td>21.92</td>\n",
       "      <td>21.95</td>\n",
       "    </tr>\n",
       "    <tr>\n",
       "      <th>Temperature</th>\n",
       "      <td>20.790000</td>\n",
       "      <td>20.8200</td>\n",
       "      <td>20.840000</td>\n",
       "      <td>20.8900</td>\n",
       "      <td>20.890000</td>\n",
       "      <td>20.89</td>\n",
       "      <td>20.89</td>\n",
       "      <td>20.8900</td>\n",
       "      <td>20.8900</td>\n",
       "      <td>20.890000</td>\n",
       "      <td>...</td>\n",
       "      <td>22.200</td>\n",
       "      <td>22.200000</td>\n",
       "      <td>22.200000</td>\n",
       "      <td>22.200</td>\n",
       "      <td>22.20</td>\n",
       "      <td>22.20</td>\n",
       "      <td>22.200000</td>\n",
       "      <td>22.200</td>\n",
       "      <td>22.20</td>\n",
       "      <td>22.20</td>\n",
       "    </tr>\n",
       "  </tbody>\n",
       "</table>\n",
       "<p>10 rows × 540 columns</p>\n",
       "</div>"
      ],
      "text/plain": [
       "                  540      541        542      543        544    545    546   \\\n",
       "Temperature  21.500000  21.5000  21.500000  21.5000  21.525000  21.55  21.60   \n",
       "Temperature  20.926667  20.9175  20.963333  20.8900  20.890000  20.89  20.89   \n",
       "Temperature  19.575000  19.5750  19.575000  19.6000  19.633333  19.65  19.70   \n",
       "Temperature  19.260000  19.2450  19.267500  19.2675  19.260000  19.29  19.26   \n",
       "Temperature  19.745000  19.7675  19.790000  19.7900  19.790000  19.84  19.89   \n",
       "Temperature  21.290000  21.2900  21.320000  21.3900  21.500000  21.50  21.50   \n",
       "Temperature  19.950000  19.8900  19.950000  19.9700  19.950000  19.93  19.95   \n",
       "Temperature  20.530000  20.6000  20.600000  20.6800  20.680000  20.68  20.70   \n",
       "Temperature  20.700000  20.7000  20.700000  20.7500  20.760000  20.79  20.79   \n",
       "Temperature  20.790000  20.8200  20.840000  20.8900  20.890000  20.89  20.89   \n",
       "\n",
       "                547      548        549   ...    1070       1071       1072  \\\n",
       "Temperature  21.6000  21.7000  21.700000  ...  22.125  22.133333  22.125000   \n",
       "Temperature  20.8900  20.8900  20.890000  ...  21.700  21.700000  21.633333   \n",
       "Temperature  19.7675  19.7900  19.790000  ...  20.390  20.390000  20.390000   \n",
       "Temperature  19.2900  19.2900  19.290000  ...  19.390  19.390000  19.463333   \n",
       "Temperature  19.8900  19.9175  19.963333  ...  22.100  22.100000  22.100000   \n",
       "Temperature  21.5700  21.5700  21.570000  ...  21.290  21.290000  21.230000   \n",
       "Temperature  19.9600  19.9500  20.000000  ...  19.890  19.890000  19.890000   \n",
       "Temperature  20.7700  20.7900  20.770000  ...  20.550  20.500000  20.500000   \n",
       "Temperature  20.7900  20.7900  20.790000  ...  22.000  21.960000  22.000000   \n",
       "Temperature  20.8900  20.8900  20.890000  ...  22.200  22.200000  22.200000   \n",
       "\n",
       "               1073   1074   1075       1076    1077   1078   1079  \n",
       "Temperature  22.100  22.10  22.10  22.066667  22.025  22.00  22.00  \n",
       "Temperature  21.675  21.70  21.70  21.625000  21.650  21.65  21.70  \n",
       "Temperature  20.390  20.50  20.39  20.390000  20.390  20.39  20.39  \n",
       "Temperature  19.390  19.39  19.39  19.390000  19.390  19.39  19.39  \n",
       "Temperature  22.100  22.10  22.10  22.100000  22.100  22.10  22.10  \n",
       "Temperature  21.270  21.29  21.25  21.220000  21.290  21.25  21.25  \n",
       "Temperature  19.930  19.89  19.89  19.890000  19.890  19.89  19.89  \n",
       "Temperature  20.500  20.50  20.50  20.500000  20.500  20.50  20.50  \n",
       "Temperature  21.930  22.00  21.97  21.950000  21.890  21.92  21.95  \n",
       "Temperature  22.200  22.20  22.20  22.200000  22.200  22.20  22.20  \n",
       "\n",
       "[10 rows x 540 columns]"
      ]
     },
     "execution_count": 19,
     "metadata": {},
     "output_type": "execute_result"
    }
   ],
   "source": [
    "df1"
   ]
  },
  {
   "cell_type": "code",
   "execution_count": 20,
   "metadata": {},
   "outputs": [
    {
     "name": "stderr",
     "output_type": "stream",
     "text": [
      "Using TensorFlow backend.\n",
      "/Users/marco/opt/anaconda3/lib/python3.7/site-packages/sklearn/utils/deprecation.py:144: FutureWarning: The sklearn.cluster.k_means_ module is  deprecated in version 0.22 and will be removed in version 0.24. The corresponding classes / functions should instead be imported from sklearn.cluster. Anything that cannot be imported from sklearn.cluster is now part of the private API.\n",
      "  warnings.warn(message, FutureWarning)\n"
     ]
    }
   ],
   "source": [
    "import pandas as pd\n",
    "\n",
    "from keras.optimizers import Adagrad\n",
    "from tslearn.shapelets import ShapeletModel\n",
    "from tslearn.shapelets import grabocka_params_to_shapelet_size_dict\n",
    "\n",
    "from tslearn.preprocessing import TimeSeriesScalerMinMax"
   ]
  },
  {
   "cell_type": "code",
   "execution_count": 21,
   "metadata": {},
   "outputs": [],
   "source": [
    "attributes = [col for col in df1.columns]\n",
    "X = df1[attributes].values"
   ]
  },
  {
   "cell_type": "code",
   "execution_count": 22,
   "metadata": {},
   "outputs": [
    {
     "data": {
      "text/plain": [
       "(10, 540)"
      ]
     },
     "execution_count": 22,
     "metadata": {},
     "output_type": "execute_result"
    }
   ],
   "source": [
    "X.shape"
   ]
  },
  {
   "cell_type": "code",
   "execution_count": 23,
   "metadata": {},
   "outputs": [],
   "source": [
    "y = [1, 1, 0, 0, 1, 1, 0, 0, 1, 1 ]"
   ]
  },
  {
   "cell_type": "code",
   "execution_count": 24,
   "metadata": {},
   "outputs": [
    {
     "name": "stdout",
     "output_type": "stream",
     "text": [
      "n_ts 10\n",
      "ts_sz 540\n",
      "n_classes 2\n",
      "shapelet_sizes {270: 3}\n"
     ]
    }
   ],
   "source": [
    "#X1 = X.transpose()\n",
    "n_ts, ts_sz = X.shape\n",
    "n_classes = len(set(y))\n",
    "\n",
    "# Set the number of shapelets per size as done in the original paper\n",
    "shapelet_sizes = grabocka_params_to_shapelet_size_dict(n_ts=n_ts,\n",
    "                                                       ts_sz=ts_sz,\n",
    "                                                       n_classes=n_classes,\n",
    "                                                       l=0.5,\n",
    "                                                       r=1)\n",
    "\n",
    "print('n_ts', n_ts)\n",
    "print('ts_sz', ts_sz)\n",
    "print('n_classes', n_classes)\n",
    "print('shapelet_sizes', shapelet_sizes)"
   ]
  },
  {
   "cell_type": "code",
   "execution_count": 25,
   "metadata": {},
   "outputs": [],
   "source": [
    "shp_clf = ShapeletModel(n_shapelets_per_size=shapelet_sizes,\n",
    "                        optimizer=\"sgd\",\n",
    "                        weight_regularizer=.01,\n",
    "                        max_iter=200,\n",
    "                        verbose=1)"
   ]
  },
  {
   "cell_type": "code",
   "execution_count": 26,
   "metadata": {},
   "outputs": [
    {
     "name": "stdout",
     "output_type": "stream",
     "text": [
      "WARNING:tensorflow:From /Users/marco/opt/anaconda3/lib/python3.7/site-packages/tensorflow_core/python/ops/resource_variable_ops.py:1630: calling BaseResourceVariable.__init__ (from tensorflow.python.ops.resource_variable_ops) with constraint is deprecated and will be removed in a future version.\n",
      "Instructions for updating:\n",
      "If using Keras pass *_constraint arguments to layers.\n",
      "WARNING:tensorflow:From /Users/marco/opt/anaconda3/lib/python3.7/site-packages/tensorflow_core/python/ops/nn_impl.py:183: where (from tensorflow.python.ops.array_ops) is deprecated and will be removed in a future version.\n",
      "Instructions for updating:\n",
      "Use tf.where in 2.0, which has the same broadcast rule as np.where\n",
      "WARNING:tensorflow:From /Users/marco/opt/anaconda3/lib/python3.7/site-packages/keras/backend/tensorflow_backend.py:422: The name tf.global_variables is deprecated. Please use tf.compat.v1.global_variables instead.\n",
      "\n",
      "Epoch 1/200\n",
      "10/10 [==============================] - 0s 17ms/step - loss: 1.4618 - binary_accuracy: 0.4000 - binary_crossentropy: 1.4423\n",
      "Epoch 2/200\n",
      "10/10 [==============================] - 0s 1ms/step - loss: 1.4407 - binary_accuracy: 0.4000 - binary_crossentropy: 1.4214\n",
      "Epoch 3/200\n",
      "10/10 [==============================] - 0s 2ms/step - loss: 1.4198 - binary_accuracy: 0.4000 - binary_crossentropy: 1.4007\n",
      "Epoch 4/200\n",
      "10/10 [==============================] - 0s 2ms/step - loss: 1.3990 - binary_accuracy: 0.4000 - binary_crossentropy: 1.3801\n",
      "Epoch 5/200\n",
      "10/10 [==============================] - 0s 1ms/step - loss: 1.3785 - binary_accuracy: 0.4000 - binary_crossentropy: 1.3598\n",
      "Epoch 6/200\n",
      "10/10 [==============================] - 0s 2ms/step - loss: 1.3582 - binary_accuracy: 0.4000 - binary_crossentropy: 1.3397\n",
      "Epoch 7/200\n",
      "10/10 [==============================] - 0s 3ms/step - loss: 1.3381 - binary_accuracy: 0.4000 - binary_crossentropy: 1.3198\n",
      "Epoch 8/200\n",
      "10/10 [==============================] - 0s 1ms/step - loss: 1.3182 - binary_accuracy: 0.4000 - binary_crossentropy: 1.3000\n",
      "Epoch 9/200\n",
      "10/10 [==============================] - 0s 2ms/step - loss: 1.2985 - binary_accuracy: 0.4000 - binary_crossentropy: 1.2805\n",
      "Epoch 10/200\n",
      "10/10 [==============================] - 0s 1ms/step - loss: 1.2791 - binary_accuracy: 0.4000 - binary_crossentropy: 1.2612\n",
      "Epoch 11/200\n",
      "10/10 [==============================] - 0s 3ms/step - loss: 1.2598 - binary_accuracy: 0.4000 - binary_crossentropy: 1.2421\n",
      "Epoch 12/200\n",
      "10/10 [==============================] - 0s 1ms/step - loss: 1.2408 - binary_accuracy: 0.4000 - binary_crossentropy: 1.2232\n",
      "Epoch 13/200\n",
      "10/10 [==============================] - 0s 2ms/step - loss: 1.2220 - binary_accuracy: 0.4000 - binary_crossentropy: 1.2046\n",
      "Epoch 14/200\n",
      "10/10 [==============================] - 0s 2ms/step - loss: 1.2034 - binary_accuracy: 0.4000 - binary_crossentropy: 1.1861\n",
      "Epoch 15/200\n",
      "10/10 [==============================] - 0s 2ms/step - loss: 1.1851 - binary_accuracy: 0.4000 - binary_crossentropy: 1.1679\n",
      "Epoch 16/200\n",
      "10/10 [==============================] - 0s 2ms/step - loss: 1.1670 - binary_accuracy: 0.4000 - binary_crossentropy: 1.1500\n",
      "Epoch 17/200\n",
      "10/10 [==============================] - 0s 2ms/step - loss: 1.1491 - binary_accuracy: 0.4000 - binary_crossentropy: 1.1322\n",
      "Epoch 18/200\n",
      "10/10 [==============================] - 0s 2ms/step - loss: 1.1314 - binary_accuracy: 0.4000 - binary_crossentropy: 1.1147\n",
      "Epoch 19/200\n",
      "10/10 [==============================] - 0s 2ms/step - loss: 1.1140 - binary_accuracy: 0.4000 - binary_crossentropy: 1.0974\n",
      "Epoch 20/200\n",
      "10/10 [==============================] - 0s 2ms/step - loss: 1.0969 - binary_accuracy: 0.4000 - binary_crossentropy: 1.0804\n",
      "Epoch 21/200\n",
      "10/10 [==============================] - 0s 2ms/step - loss: 1.0800 - binary_accuracy: 0.4000 - binary_crossentropy: 1.0636\n",
      "Epoch 22/200\n",
      "10/10 [==============================] - 0s 2ms/step - loss: 1.0633 - binary_accuracy: 0.4000 - binary_crossentropy: 1.0471\n",
      "Epoch 23/200\n",
      "10/10 [==============================] - 0s 1ms/step - loss: 1.0470 - binary_accuracy: 0.4000 - binary_crossentropy: 1.0308\n",
      "Epoch 24/200\n",
      "10/10 [==============================] - 0s 4ms/step - loss: 1.0308 - binary_accuracy: 0.4000 - binary_crossentropy: 1.0147\n",
      "Epoch 25/200\n",
      "10/10 [==============================] - 0s 3ms/step - loss: 1.0149 - binary_accuracy: 0.4000 - binary_crossentropy: 0.9990\n",
      "Epoch 26/200\n",
      "10/10 [==============================] - 0s 1ms/step - loss: 0.9993 - binary_accuracy: 0.5000 - binary_crossentropy: 0.9835\n",
      "Epoch 27/200\n",
      "10/10 [==============================] - 0s 2ms/step - loss: 0.9839 - binary_accuracy: 0.5000 - binary_crossentropy: 0.9682\n",
      "Epoch 28/200\n",
      "10/10 [==============================] - 0s 2ms/step - loss: 0.9689 - binary_accuracy: 0.5000 - binary_crossentropy: 0.9532\n",
      "Epoch 29/200\n",
      "10/10 [==============================] - 0s 3ms/step - loss: 0.9540 - binary_accuracy: 0.5000 - binary_crossentropy: 0.9384\n",
      "Epoch 30/200\n",
      "10/10 [==============================] - 0s 2ms/step - loss: 0.9394 - binary_accuracy: 0.5000 - binary_crossentropy: 0.9239\n",
      "Epoch 31/200\n",
      "10/10 [==============================] - 0s 3ms/step - loss: 0.9252 - binary_accuracy: 0.5000 - binary_crossentropy: 0.9098\n",
      "Epoch 32/200\n",
      "10/10 [==============================] - 0s 2ms/step - loss: 0.9111 - binary_accuracy: 0.6000 - binary_crossentropy: 0.8958\n",
      "Epoch 33/200\n",
      "10/10 [==============================] - 0s 2ms/step - loss: 0.8974 - binary_accuracy: 0.6000 - binary_crossentropy: 0.8821\n",
      "Epoch 34/200\n",
      "10/10 [==============================] - 0s 1ms/step - loss: 0.8839 - binary_accuracy: 0.6000 - binary_crossentropy: 0.8687\n",
      "Epoch 35/200\n",
      "10/10 [==============================] - 0s 4ms/step - loss: 0.8707 - binary_accuracy: 0.6000 - binary_crossentropy: 0.8556\n",
      "Epoch 36/200\n",
      "10/10 [==============================] - 0s 2ms/step - loss: 0.8578 - binary_accuracy: 0.6000 - binary_crossentropy: 0.8427\n",
      "Epoch 37/200\n",
      "10/10 [==============================] - 0s 2ms/step - loss: 0.8452 - binary_accuracy: 0.6000 - binary_crossentropy: 0.8302\n",
      "Epoch 38/200\n",
      "10/10 [==============================] - 0s 3ms/step - loss: 0.8328 - binary_accuracy: 0.6000 - binary_crossentropy: 0.8178\n",
      "Epoch 39/200\n",
      "10/10 [==============================] - 0s 1ms/step - loss: 0.8207 - binary_accuracy: 0.6000 - binary_crossentropy: 0.8058\n",
      "Epoch 40/200\n",
      "10/10 [==============================] - 0s 1ms/step - loss: 0.8089 - binary_accuracy: 0.7000 - binary_crossentropy: 0.7941\n",
      "Epoch 41/200\n",
      "10/10 [==============================] - 0s 2ms/step - loss: 0.7974 - binary_accuracy: 0.8000 - binary_crossentropy: 0.7826\n",
      "Epoch 42/200\n",
      "10/10 [==============================] - 0s 1ms/step - loss: 0.7861 - binary_accuracy: 0.8000 - binary_crossentropy: 0.7714\n",
      "Epoch 43/200\n",
      "10/10 [==============================] - 0s 2ms/step - loss: 0.7751 - binary_accuracy: 0.8000 - binary_crossentropy: 0.7604\n",
      "Epoch 44/200\n",
      "10/10 [==============================] - 0s 1ms/step - loss: 0.7644 - binary_accuracy: 0.8000 - binary_crossentropy: 0.7497\n",
      "Epoch 45/200\n",
      "10/10 [==============================] - 0s 1ms/step - loss: 0.7539 - binary_accuracy: 0.8000 - binary_crossentropy: 0.7393\n",
      "Epoch 46/200\n",
      "10/10 [==============================] - 0s 2ms/step - loss: 0.7438 - binary_accuracy: 0.8000 - binary_crossentropy: 0.7292\n",
      "Epoch 47/200\n",
      "10/10 [==============================] - 0s 3ms/step - loss: 0.7338 - binary_accuracy: 0.8000 - binary_crossentropy: 0.7193\n",
      "Epoch 48/200\n",
      "10/10 [==============================] - 0s 3ms/step - loss: 0.7242 - binary_accuracy: 0.8000 - binary_crossentropy: 0.7097\n",
      "Epoch 49/200\n",
      "10/10 [==============================] - 0s 3ms/step - loss: 0.7149 - binary_accuracy: 0.8000 - binary_crossentropy: 0.7003\n",
      "Epoch 50/200\n",
      "10/10 [==============================] - 0s 3ms/step - loss: 0.7057 - binary_accuracy: 0.8000 - binary_crossentropy: 0.6912\n",
      "Epoch 51/200\n",
      "10/10 [==============================] - 0s 3ms/step - loss: 0.6969 - binary_accuracy: 0.8000 - binary_crossentropy: 0.6824\n",
      "Epoch 52/200\n",
      "10/10 [==============================] - 0s 3ms/step - loss: 0.6882 - binary_accuracy: 0.8000 - binary_crossentropy: 0.6738\n",
      "Epoch 53/200\n",
      "10/10 [==============================] - 0s 2ms/step - loss: 0.6799 - binary_accuracy: 0.8000 - binary_crossentropy: 0.6654\n",
      "Epoch 54/200\n",
      "10/10 [==============================] - 0s 3ms/step - loss: 0.6718 - binary_accuracy: 0.8000 - binary_crossentropy: 0.6573\n"
     ]
    },
    {
     "name": "stdout",
     "output_type": "stream",
     "text": [
      "Epoch 55/200\n",
      "10/10 [==============================] - 0s 3ms/step - loss: 0.6639 - binary_accuracy: 0.8000 - binary_crossentropy: 0.6495\n",
      "Epoch 56/200\n",
      "10/10 [==============================] - 0s 2ms/step - loss: 0.6563 - binary_accuracy: 0.8000 - binary_crossentropy: 0.6418\n",
      "Epoch 57/200\n",
      "10/10 [==============================] - 0s 2ms/step - loss: 0.6488 - binary_accuracy: 0.8000 - binary_crossentropy: 0.6344\n",
      "Epoch 58/200\n",
      "10/10 [==============================] - 0s 2ms/step - loss: 0.6417 - binary_accuracy: 0.8000 - binary_crossentropy: 0.6273\n",
      "Epoch 59/200\n",
      "10/10 [==============================] - 0s 2ms/step - loss: 0.6347 - binary_accuracy: 0.8000 - binary_crossentropy: 0.6203\n",
      "Epoch 60/200\n",
      "10/10 [==============================] - 0s 2ms/step - loss: 0.6280 - binary_accuracy: 0.8000 - binary_crossentropy: 0.6136\n",
      "Epoch 61/200\n",
      "10/10 [==============================] - 0s 2ms/step - loss: 0.6215 - binary_accuracy: 0.9000 - binary_crossentropy: 0.6071\n",
      "Epoch 62/200\n",
      "10/10 [==============================] - 0s 2ms/step - loss: 0.6152 - binary_accuracy: 0.9000 - binary_crossentropy: 0.6008\n",
      "Epoch 63/200\n",
      "10/10 [==============================] - 0s 2ms/step - loss: 0.6091 - binary_accuracy: 0.9000 - binary_crossentropy: 0.5947\n",
      "Epoch 64/200\n",
      "10/10 [==============================] - 0s 2ms/step - loss: 0.6031 - binary_accuracy: 0.9000 - binary_crossentropy: 0.5888\n",
      "Epoch 65/200\n",
      "10/10 [==============================] - 0s 5ms/step - loss: 0.5974 - binary_accuracy: 0.9000 - binary_crossentropy: 0.5831\n",
      "Epoch 66/200\n",
      "10/10 [==============================] - 0s 3ms/step - loss: 0.5919 - binary_accuracy: 0.9000 - binary_crossentropy: 0.5775\n",
      "Epoch 67/200\n",
      "10/10 [==============================] - 0s 6ms/step - loss: 0.5866 - binary_accuracy: 0.9000 - binary_crossentropy: 0.5722\n",
      "Epoch 68/200\n",
      "10/10 [==============================] - 0s 4ms/step - loss: 0.5814 - binary_accuracy: 0.9000 - binary_crossentropy: 0.5670\n",
      "Epoch 69/200\n",
      "10/10 [==============================] - 0s 2ms/step - loss: 0.5765 - binary_accuracy: 0.9000 - binary_crossentropy: 0.5621\n",
      "Epoch 70/200\n",
      "10/10 [==============================] - 0s 2ms/step - loss: 0.5716 - binary_accuracy: 0.9000 - binary_crossentropy: 0.5572\n",
      "Epoch 71/200\n",
      "10/10 [==============================] - 0s 2ms/step - loss: 0.5670 - binary_accuracy: 0.9000 - binary_crossentropy: 0.5526\n",
      "Epoch 72/200\n",
      "10/10 [==============================] - 0s 2ms/step - loss: 0.5625 - binary_accuracy: 0.9000 - binary_crossentropy: 0.5481\n",
      "Epoch 73/200\n",
      "10/10 [==============================] - 0s 2ms/step - loss: 0.5582 - binary_accuracy: 0.9000 - binary_crossentropy: 0.5437\n",
      "Epoch 74/200\n",
      "10/10 [==============================] - 0s 2ms/step - loss: 0.5540 - binary_accuracy: 0.9000 - binary_crossentropy: 0.5395\n",
      "Epoch 75/200\n",
      "10/10 [==============================] - 0s 2ms/step - loss: 0.5499 - binary_accuracy: 0.9000 - binary_crossentropy: 0.5355\n",
      "Epoch 76/200\n",
      "10/10 [==============================] - 0s 1ms/step - loss: 0.5460 - binary_accuracy: 0.8000 - binary_crossentropy: 0.5315\n",
      "Epoch 77/200\n",
      "10/10 [==============================] - 0s 1ms/step - loss: 0.5422 - binary_accuracy: 0.8000 - binary_crossentropy: 0.5277\n",
      "Epoch 78/200\n",
      "10/10 [==============================] - 0s 1ms/step - loss: 0.5386 - binary_accuracy: 0.8000 - binary_crossentropy: 0.5241\n",
      "Epoch 79/200\n",
      "10/10 [==============================] - 0s 2ms/step - loss: 0.5351 - binary_accuracy: 0.8000 - binary_crossentropy: 0.5205\n",
      "Epoch 80/200\n",
      "10/10 [==============================] - 0s 1ms/step - loss: 0.5317 - binary_accuracy: 0.8000 - binary_crossentropy: 0.5171\n",
      "Epoch 81/200\n",
      "10/10 [==============================] - 0s 1ms/step - loss: 0.5284 - binary_accuracy: 0.8000 - binary_crossentropy: 0.5139\n",
      "Epoch 82/200\n",
      "10/10 [==============================] - 0s 2ms/step - loss: 0.5252 - binary_accuracy: 0.8000 - binary_crossentropy: 0.5107\n",
      "Epoch 83/200\n",
      "10/10 [==============================] - 0s 2ms/step - loss: 0.5222 - binary_accuracy: 0.8000 - binary_crossentropy: 0.5076\n",
      "Epoch 84/200\n",
      "10/10 [==============================] - 0s 2ms/step - loss: 0.5192 - binary_accuracy: 0.8000 - binary_crossentropy: 0.5046\n",
      "Epoch 85/200\n",
      "10/10 [==============================] - 0s 2ms/step - loss: 0.5164 - binary_accuracy: 0.8000 - binary_crossentropy: 0.5017\n",
      "Epoch 86/200\n",
      "10/10 [==============================] - 0s 2ms/step - loss: 0.5136 - binary_accuracy: 0.8000 - binary_crossentropy: 0.4989\n",
      "Epoch 87/200\n",
      "10/10 [==============================] - 0s 2ms/step - loss: 0.5109 - binary_accuracy: 0.8000 - binary_crossentropy: 0.4963\n",
      "Epoch 88/200\n",
      "10/10 [==============================] - 0s 2ms/step - loss: 0.5084 - binary_accuracy: 0.8000 - binary_crossentropy: 0.4937\n",
      "Epoch 89/200\n",
      "10/10 [==============================] - 0s 1ms/step - loss: 0.5059 - binary_accuracy: 0.8000 - binary_crossentropy: 0.4912\n",
      "Epoch 90/200\n",
      "10/10 [==============================] - 0s 2ms/step - loss: 0.5035 - binary_accuracy: 0.8000 - binary_crossentropy: 0.4887\n",
      "Epoch 91/200\n",
      "10/10 [==============================] - 0s 2ms/step - loss: 0.5012 - binary_accuracy: 0.8000 - binary_crossentropy: 0.4864\n",
      "Epoch 92/200\n",
      "10/10 [==============================] - 0s 2ms/step - loss: 0.4989 - binary_accuracy: 0.8000 - binary_crossentropy: 0.4841\n",
      "Epoch 93/200\n",
      "10/10 [==============================] - 0s 2ms/step - loss: 0.4967 - binary_accuracy: 0.8000 - binary_crossentropy: 0.4819\n",
      "Epoch 94/200\n",
      "10/10 [==============================] - 0s 4ms/step - loss: 0.4946 - binary_accuracy: 0.8000 - binary_crossentropy: 0.4798\n",
      "Epoch 95/200\n",
      "10/10 [==============================] - 0s 3ms/step - loss: 0.4926 - binary_accuracy: 0.8000 - binary_crossentropy: 0.4778\n",
      "Epoch 96/200\n",
      "10/10 [==============================] - 0s 3ms/step - loss: 0.4906 - binary_accuracy: 0.8000 - binary_crossentropy: 0.4758\n",
      "Epoch 97/200\n",
      "10/10 [==============================] - 0s 3ms/step - loss: 0.4887 - binary_accuracy: 0.9000 - binary_crossentropy: 0.4738\n",
      "Epoch 98/200\n",
      "10/10 [==============================] - 0s 2ms/step - loss: 0.4869 - binary_accuracy: 0.9000 - binary_crossentropy: 0.4720\n",
      "Epoch 99/200\n",
      "10/10 [==============================] - 0s 2ms/step - loss: 0.4851 - binary_accuracy: 0.9000 - binary_crossentropy: 0.4701\n",
      "Epoch 100/200\n",
      "10/10 [==============================] - 0s 1ms/step - loss: 0.4834 - binary_accuracy: 0.9000 - binary_crossentropy: 0.4684\n",
      "Epoch 101/200\n",
      "10/10 [==============================] - 0s 4ms/step - loss: 0.4817 - binary_accuracy: 0.9000 - binary_crossentropy: 0.4667\n",
      "Epoch 102/200\n",
      "10/10 [==============================] - 0s 3ms/step - loss: 0.4801 - binary_accuracy: 0.9000 - binary_crossentropy: 0.4651\n",
      "Epoch 103/200\n",
      "10/10 [==============================] - 0s 2ms/step - loss: 0.4785 - binary_accuracy: 0.9000 - binary_crossentropy: 0.4635\n",
      "Epoch 104/200\n",
      "10/10 [==============================] - 0s 2ms/step - loss: 0.4770 - binary_accuracy: 0.9000 - binary_crossentropy: 0.4619\n",
      "Epoch 105/200\n",
      "10/10 [==============================] - 0s 3ms/step - loss: 0.4755 - binary_accuracy: 0.9000 - binary_crossentropy: 0.4604\n",
      "Epoch 106/200\n",
      "10/10 [==============================] - 0s 2ms/step - loss: 0.4741 - binary_accuracy: 0.9000 - binary_crossentropy: 0.4590\n",
      "Epoch 107/200\n",
      "10/10 [==============================] - 0s 2ms/step - loss: 0.4727 - binary_accuracy: 0.9000 - binary_crossentropy: 0.4575\n",
      "Epoch 108/200\n",
      "10/10 [==============================] - 0s 2ms/step - loss: 0.4714 - binary_accuracy: 0.9000 - binary_crossentropy: 0.4562\n",
      "Epoch 109/200\n",
      "10/10 [==============================] - 0s 6ms/step - loss: 0.4701 - binary_accuracy: 0.9000 - binary_crossentropy: 0.4549\n",
      "Epoch 110/200\n",
      "10/10 [==============================] - 0s 2ms/step - loss: 0.4688 - binary_accuracy: 0.9000 - binary_crossentropy: 0.4536\n",
      "Epoch 111/200\n",
      "10/10 [==============================] - 0s 3ms/step - loss: 0.4676 - binary_accuracy: 0.9000 - binary_crossentropy: 0.4523\n",
      "Epoch 112/200\n",
      "10/10 [==============================] - 0s 3ms/step - loss: 0.4664 - binary_accuracy: 0.9000 - binary_crossentropy: 0.4511\n",
      "Epoch 113/200\n",
      "10/10 [==============================] - 0s 2ms/step - loss: 0.4652 - binary_accuracy: 0.9000 - binary_crossentropy: 0.4499\n",
      "Epoch 114/200\n",
      "10/10 [==============================] - 0s 2ms/step - loss: 0.4641 - binary_accuracy: 0.9000 - binary_crossentropy: 0.4488\n"
     ]
    },
    {
     "name": "stdout",
     "output_type": "stream",
     "text": [
      "Epoch 115/200\n",
      "10/10 [==============================] - 0s 2ms/step - loss: 0.4630 - binary_accuracy: 0.9000 - binary_crossentropy: 0.4476\n",
      "Epoch 116/200\n",
      "10/10 [==============================] - 0s 1ms/step - loss: 0.4619 - binary_accuracy: 0.9000 - binary_crossentropy: 0.4466\n",
      "Epoch 117/200\n",
      "10/10 [==============================] - 0s 2ms/step - loss: 0.4609 - binary_accuracy: 0.8000 - binary_crossentropy: 0.4455\n",
      "Epoch 118/200\n",
      "10/10 [==============================] - 0s 2ms/step - loss: 0.4599 - binary_accuracy: 0.8000 - binary_crossentropy: 0.4445\n",
      "Epoch 119/200\n",
      "10/10 [==============================] - 0s 3ms/step - loss: 0.4589 - binary_accuracy: 0.8000 - binary_crossentropy: 0.4434\n",
      "Epoch 120/200\n",
      "10/10 [==============================] - 0s 3ms/step - loss: 0.4579 - binary_accuracy: 0.8000 - binary_crossentropy: 0.4425\n",
      "Epoch 121/200\n",
      "10/10 [==============================] - 0s 2ms/step - loss: 0.4570 - binary_accuracy: 0.8000 - binary_crossentropy: 0.4415\n",
      "Epoch 122/200\n",
      "10/10 [==============================] - 0s 3ms/step - loss: 0.4561 - binary_accuracy: 0.8000 - binary_crossentropy: 0.4406\n",
      "Epoch 123/200\n",
      "10/10 [==============================] - 0s 2ms/step - loss: 0.4553 - binary_accuracy: 0.8000 - binary_crossentropy: 0.4397\n",
      "Epoch 124/200\n",
      "10/10 [==============================] - 0s 2ms/step - loss: 0.4544 - binary_accuracy: 0.8000 - binary_crossentropy: 0.4388\n",
      "Epoch 125/200\n",
      "10/10 [==============================] - 0s 3ms/step - loss: 0.4536 - binary_accuracy: 0.8000 - binary_crossentropy: 0.4380\n",
      "Epoch 126/200\n",
      "10/10 [==============================] - 0s 2ms/step - loss: 0.4528 - binary_accuracy: 0.8000 - binary_crossentropy: 0.4371\n",
      "Epoch 127/200\n",
      "10/10 [==============================] - 0s 3ms/step - loss: 0.4520 - binary_accuracy: 0.8000 - binary_crossentropy: 0.4363\n",
      "Epoch 128/200\n",
      "10/10 [==============================] - 0s 3ms/step - loss: 0.4512 - binary_accuracy: 0.8000 - binary_crossentropy: 0.4355\n",
      "Epoch 129/200\n",
      "10/10 [==============================] - 0s 3ms/step - loss: 0.4505 - binary_accuracy: 0.8000 - binary_crossentropy: 0.4348\n",
      "Epoch 130/200\n",
      "10/10 [==============================] - 0s 2ms/step - loss: 0.4498 - binary_accuracy: 0.8000 - binary_crossentropy: 0.4340\n",
      "Epoch 131/200\n",
      "10/10 [==============================] - 0s 3ms/step - loss: 0.4490 - binary_accuracy: 0.8000 - binary_crossentropy: 0.4333\n",
      "Epoch 132/200\n",
      "10/10 [==============================] - 0s 2ms/step - loss: 0.4483 - binary_accuracy: 0.8000 - binary_crossentropy: 0.4326\n",
      "Epoch 133/200\n",
      "10/10 [==============================] - 0s 3ms/step - loss: 0.4477 - binary_accuracy: 0.8000 - binary_crossentropy: 0.4318\n",
      "Epoch 134/200\n",
      "10/10 [==============================] - 0s 3ms/step - loss: 0.4470 - binary_accuracy: 0.8000 - binary_crossentropy: 0.4312\n",
      "Epoch 135/200\n",
      "10/10 [==============================] - 0s 3ms/step - loss: 0.4464 - binary_accuracy: 0.8000 - binary_crossentropy: 0.4305\n",
      "Epoch 136/200\n",
      "10/10 [==============================] - 0s 2ms/step - loss: 0.4458 - binary_accuracy: 0.8000 - binary_crossentropy: 0.4299\n",
      "Epoch 137/200\n",
      "10/10 [==============================] - 0s 2ms/step - loss: 0.4451 - binary_accuracy: 0.8000 - binary_crossentropy: 0.4292\n",
      "Epoch 138/200\n",
      "10/10 [==============================] - 0s 2ms/step - loss: 0.4445 - binary_accuracy: 0.8000 - binary_crossentropy: 0.4286\n",
      "Epoch 139/200\n",
      "10/10 [==============================] - 0s 2ms/step - loss: 0.4440 - binary_accuracy: 0.8000 - binary_crossentropy: 0.4280\n",
      "Epoch 140/200\n",
      "10/10 [==============================] - 0s 2ms/step - loss: 0.4434 - binary_accuracy: 0.8000 - binary_crossentropy: 0.4274\n",
      "Epoch 141/200\n",
      "10/10 [==============================] - 0s 2ms/step - loss: 0.4428 - binary_accuracy: 0.8000 - binary_crossentropy: 0.4268\n",
      "Epoch 142/200\n",
      "10/10 [==============================] - 0s 2ms/step - loss: 0.4423 - binary_accuracy: 0.8000 - binary_crossentropy: 0.4262\n",
      "Epoch 143/200\n",
      "10/10 [==============================] - 0s 2ms/step - loss: 0.4418 - binary_accuracy: 0.8000 - binary_crossentropy: 0.4257\n",
      "Epoch 144/200\n",
      "10/10 [==============================] - 0s 2ms/step - loss: 0.4413 - binary_accuracy: 0.8000 - binary_crossentropy: 0.4251\n",
      "Epoch 145/200\n",
      "10/10 [==============================] - 0s 2ms/step - loss: 0.4407 - binary_accuracy: 0.8000 - binary_crossentropy: 0.4246\n",
      "Epoch 146/200\n",
      "10/10 [==============================] - 0s 3ms/step - loss: 0.4402 - binary_accuracy: 0.8000 - binary_crossentropy: 0.4241\n",
      "Epoch 147/200\n",
      "10/10 [==============================] - 0s 2ms/step - loss: 0.4398 - binary_accuracy: 0.8000 - binary_crossentropy: 0.4236\n",
      "Epoch 148/200\n",
      "10/10 [==============================] - 0s 2ms/step - loss: 0.4393 - binary_accuracy: 0.8000 - binary_crossentropy: 0.4231\n",
      "Epoch 149/200\n",
      "10/10 [==============================] - 0s 1ms/step - loss: 0.4388 - binary_accuracy: 0.8000 - binary_crossentropy: 0.4226\n",
      "Epoch 150/200\n",
      "10/10 [==============================] - 0s 1ms/step - loss: 0.4384 - binary_accuracy: 0.8000 - binary_crossentropy: 0.4221\n",
      "Epoch 151/200\n",
      "10/10 [==============================] - 0s 1ms/step - loss: 0.4379 - binary_accuracy: 0.8000 - binary_crossentropy: 0.4216\n",
      "Epoch 152/200\n",
      "10/10 [==============================] - 0s 1ms/step - loss: 0.4375 - binary_accuracy: 0.8000 - binary_crossentropy: 0.4212\n",
      "Epoch 153/200\n",
      "10/10 [==============================] - 0s 3ms/step - loss: 0.4371 - binary_accuracy: 0.8000 - binary_crossentropy: 0.4207\n",
      "Epoch 154/200\n",
      "10/10 [==============================] - 0s 2ms/step - loss: 0.4366 - binary_accuracy: 0.8000 - binary_crossentropy: 0.4203\n",
      "Epoch 155/200\n",
      "10/10 [==============================] - 0s 2ms/step - loss: 0.4362 - binary_accuracy: 0.8000 - binary_crossentropy: 0.4198\n",
      "Epoch 156/200\n",
      "10/10 [==============================] - 0s 3ms/step - loss: 0.4358 - binary_accuracy: 0.8000 - binary_crossentropy: 0.4194\n",
      "Epoch 157/200\n",
      "10/10 [==============================] - 0s 2ms/step - loss: 0.4354 - binary_accuracy: 0.8000 - binary_crossentropy: 0.4190\n",
      "Epoch 158/200\n",
      "10/10 [==============================] - 0s 2ms/step - loss: 0.4351 - binary_accuracy: 0.8000 - binary_crossentropy: 0.4186\n",
      "Epoch 159/200\n",
      "10/10 [==============================] - 0s 3ms/step - loss: 0.4347 - binary_accuracy: 0.8000 - binary_crossentropy: 0.4182\n",
      "Epoch 160/200\n",
      "10/10 [==============================] - 0s 2ms/step - loss: 0.4343 - binary_accuracy: 0.8000 - binary_crossentropy: 0.4178\n",
      "Epoch 161/200\n",
      "10/10 [==============================] - 0s 3ms/step - loss: 0.4340 - binary_accuracy: 0.8000 - binary_crossentropy: 0.4174\n",
      "Epoch 162/200\n",
      "10/10 [==============================] - 0s 1ms/step - loss: 0.4336 - binary_accuracy: 0.8000 - binary_crossentropy: 0.4171\n",
      "Epoch 163/200\n",
      "10/10 [==============================] - 0s 1ms/step - loss: 0.4333 - binary_accuracy: 0.8000 - binary_crossentropy: 0.4167\n",
      "Epoch 164/200\n",
      "10/10 [==============================] - 0s 1ms/step - loss: 0.4329 - binary_accuracy: 0.8000 - binary_crossentropy: 0.4163\n",
      "Epoch 165/200\n",
      "10/10 [==============================] - 0s 1ms/step - loss: 0.4326 - binary_accuracy: 0.8000 - binary_crossentropy: 0.4160\n",
      "Epoch 166/200\n",
      "10/10 [==============================] - 0s 1ms/step - loss: 0.4323 - binary_accuracy: 0.8000 - binary_crossentropy: 0.4156\n",
      "Epoch 167/200\n",
      "10/10 [==============================] - 0s 1ms/step - loss: 0.4320 - binary_accuracy: 0.8000 - binary_crossentropy: 0.4153\n",
      "Epoch 168/200\n",
      "10/10 [==============================] - 0s 3ms/step - loss: 0.4316 - binary_accuracy: 0.8000 - binary_crossentropy: 0.4149\n",
      "Epoch 169/200\n",
      "10/10 [==============================] - 0s 3ms/step - loss: 0.4313 - binary_accuracy: 0.8000 - binary_crossentropy: 0.4146\n",
      "Epoch 170/200\n",
      "10/10 [==============================] - 0s 2ms/step - loss: 0.4310 - binary_accuracy: 0.8000 - binary_crossentropy: 0.4143\n",
      "Epoch 171/200\n",
      "10/10 [==============================] - 0s 3ms/step - loss: 0.4307 - binary_accuracy: 0.8000 - binary_crossentropy: 0.4139\n",
      "Epoch 172/200\n",
      "10/10 [==============================] - 0s 1ms/step - loss: 0.4304 - binary_accuracy: 0.8000 - binary_crossentropy: 0.4136\n",
      "Epoch 173/200\n",
      "10/10 [==============================] - 0s 1ms/step - loss: 0.4301 - binary_accuracy: 0.8000 - binary_crossentropy: 0.4133\n",
      "Epoch 174/200\n",
      "10/10 [==============================] - 0s 1ms/step - loss: 0.4299 - binary_accuracy: 0.8000 - binary_crossentropy: 0.4130\n"
     ]
    },
    {
     "name": "stdout",
     "output_type": "stream",
     "text": [
      "Epoch 175/200\n",
      "10/10 [==============================] - 0s 1ms/step - loss: 0.4296 - binary_accuracy: 0.8000 - binary_crossentropy: 0.4127\n",
      "Epoch 176/200\n",
      "10/10 [==============================] - 0s 1ms/step - loss: 0.4293 - binary_accuracy: 0.8000 - binary_crossentropy: 0.4124\n",
      "Epoch 177/200\n",
      "10/10 [==============================] - 0s 1ms/step - loss: 0.4291 - binary_accuracy: 0.8000 - binary_crossentropy: 0.4121\n",
      "Epoch 178/200\n",
      "10/10 [==============================] - 0s 1ms/step - loss: 0.4288 - binary_accuracy: 0.8000 - binary_crossentropy: 0.4119\n",
      "Epoch 179/200\n",
      "10/10 [==============================] - 0s 2ms/step - loss: 0.4285 - binary_accuracy: 0.8000 - binary_crossentropy: 0.4116\n",
      "Epoch 180/200\n",
      "10/10 [==============================] - 0s 1ms/step - loss: 0.4283 - binary_accuracy: 0.8000 - binary_crossentropy: 0.4113\n",
      "Epoch 181/200\n",
      "10/10 [==============================] - 0s 2ms/step - loss: 0.4281 - binary_accuracy: 0.8000 - binary_crossentropy: 0.4110\n",
      "Epoch 182/200\n",
      "10/10 [==============================] - 0s 2ms/step - loss: 0.4278 - binary_accuracy: 0.8000 - binary_crossentropy: 0.4108\n",
      "Epoch 183/200\n",
      "10/10 [==============================] - 0s 1ms/step - loss: 0.4276 - binary_accuracy: 0.8000 - binary_crossentropy: 0.4105\n",
      "Epoch 184/200\n",
      "10/10 [==============================] - 0s 2ms/step - loss: 0.4273 - binary_accuracy: 0.8000 - binary_crossentropy: 0.4102\n",
      "Epoch 185/200\n",
      "10/10 [==============================] - 0s 3ms/step - loss: 0.4271 - binary_accuracy: 0.8000 - binary_crossentropy: 0.4100\n",
      "Epoch 186/200\n",
      "10/10 [==============================] - 0s 3ms/step - loss: 0.4269 - binary_accuracy: 0.8000 - binary_crossentropy: 0.4097\n",
      "Epoch 187/200\n",
      "10/10 [==============================] - 0s 4ms/step - loss: 0.4267 - binary_accuracy: 0.8000 - binary_crossentropy: 0.4095\n",
      "Epoch 188/200\n",
      "10/10 [==============================] - 0s 2ms/step - loss: 0.4264 - binary_accuracy: 0.8000 - binary_crossentropy: 0.4092\n",
      "Epoch 189/200\n",
      "10/10 [==============================] - 0s 1ms/step - loss: 0.4262 - binary_accuracy: 0.8000 - binary_crossentropy: 0.4090\n",
      "Epoch 190/200\n",
      "10/10 [==============================] - 0s 1ms/step - loss: 0.4260 - binary_accuracy: 0.8000 - binary_crossentropy: 0.4088\n",
      "Epoch 191/200\n",
      "10/10 [==============================] - 0s 1ms/step - loss: 0.4258 - binary_accuracy: 0.8000 - binary_crossentropy: 0.4085\n",
      "Epoch 192/200\n",
      "10/10 [==============================] - 0s 1ms/step - loss: 0.4256 - binary_accuracy: 0.8000 - binary_crossentropy: 0.4083\n",
      "Epoch 193/200\n",
      "10/10 [==============================] - 0s 2ms/step - loss: 0.4254 - binary_accuracy: 0.8000 - binary_crossentropy: 0.4081\n",
      "Epoch 194/200\n",
      "10/10 [==============================] - 0s 2ms/step - loss: 0.4252 - binary_accuracy: 0.8000 - binary_crossentropy: 0.4079\n",
      "Epoch 195/200\n",
      "10/10 [==============================] - 0s 3ms/step - loss: 0.4250 - binary_accuracy: 0.8000 - binary_crossentropy: 0.4076\n",
      "Epoch 196/200\n",
      "10/10 [==============================] - 0s 2ms/step - loss: 0.4248 - binary_accuracy: 0.8000 - binary_crossentropy: 0.4074\n",
      "Epoch 197/200\n",
      "10/10 [==============================] - 0s 3ms/step - loss: 0.4246 - binary_accuracy: 0.8000 - binary_crossentropy: 0.4072\n",
      "Epoch 198/200\n",
      "10/10 [==============================] - 0s 2ms/step - loss: 0.4244 - binary_accuracy: 0.8000 - binary_crossentropy: 0.4070\n",
      "Epoch 199/200\n",
      "10/10 [==============================] - 0s 1ms/step - loss: 0.4242 - binary_accuracy: 0.8000 - binary_crossentropy: 0.4068\n",
      "Epoch 200/200\n",
      "10/10 [==============================] - 0s 1ms/step - loss: 0.4240 - binary_accuracy: 0.8000 - binary_crossentropy: 0.4066\n"
     ]
    },
    {
     "data": {
      "text/plain": [
       "ShapeletModel(batch_size=256, max_iter=200, n_shapelets_per_size={270: 3},\n",
       "              optimizer='sgd', random_state=None, shapelet_length=0.15,\n",
       "              total_lengths=3, verbose=1, verbose_level=None,\n",
       "              weight_regularizer=0.01)"
      ]
     },
     "execution_count": 26,
     "metadata": {},
     "output_type": "execute_result"
    }
   ],
   "source": [
    "shp_clf.fit(X, y)"
   ]
  },
  {
   "cell_type": "code",
   "execution_count": 27,
   "metadata": {},
   "outputs": [],
   "source": [
    "from sklearn.metrics import accuracy_score"
   ]
  },
  {
   "cell_type": "code",
   "execution_count": 28,
   "metadata": {},
   "outputs": [
    {
     "name": "stdout",
     "output_type": "stream",
     "text": [
      "10/10 [==============================] - 0s 6ms/step\n",
      "Correct classification rate: 0.8\n"
     ]
    }
   ],
   "source": [
    "predicted_labels = shp_clf.predict(X)\n",
    "print(\"Correct classification rate:\", accuracy_score(y, predicted_labels))"
   ]
  },
  {
   "cell_type": "code",
   "execution_count": 29,
   "metadata": {},
   "outputs": [
    {
     "name": "stdout",
     "output_type": "stream",
     "text": [
      "\r",
      "10/10 [==============================] - 0s 6ms/step\n"
     ]
    },
    {
     "name": "stderr",
     "output_type": "stream",
     "text": [
      "/Users/marco/opt/anaconda3/lib/python3.7/site-packages/tslearn/utils.py:63: UserWarning: 2-Dimensional data passed. Assuming these are 10 1-dimensional timeseries\n",
      "  '{} 1-dimensional timeseries'.format(X.shape[0]))\n"
     ]
    }
   ],
   "source": [
    "predicted_locations = shp_clf.locate(X)"
   ]
  },
  {
   "cell_type": "code",
   "execution_count": 30,
   "metadata": {},
   "outputs": [
    {
     "data": {
      "image/png": "[encoded data removed]",
      "text/plain": [
       "<Figure size 432x288 with 1 Axes>"
      ]
     },
     "metadata": {
      "needs_background": "light"
     },
     "output_type": "display_data"
    }
   ],
   "source": [
    "ts_id = 0\n",
    "plt.figure()\n",
    "n_shapelets = sum(shapelet_sizes.values())\n",
    "plt.title(\"Example locations of shapelet matches \"\n",
    "          \"(%d shapelets extracted)\".format(n_shapelets))\n",
    "\n",
    "plt.plot(X[ts_id].ravel())\n",
    "for idx_shp, shp in enumerate(shp_clf.shapelets_):\n",
    "    t0 = predicted_locations[ts_id, idx_shp]\n",
    "    plt.plot(np.arange(t0, t0 + len(shp)), shp, linewidth=2)"
   ]
  },
  {
   "cell_type": "markdown",
   "metadata": {},
   "source": [
    "#########"
   ]
  },
  {
   "cell_type": "code",
   "execution_count": null,
   "metadata": {},
   "outputs": [],
   "source": []
  }
 ],
 "metadata": {
  "kernelspec": {
   "display_name": "Python 3",
   "language": "python",
   "name": "python3"
  },
  "language_info": {
   "codemirror_mode": {
    "name": "ipython",
    "version": 3
   },
   "file_extension": ".py",
   "mimetype": "text/x-python",
   "name": "python",
   "nbconvert_exporter": "python",
   "pygments_lexer": "ipython3",
   "version": "3.7.4"
  }
 },
 "nbformat": 4,
 "nbformat_minor": 2
}
