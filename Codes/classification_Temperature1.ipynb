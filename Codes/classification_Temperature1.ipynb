{
 "cells": [
  {
   "cell_type": "markdown",
   "metadata": {},
   "source": [
    "## Solve the classification task on the univariate dataset created using different approaches, i.e., traditional classification, shapelet-based, feature-based, etc."
   ]
  },
  {
   "cell_type": "code",
   "execution_count": 1,
   "metadata": {},
   "outputs": [],
   "source": [
    "%matplotlib inline\n",
    "\n",
    "import numpy as np\n",
    "import pandas as pd\n",
    "import matplotlib.pyplot as plt\n",
    "\n",
    "from collections import defaultdict\n",
    "from sklearn.preprocessing import MinMaxScaler"
   ]
  },
  {
   "cell_type": "code",
   "execution_count": 2,
   "metadata": {},
   "outputs": [],
   "source": [
    "df = pd.read_csv(\"/Users/marco/Desktop/DataMining2Project-master-2/Temperature.csv\") #sostituisci con tuo percorso\n",
    "#dateparse = lambda dates: pd.to_datetime(df['date'])\n",
    "\n",
    "#df_ts = pd.read_csv(\"/Users/marco/Desktop/DataMining2Project-master-2/dataset_train+test2.csv\",\n",
    " #                parse_dates=True, index_col='date', date_parser=dateparse)"
   ]
  },
  {
   "cell_type": "code",
   "execution_count": 3,
   "metadata": {},
   "outputs": [
    {
     "data": {
      "text/html": [
       "<div>\n",
       "<style scoped>\n",
       "    .dataframe tbody tr th:only-of-type {\n",
       "        vertical-align: middle;\n",
       "    }\n",
       "\n",
       "    .dataframe tbody tr th {\n",
       "        vertical-align: top;\n",
       "    }\n",
       "\n",
       "    .dataframe thead th {\n",
       "        text-align: right;\n",
       "    }\n",
       "</style>\n",
       "<table border=\"1\" class=\"dataframe\">\n",
       "  <thead>\n",
       "    <tr style=\"text-align: right;\">\n",
       "      <th></th>\n",
       "      <th>Unnamed: 0</th>\n",
       "      <th>0</th>\n",
       "      <th>1</th>\n",
       "      <th>2</th>\n",
       "      <th>3</th>\n",
       "      <th>4</th>\n",
       "      <th>5</th>\n",
       "      <th>6</th>\n",
       "      <th>7</th>\n",
       "      <th>8</th>\n",
       "      <th>...</th>\n",
       "      <th>49</th>\n",
       "      <th>50</th>\n",
       "      <th>51</th>\n",
       "      <th>52</th>\n",
       "      <th>53</th>\n",
       "      <th>54</th>\n",
       "      <th>55</th>\n",
       "      <th>56</th>\n",
       "      <th>57</th>\n",
       "      <th>58</th>\n",
       "    </tr>\n",
       "  </thead>\n",
       "  <tbody>\n",
       "    <tr>\n",
       "      <th>0</th>\n",
       "      <td>0</td>\n",
       "      <td>21.245</td>\n",
       "      <td>21.245</td>\n",
       "      <td>21.260</td>\n",
       "      <td>21.245</td>\n",
       "      <td>21.245000</td>\n",
       "      <td>21.29</td>\n",
       "      <td>21.245000</td>\n",
       "      <td>21.290000</td>\n",
       "      <td>21.290000</td>\n",
       "      <td>...</td>\n",
       "      <td>21.10</td>\n",
       "      <td>21.050000</td>\n",
       "      <td>21.050</td>\n",
       "      <td>21.10</td>\n",
       "      <td>21.00</td>\n",
       "      <td>21.10</td>\n",
       "      <td>21.10</td>\n",
       "      <td>21.10</td>\n",
       "      <td>21.100000</td>\n",
       "      <td>21.10</td>\n",
       "    </tr>\n",
       "    <tr>\n",
       "      <th>1</th>\n",
       "      <td>1</td>\n",
       "      <td>21.100</td>\n",
       "      <td>21.100</td>\n",
       "      <td>21.050</td>\n",
       "      <td>21.100</td>\n",
       "      <td>21.100000</td>\n",
       "      <td>21.10</td>\n",
       "      <td>21.100000</td>\n",
       "      <td>21.150000</td>\n",
       "      <td>21.100000</td>\n",
       "      <td>...</td>\n",
       "      <td>21.20</td>\n",
       "      <td>21.200000</td>\n",
       "      <td>21.125</td>\n",
       "      <td>21.10</td>\n",
       "      <td>21.10</td>\n",
       "      <td>21.10</td>\n",
       "      <td>21.10</td>\n",
       "      <td>21.10</td>\n",
       "      <td>21.100000</td>\n",
       "      <td>21.05</td>\n",
       "    </tr>\n",
       "    <tr>\n",
       "      <th>2</th>\n",
       "      <td>2</td>\n",
       "      <td>21.000</td>\n",
       "      <td>21.000</td>\n",
       "      <td>21.000</td>\n",
       "      <td>21.000</td>\n",
       "      <td>21.000000</td>\n",
       "      <td>21.00</td>\n",
       "      <td>21.000000</td>\n",
       "      <td>21.000000</td>\n",
       "      <td>21.000000</td>\n",
       "      <td>...</td>\n",
       "      <td>21.10</td>\n",
       "      <td>21.033333</td>\n",
       "      <td>21.025</td>\n",
       "      <td>21.00</td>\n",
       "      <td>21.00</td>\n",
       "      <td>21.00</td>\n",
       "      <td>21.00</td>\n",
       "      <td>21.00</td>\n",
       "      <td>21.000000</td>\n",
       "      <td>21.00</td>\n",
       "    </tr>\n",
       "    <tr>\n",
       "      <th>3</th>\n",
       "      <td>3</td>\n",
       "      <td>21.000</td>\n",
       "      <td>21.000</td>\n",
       "      <td>21.000</td>\n",
       "      <td>21.000</td>\n",
       "      <td>21.000000</td>\n",
       "      <td>21.00</td>\n",
       "      <td>20.945000</td>\n",
       "      <td>20.963333</td>\n",
       "      <td>20.890000</td>\n",
       "      <td>...</td>\n",
       "      <td>21.00</td>\n",
       "      <td>21.000000</td>\n",
       "      <td>21.000</td>\n",
       "      <td>21.00</td>\n",
       "      <td>21.00</td>\n",
       "      <td>21.00</td>\n",
       "      <td>21.00</td>\n",
       "      <td>21.00</td>\n",
       "      <td>21.000000</td>\n",
       "      <td>21.00</td>\n",
       "    </tr>\n",
       "    <tr>\n",
       "      <th>4</th>\n",
       "      <td>4</td>\n",
       "      <td>21.000</td>\n",
       "      <td>21.000</td>\n",
       "      <td>21.000</td>\n",
       "      <td>20.890</td>\n",
       "      <td>20.945000</td>\n",
       "      <td>21.00</td>\n",
       "      <td>20.890000</td>\n",
       "      <td>20.890000</td>\n",
       "      <td>20.890000</td>\n",
       "      <td>...</td>\n",
       "      <td>21.00</td>\n",
       "      <td>21.000000</td>\n",
       "      <td>21.000</td>\n",
       "      <td>21.00</td>\n",
       "      <td>21.00</td>\n",
       "      <td>21.00</td>\n",
       "      <td>21.00</td>\n",
       "      <td>21.00</td>\n",
       "      <td>21.000000</td>\n",
       "      <td>21.00</td>\n",
       "    </tr>\n",
       "    <tr>\n",
       "      <th>...</th>\n",
       "      <td>...</td>\n",
       "      <td>...</td>\n",
       "      <td>...</td>\n",
       "      <td>...</td>\n",
       "      <td>...</td>\n",
       "      <td>...</td>\n",
       "      <td>...</td>\n",
       "      <td>...</td>\n",
       "      <td>...</td>\n",
       "      <td>...</td>\n",
       "      <td>...</td>\n",
       "      <td>...</td>\n",
       "      <td>...</td>\n",
       "      <td>...</td>\n",
       "      <td>...</td>\n",
       "      <td>...</td>\n",
       "      <td>...</td>\n",
       "      <td>...</td>\n",
       "      <td>...</td>\n",
       "      <td>...</td>\n",
       "      <td>...</td>\n",
       "    </tr>\n",
       "    <tr>\n",
       "      <th>259</th>\n",
       "      <td>259</td>\n",
       "      <td>21.500</td>\n",
       "      <td>21.500</td>\n",
       "      <td>21.500</td>\n",
       "      <td>21.500</td>\n",
       "      <td>21.500000</td>\n",
       "      <td>21.50</td>\n",
       "      <td>21.500000</td>\n",
       "      <td>21.445000</td>\n",
       "      <td>21.500000</td>\n",
       "      <td>...</td>\n",
       "      <td>21.10</td>\n",
       "      <td>21.100000</td>\n",
       "      <td>21.100</td>\n",
       "      <td>21.10</td>\n",
       "      <td>21.10</td>\n",
       "      <td>21.10</td>\n",
       "      <td>21.10</td>\n",
       "      <td>21.10</td>\n",
       "      <td>21.100000</td>\n",
       "      <td>21.00</td>\n",
       "    </tr>\n",
       "    <tr>\n",
       "      <th>260</th>\n",
       "      <td>260</td>\n",
       "      <td>21.100</td>\n",
       "      <td>21.050</td>\n",
       "      <td>21.000</td>\n",
       "      <td>21.050</td>\n",
       "      <td>21.100000</td>\n",
       "      <td>21.00</td>\n",
       "      <td>21.000000</td>\n",
       "      <td>21.000000</td>\n",
       "      <td>21.000000</td>\n",
       "      <td>...</td>\n",
       "      <td>21.00</td>\n",
       "      <td>21.000000</td>\n",
       "      <td>21.000</td>\n",
       "      <td>21.00</td>\n",
       "      <td>21.00</td>\n",
       "      <td>21.00</td>\n",
       "      <td>21.00</td>\n",
       "      <td>21.00</td>\n",
       "      <td>21.000000</td>\n",
       "      <td>21.00</td>\n",
       "    </tr>\n",
       "    <tr>\n",
       "      <th>261</th>\n",
       "      <td>261</td>\n",
       "      <td>21.000</td>\n",
       "      <td>21.000</td>\n",
       "      <td>20.945</td>\n",
       "      <td>21.000</td>\n",
       "      <td>21.000000</td>\n",
       "      <td>21.00</td>\n",
       "      <td>20.963333</td>\n",
       "      <td>21.000000</td>\n",
       "      <td>20.963333</td>\n",
       "      <td>...</td>\n",
       "      <td>20.89</td>\n",
       "      <td>20.890000</td>\n",
       "      <td>20.890</td>\n",
       "      <td>20.89</td>\n",
       "      <td>20.89</td>\n",
       "      <td>20.89</td>\n",
       "      <td>20.79</td>\n",
       "      <td>20.84</td>\n",
       "      <td>20.823333</td>\n",
       "      <td>20.79</td>\n",
       "    </tr>\n",
       "    <tr>\n",
       "      <th>262</th>\n",
       "      <td>262</td>\n",
       "      <td>20.840</td>\n",
       "      <td>20.790</td>\n",
       "      <td>20.840</td>\n",
       "      <td>20.890</td>\n",
       "      <td>20.790000</td>\n",
       "      <td>20.84</td>\n",
       "      <td>20.890000</td>\n",
       "      <td>20.790000</td>\n",
       "      <td>20.790000</td>\n",
       "      <td>...</td>\n",
       "      <td>20.79</td>\n",
       "      <td>20.790000</td>\n",
       "      <td>20.790</td>\n",
       "      <td>20.79</td>\n",
       "      <td>20.79</td>\n",
       "      <td>20.79</td>\n",
       "      <td>20.79</td>\n",
       "      <td>20.79</td>\n",
       "      <td>20.790000</td>\n",
       "      <td>20.79</td>\n",
       "    </tr>\n",
       "    <tr>\n",
       "      <th>263</th>\n",
       "      <td>263</td>\n",
       "      <td>20.790</td>\n",
       "      <td>20.790</td>\n",
       "      <td>20.840</td>\n",
       "      <td>20.840</td>\n",
       "      <td>20.856667</td>\n",
       "      <td>20.79</td>\n",
       "      <td>20.840000</td>\n",
       "      <td>20.890000</td>\n",
       "      <td>20.890000</td>\n",
       "      <td>...</td>\n",
       "      <td>20.89</td>\n",
       "      <td>20.890000</td>\n",
       "      <td>20.890</td>\n",
       "      <td>20.89</td>\n",
       "      <td>20.89</td>\n",
       "      <td>20.89</td>\n",
       "      <td>20.89</td>\n",
       "      <td>20.89</td>\n",
       "      <td>20.890000</td>\n",
       "      <td>20.89</td>\n",
       "    </tr>\n",
       "  </tbody>\n",
       "</table>\n",
       "<p>264 rows × 60 columns</p>\n",
       "</div>"
      ],
      "text/plain": [
       "     Unnamed: 0       0       1       2       3          4      5          6  \\\n",
       "0             0  21.245  21.245  21.260  21.245  21.245000  21.29  21.245000   \n",
       "1             1  21.100  21.100  21.050  21.100  21.100000  21.10  21.100000   \n",
       "2             2  21.000  21.000  21.000  21.000  21.000000  21.00  21.000000   \n",
       "3             3  21.000  21.000  21.000  21.000  21.000000  21.00  20.945000   \n",
       "4             4  21.000  21.000  21.000  20.890  20.945000  21.00  20.890000   \n",
       "..          ...     ...     ...     ...     ...        ...    ...        ...   \n",
       "259         259  21.500  21.500  21.500  21.500  21.500000  21.50  21.500000   \n",
       "260         260  21.100  21.050  21.000  21.050  21.100000  21.00  21.000000   \n",
       "261         261  21.000  21.000  20.945  21.000  21.000000  21.00  20.963333   \n",
       "262         262  20.840  20.790  20.840  20.890  20.790000  20.84  20.890000   \n",
       "263         263  20.790  20.790  20.840  20.840  20.856667  20.79  20.840000   \n",
       "\n",
       "             7          8  ...     49         50      51     52     53     54  \\\n",
       "0    21.290000  21.290000  ...  21.10  21.050000  21.050  21.10  21.00  21.10   \n",
       "1    21.150000  21.100000  ...  21.20  21.200000  21.125  21.10  21.10  21.10   \n",
       "2    21.000000  21.000000  ...  21.10  21.033333  21.025  21.00  21.00  21.00   \n",
       "3    20.963333  20.890000  ...  21.00  21.000000  21.000  21.00  21.00  21.00   \n",
       "4    20.890000  20.890000  ...  21.00  21.000000  21.000  21.00  21.00  21.00   \n",
       "..         ...        ...  ...    ...        ...     ...    ...    ...    ...   \n",
       "259  21.445000  21.500000  ...  21.10  21.100000  21.100  21.10  21.10  21.10   \n",
       "260  21.000000  21.000000  ...  21.00  21.000000  21.000  21.00  21.00  21.00   \n",
       "261  21.000000  20.963333  ...  20.89  20.890000  20.890  20.89  20.89  20.89   \n",
       "262  20.790000  20.790000  ...  20.79  20.790000  20.790  20.79  20.79  20.79   \n",
       "263  20.890000  20.890000  ...  20.89  20.890000  20.890  20.89  20.89  20.89   \n",
       "\n",
       "        55     56         57     58  \n",
       "0    21.10  21.10  21.100000  21.10  \n",
       "1    21.10  21.10  21.100000  21.05  \n",
       "2    21.00  21.00  21.000000  21.00  \n",
       "3    21.00  21.00  21.000000  21.00  \n",
       "4    21.00  21.00  21.000000  21.00  \n",
       "..     ...    ...        ...    ...  \n",
       "259  21.10  21.10  21.100000  21.00  \n",
       "260  21.00  21.00  21.000000  21.00  \n",
       "261  20.79  20.84  20.823333  20.79  \n",
       "262  20.79  20.79  20.790000  20.79  \n",
       "263  20.89  20.89  20.890000  20.89  \n",
       "\n",
       "[264 rows x 60 columns]"
      ]
     },
     "execution_count": 3,
     "metadata": {},
     "output_type": "execute_result"
    }
   ],
   "source": [
    "df"
   ]
  },
  {
   "cell_type": "markdown",
   "metadata": {},
   "source": [
    "## Clustering per i label"
   ]
  },
  {
   "cell_type": "code",
   "execution_count": 4,
   "metadata": {},
   "outputs": [],
   "source": [
    "X = np.array(df)"
   ]
  },
  {
   "cell_type": "code",
   "execution_count": 5,
   "metadata": {},
   "outputs": [
    {
     "name": "stderr",
     "output_type": "stream",
     "text": [
      "/Users/marco/opt/anaconda3/lib/python3.7/site-packages/sklearn/utils/deprecation.py:144: FutureWarning: The sklearn.cluster.k_means_ module is  deprecated in version 0.22 and will be removed in version 0.24. The corresponding classes / functions should instead be imported from sklearn.cluster. Anything that cannot be imported from sklearn.cluster is now part of the private API.\n",
      "  warnings.warn(message, FutureWarning)\n"
     ]
    }
   ],
   "source": [
    "from tslearn.clustering import TimeSeriesKMeans\n",
    "from tslearn.generators import random_walks"
   ]
  },
  {
   "cell_type": "code",
   "execution_count": 6,
   "metadata": {},
   "outputs": [
    {
     "data": {
      "text/plain": [
       "TimeSeriesKMeans(dtw_inertia=False, init='k-means++', max_iter=20,\n",
       "                 max_iter_barycenter=100, metric='euclidean',\n",
       "                 metric_params=None, n_clusters=2, n_init=1, n_jobs=None,\n",
       "                 random_state=0, tol=1e-06, verbose=0)"
      ]
     },
     "execution_count": 6,
     "metadata": {},
     "output_type": "execute_result"
    }
   ],
   "source": [
    "km = TimeSeriesKMeans(n_clusters=2, metric=\"euclidean\", max_iter=20, random_state=0)\n",
    "km.fit(X)"
   ]
  },
  {
   "cell_type": "code",
   "execution_count": 7,
   "metadata": {},
   "outputs": [
    {
     "data": {
      "image/png": "[encoded data removed]",
      "text/plain": [
       "<Figure size 432x288 with 1 Axes>"
      ]
     },
     "metadata": {
      "needs_background": "light"
     },
     "output_type": "display_data"
    }
   ],
   "source": [
    "plt.plot(km.cluster_centers_.reshape(X.shape[1], 2))\n",
    "plt.show()"
   ]
  },
  {
   "cell_type": "code",
   "execution_count": 8,
   "metadata": {},
   "outputs": [
    {
     "data": {
      "text/plain": [
       "array([1, 1, 1, 1, 1, 1, 1, 1, 1, 1, 1, 1, 1, 1, 1, 1, 1, 1, 1, 1, 1, 1,\n",
       "       1, 1, 1, 1, 1, 1, 1, 1, 1, 1, 1, 1, 1, 1, 1, 1, 1, 1, 1, 1, 1, 1,\n",
       "       1, 1, 1, 1, 1, 1, 1, 1, 1, 1, 1, 1, 1, 1, 1, 1, 1, 1, 1, 1, 1, 1,\n",
       "       1, 1, 1, 1, 1, 1, 1, 1, 1, 1, 1, 1, 1, 1, 1, 1, 1, 1, 1, 1, 1, 1,\n",
       "       1, 1, 1, 1, 1, 1, 1, 1, 1, 1, 1, 1, 1, 1, 1, 1, 1, 1, 1, 1, 1, 1,\n",
       "       1, 1, 1, 1, 1, 1, 1, 1, 1, 1, 1, 1, 1, 1, 1, 1, 1, 1, 1, 1, 0, 0,\n",
       "       0, 0, 0, 0, 0, 0, 0, 0, 0, 0, 0, 0, 0, 0, 0, 0, 0, 0, 0, 0, 0, 0,\n",
       "       0, 0, 0, 0, 0, 0, 0, 0, 0, 0, 0, 0, 0, 0, 0, 0, 0, 0, 0, 0, 0, 0,\n",
       "       0, 0, 0, 0, 0, 0, 0, 0, 0, 0, 0, 0, 0, 0, 0, 0, 0, 0, 0, 0, 0, 0,\n",
       "       0, 0, 0, 0, 0, 0, 0, 0, 0, 0, 0, 0, 0, 0, 0, 0, 0, 0, 0, 0, 0, 0,\n",
       "       0, 0, 0, 0, 0, 0, 0, 0, 0, 0, 0, 0, 0, 0, 0, 0, 0, 0, 0, 0, 0, 0,\n",
       "       0, 0, 0, 0, 0, 0, 0, 0, 0, 0, 0, 0, 0, 0, 0, 0, 0, 0, 0, 0, 0, 0])"
      ]
     },
     "execution_count": 8,
     "metadata": {},
     "output_type": "execute_result"
    }
   ],
   "source": [
    "km.labels_"
   ]
  },
  {
   "cell_type": "code",
   "execution_count": 9,
   "metadata": {},
   "outputs": [
    {
     "data": {
      "text/plain": [
       "TimeSeriesKMeans(dtw_inertia=False, init='k-means++', max_iter=5,\n",
       "                 max_iter_barycenter=100, metric='dtw', metric_params=None,\n",
       "                 n_clusters=4, n_init=1, n_jobs=None, random_state=0, tol=1e-06,\n",
       "                 verbose=0)"
      ]
     },
     "execution_count": 9,
     "metadata": {},
     "output_type": "execute_result"
    }
   ],
   "source": [
    "km_dtw = TimeSeriesKMeans(n_clusters=4, metric=\"dtw\", max_iter=5, random_state=0)\n",
    "km_dtw.fit(X)"
   ]
  },
  {
   "cell_type": "code",
   "execution_count": 10,
   "metadata": {},
   "outputs": [
    {
     "data": {
      "image/png": "[encoded data removed]",
      "text/plain": [
       "<Figure size 432x288 with 1 Axes>"
      ]
     },
     "metadata": {
      "needs_background": "light"
     },
     "output_type": "display_data"
    }
   ],
   "source": [
    "plt.plot(km_dtw.cluster_centers_.reshape(X.shape[1], 4))\n",
    "plt.show()"
   ]
  },
  {
   "cell_type": "code",
   "execution_count": 11,
   "metadata": {},
   "outputs": [
    {
     "data": {
      "text/plain": [
       "array([1, 1, 1, 1, 1, 1, 1, 1, 1, 1, 1, 1, 1, 1, 1, 1, 1, 1, 1, 1, 1, 1,\n",
       "       1, 1, 1, 1, 1, 1, 1, 1, 1, 1, 1, 1, 1, 1, 1, 1, 1, 1, 1, 1, 1, 1,\n",
       "       1, 1, 1, 1, 1, 1, 1, 1, 1, 1, 1, 1, 1, 1, 1, 1, 1, 1, 1, 1, 1, 3,\n",
       "       3, 3, 3, 3, 3, 3, 3, 3, 3, 3, 3, 3, 3, 3, 3, 3, 3, 3, 3, 3, 3, 3,\n",
       "       3, 3, 3, 3, 3, 3, 3, 3, 3, 3, 3, 3, 3, 3, 3, 3, 3, 3, 3, 3, 3, 3,\n",
       "       3, 3, 3, 3, 3, 3, 3, 3, 3, 3, 3, 3, 3, 3, 3, 3, 3, 3, 3, 3, 0, 0,\n",
       "       0, 0, 0, 0, 0, 0, 0, 0, 0, 0, 0, 0, 0, 0, 0, 0, 0, 0, 0, 0, 0, 0,\n",
       "       0, 0, 0, 0, 0, 0, 0, 0, 0, 0, 0, 0, 0, 0, 0, 0, 0, 0, 0, 0, 0, 0,\n",
       "       0, 0, 0, 0, 0, 0, 0, 0, 0, 0, 0, 0, 0, 0, 0, 0, 0, 0, 0, 0, 0, 2,\n",
       "       2, 2, 2, 2, 2, 2, 2, 2, 2, 2, 2, 2, 2, 2, 2, 2, 2, 2, 2, 2, 2, 2,\n",
       "       2, 2, 2, 2, 2, 2, 2, 2, 2, 2, 2, 2, 2, 2, 2, 2, 2, 2, 2, 2, 2, 2,\n",
       "       2, 2, 2, 2, 2, 2, 2, 2, 2, 2, 2, 2, 2, 2, 2, 2, 2, 2, 2, 2, 2, 2])"
      ]
     },
     "execution_count": 11,
     "metadata": {},
     "output_type": "execute_result"
    }
   ],
   "source": [
    "km_dtw.labels_"
   ]
  },
  {
   "cell_type": "code",
   "execution_count": 12,
   "metadata": {},
   "outputs": [
    {
     "data": {
      "text/plain": [
       "417.9513249835102"
      ]
     },
     "execution_count": 12,
     "metadata": {},
     "output_type": "execute_result"
    }
   ],
   "source": [
    "km_dtw.inertia_"
   ]
  },
  {
   "cell_type": "code",
   "execution_count": 13,
   "metadata": {},
   "outputs": [],
   "source": [
    "from tslearn.piecewise import PiecewiseAggregateApproximation\n",
    "from tslearn.piecewise import SymbolicAggregateApproximation\n",
    "from tslearn.piecewise import OneD_SymbolicAggregateApproximation"
   ]
  },
  {
   "cell_type": "code",
   "execution_count": 14,
   "metadata": {},
   "outputs": [],
   "source": [
    "n_paa_segments = 11\n",
    "paa = PiecewiseAggregateApproximation(n_segments=n_paa_segments)\n",
    "X_paa = paa.fit_transform(X)"
   ]
  },
  {
   "cell_type": "code",
   "execution_count": 15,
   "metadata": {},
   "outputs": [
    {
     "data": {
      "image/png": "[encoded data removed]",
      "text/plain": [
       "<Figure size 432x288 with 1 Axes>"
      ]
     },
     "metadata": {
      "needs_background": "light"
     },
     "output_type": "display_data"
    }
   ],
   "source": [
    "plt.plot(X_paa.reshape(X_paa.shape[1], X_paa.shape[0]))\n",
    "plt.show()"
   ]
  },
  {
   "cell_type": "code",
   "execution_count": 191,
   "metadata": {},
   "outputs": [
    {
     "data": {
      "text/plain": [
       "TimeSeriesKMeans(dtw_inertia=False, init='k-means++', max_iter=5,\n",
       "                 max_iter_barycenter=100, metric='euclidean',\n",
       "                 metric_params=None, n_clusters=4, n_init=1, n_jobs=None,\n",
       "                 random_state=0, tol=1e-06, verbose=0)"
      ]
     },
     "execution_count": 191,
     "metadata": {},
     "output_type": "execute_result"
    }
   ],
   "source": [
    "km = TimeSeriesKMeans(n_clusters=4, metric=\"euclidean\", max_iter=5, random_state=0)\n",
    "km.fit(X_paa)"
   ]
  },
  {
   "cell_type": "code",
   "execution_count": 192,
   "metadata": {},
   "outputs": [
    {
     "data": {
      "image/png": "[encoded data removed]",
      "text/plain": [
       "<Figure size 432x288 with 1 Axes>"
      ]
     },
     "metadata": {
      "needs_background": "light"
     },
     "output_type": "display_data"
    }
   ],
   "source": [
    "plt.plot(km.cluster_centers_.reshape(X_paa.shape[1], 4))\n",
    "plt.show()"
   ]
  },
  {
   "cell_type": "code",
   "execution_count": 193,
   "metadata": {},
   "outputs": [],
   "source": [
    "y = km.labels_"
   ]
  },
  {
   "cell_type": "code",
   "execution_count": 194,
   "metadata": {},
   "outputs": [
    {
     "data": {
      "text/plain": [
       "23.92230353690988"
      ]
     },
     "execution_count": 194,
     "metadata": {},
     "output_type": "execute_result"
    }
   ],
   "source": [
    "km.inertia_"
   ]
  },
  {
   "cell_type": "code",
   "execution_count": 197,
   "metadata": {},
   "outputs": [
    {
     "data": {
      "image/png": "[encoded data removed]",
      "text/plain": [
       "<Figure size 432x288 with 4 Axes>"
      ]
     },
     "metadata": {
      "needs_background": "light"
     },
     "output_type": "display_data"
    }
   ],
   "source": [
    "plt.figure()\n",
    "for i, classe in enumerate(['cluster1', 'cluster2', 'cluster3', 'cluster4']):\n",
    "    plt.subplot(4, 1, i + 1)\n",
    "    for x in X[y == i]:\n",
    "        plt.plot(x, color='C0', linewidth=0.5)\n",
    "    plt.title('Class: {}'.format(classe), fontsize=8)\n",
    "\n",
    "plt.tight_layout()\n",
    "plt.subplots_adjust(hspace=0.6)\n",
    "plt.show()\n",
    "\n",
    "#non si vede una ceppa"
   ]
  },
  {
   "cell_type": "markdown",
   "metadata": {},
   "source": [
    "## data partitioning\n"
   ]
  },
  {
   "cell_type": "code",
   "execution_count": 198,
   "metadata": {},
   "outputs": [],
   "source": [
    "from sklearn.model_selection import train_test_split, cross_val_score \n",
    "\n",
    "from sklearn.metrics import accuracy_score, f1_score, classification_report\n",
    "from sklearn.metrics import roc_curve, auc, roc_auc_score"
   ]
  },
  {
   "cell_type": "code",
   "execution_count": 199,
   "metadata": {},
   "outputs": [],
   "source": [
    "X_train, X_test, y_train, y_test = train_test_split(X, y, test_size=0.3, random_state=100, stratify=y)"
   ]
  },
  {
   "cell_type": "markdown",
   "metadata": {},
   "source": [
    "## Shaplet Classifier"
   ]
  },
  {
   "cell_type": "code",
   "execution_count": 200,
   "metadata": {},
   "outputs": [],
   "source": [
    "from keras.optimizers import Adagrad\n",
    "from tslearn.shapelets import ShapeletModel\n",
    "from tslearn.shapelets import grabocka_params_to_shapelet_size_dict"
   ]
  },
  {
   "cell_type": "code",
   "execution_count": 201,
   "metadata": {},
   "outputs": [
    {
     "name": "stdout",
     "output_type": "stream",
     "text": [
      "n_ts 184\n",
      "ts_sz 60\n",
      "n_classes 4\n",
      "shapelet_sizes {30: 4}\n"
     ]
    }
   ],
   "source": [
    "n_ts, ts_sz = X_train.shape\n",
    "n_classes = len(set(y))\n",
    "\n",
    "# Set the number of shapelets per size as done in the original paper\n",
    "shapelet_sizes = grabocka_params_to_shapelet_size_dict(n_ts=n_ts,\n",
    "                                                       ts_sz=ts_sz,\n",
    "                                                       n_classes=n_classes,\n",
    "                                                       l=0.5,\n",
    "                                                       r=1)\n",
    "\n",
    "print('n_ts', n_ts)\n",
    "print('ts_sz', ts_sz)\n",
    "print('n_classes', n_classes)\n",
    "print('shapelet_sizes', shapelet_sizes)"
   ]
  },
  {
   "cell_type": "code",
   "execution_count": 202,
   "metadata": {},
   "outputs": [],
   "source": [
    "# Define the model using parameters provided by the authors (except that we use\n",
    "# fewer iterations here)\n",
    "shp_clf = ShapeletModel(n_shapelets_per_size=shapelet_sizes,\n",
    "                        optimizer=\"sgd\",\n",
    "                        weight_regularizer=.01,\n",
    "                        max_iter=200,\n",
    "                        verbose=1)"
   ]
  },
  {
   "cell_type": "code",
   "execution_count": 203,
   "metadata": {},
   "outputs": [
    {
     "name": "stdout",
     "output_type": "stream",
     "text": [
      "Epoch 1/200\n",
      "184/184 [==============================] - 0s 1ms/step - loss: 119.5947 - categorical_accuracy: 0.2446 - categorical_crossentropy: 119.5472\n",
      "Epoch 2/200\n",
      "184/184 [==============================] - 0s 30us/step - loss: 827.5120 - categorical_accuracy: 0.3750 - categorical_crossentropy: 827.4070\n",
      "Epoch 3/200\n",
      "184/184 [==============================] - 0s 32us/step - loss: 1202.8702 - categorical_accuracy: 0.2446 - categorical_crossentropy: 1202.5967\n",
      "Epoch 4/200\n",
      "184/184 [==============================] - 0s 44us/step - loss: 386.8971 - categorical_accuracy: 0.5109 - categorical_crossentropy: 386.7580\n",
      "Epoch 5/200\n",
      "184/184 [==============================] - 0s 49us/step - loss: 1091.3673 - categorical_accuracy: 0.3750 - categorical_crossentropy: 1090.8148\n",
      "Epoch 6/200\n",
      "184/184 [==============================] - 0s 49us/step - loss: 363.2930 - categorical_accuracy: 0.4837 - categorical_crossentropy: 362.8628\n",
      "Epoch 7/200\n",
      "184/184 [==============================] - 0s 55us/step - loss: 1750.6158 - categorical_accuracy: 0.3478 - categorical_crossentropy: 1749.9240\n",
      "Epoch 8/200\n",
      "184/184 [==============================] - 0s 31us/step - loss: 816.2421 - categorical_accuracy: 0.4674 - categorical_crossentropy: 815.8029\n",
      "Epoch 9/200\n",
      "184/184 [==============================] - 0s 39us/step - loss: 191.6276 - categorical_accuracy: 0.5924 - categorical_crossentropy: 191.2669\n",
      "Epoch 10/200\n",
      "184/184 [==============================] - 0s 45us/step - loss: 1527.5925 - categorical_accuracy: 0.4728 - categorical_crossentropy: 1526.9432\n",
      "Epoch 11/200\n",
      "184/184 [==============================] - 0s 46us/step - loss: 686.6554 - categorical_accuracy: 0.6033 - categorical_crossentropy: 686.2256\n",
      "Epoch 12/200\n",
      "184/184 [==============================] - 0s 32us/step - loss: 56.0321 - categorical_accuracy: 0.8043 - categorical_crossentropy: 55.6631\n",
      "Epoch 13/200\n",
      "184/184 [==============================] - 0s 27us/step - loss: 281.7675 - categorical_accuracy: 0.6413 - categorical_crossentropy: 281.3895\n",
      "Epoch 14/200\n",
      "184/184 [==============================] - 0s 49us/step - loss: 699.3466 - categorical_accuracy: 0.6250 - categorical_crossentropy: 698.9532\n",
      "Epoch 15/200\n",
      "184/184 [==============================] - 0s 36us/step - loss: 1027.4622 - categorical_accuracy: 0.5761 - categorical_crossentropy: 1026.8942\n",
      "Epoch 16/200\n",
      "184/184 [==============================] - 0s 30us/step - loss: 290.2030 - categorical_accuracy: 0.7011 - categorical_crossentropy: 289.7640\n",
      "Epoch 17/200\n",
      "184/184 [==============================] - 0s 32us/step - loss: 456.5245 - categorical_accuracy: 0.6848 - categorical_crossentropy: 456.0786\n",
      "Epoch 18/200\n",
      "184/184 [==============================] - 0s 67us/step - loss: 1038.1041 - categorical_accuracy: 0.6033 - categorical_crossentropy: 1037.4468\n",
      "Epoch 19/200\n",
      "184/184 [==============================] - 0s 40us/step - loss: 342.6217 - categorical_accuracy: 0.7446 - categorical_crossentropy: 342.0984\n",
      "Epoch 20/200\n",
      "184/184 [==============================] - 0s 31us/step - loss: 147.5767 - categorical_accuracy: 0.7337 - categorical_crossentropy: 147.0685\n",
      "Epoch 21/200\n",
      "184/184 [==============================] - 0s 47us/step - loss: 866.4487 - categorical_accuracy: 0.5054 - categorical_crossentropy: 865.7547\n",
      "Epoch 22/200\n",
      "184/184 [==============================] - 0s 36us/step - loss: 111.1535 - categorical_accuracy: 0.7228 - categorical_crossentropy: 110.5534\n",
      "Epoch 23/200\n",
      "184/184 [==============================] - 0s 33us/step - loss: 460.7427 - categorical_accuracy: 0.6522 - categorical_crossentropy: 460.1297\n",
      "Epoch 24/200\n",
      "184/184 [==============================] - 0s 55us/step - loss: 1051.7662 - categorical_accuracy: 0.5652 - categorical_crossentropy: 1050.9353\n",
      "Epoch 25/200\n",
      "184/184 [==============================] - 0s 32us/step - loss: 313.4036 - categorical_accuracy: 0.7120 - categorical_crossentropy: 312.7063\n",
      "Epoch 26/200\n",
      "184/184 [==============================] - 0s 39us/step - loss: 236.5606 - categorical_accuracy: 0.7011 - categorical_crossentropy: 235.8622\n",
      "Epoch 27/200\n",
      "184/184 [==============================] - 0s 47us/step - loss: 1060.1641 - categorical_accuracy: 0.5924 - categorical_crossentropy: 1059.2134\n",
      "Epoch 28/200\n",
      "184/184 [==============================] - 0s 55us/step - loss: 366.8235 - categorical_accuracy: 0.7391 - categorical_crossentropy: 366.0118\n",
      "Epoch 29/200\n",
      "184/184 [==============================] - 0s 39us/step - loss: 23.9157 - categorical_accuracy: 0.9076 - categorical_crossentropy: 23.1228\n",
      "Epoch 30/200\n",
      "184/184 [==============================] - 0s 44us/step - loss: 148.0975 - categorical_accuracy: 0.7554 - categorical_crossentropy: 147.2905\n",
      "Epoch 31/200\n",
      "184/184 [==============================] - 0s 49us/step - loss: 363.6406 - categorical_accuracy: 0.6793 - categorical_crossentropy: 362.8150\n",
      "Epoch 32/200\n",
      "184/184 [==============================] - 0s 33us/step - loss: 970.3197 - categorical_accuracy: 0.6087 - categorical_crossentropy: 969.2648\n",
      "Epoch 33/200\n",
      "184/184 [==============================] - 0s 59us/step - loss: 296.5984 - categorical_accuracy: 0.7337 - categorical_crossentropy: 295.6663\n",
      "Epoch 34/200\n",
      "184/184 [==============================] - 0s 47us/step - loss: 54.3517 - categorical_accuracy: 0.8370 - categorical_crossentropy: 53.4267\n",
      "Epoch 35/200\n",
      "184/184 [==============================] - 0s 39us/step - loss: 273.0129 - categorical_accuracy: 0.7228 - categorical_crossentropy: 272.0507\n",
      "Epoch 36/200\n",
      "184/184 [==============================] - 0s 29us/step - loss: 75.3724 - categorical_accuracy: 0.8043 - categorical_crossentropy: 74.4123\n",
      "Epoch 37/200\n",
      "184/184 [==============================] - 0s 36us/step - loss: 360.5284 - categorical_accuracy: 0.7174 - categorical_crossentropy: 359.5115\n",
      "Epoch 38/200\n",
      "184/184 [==============================] - 0s 47us/step - loss: 19.6373 - categorical_accuracy: 0.8967 - categorical_crossentropy: 18.6359\n",
      "Epoch 39/200\n",
      "184/184 [==============================] - 0s 45us/step - loss: 84.0291 - categorical_accuracy: 0.7500 - categorical_crossentropy: 83.0190\n",
      "Epoch 40/200\n",
      "184/184 [==============================] - 0s 42us/step - loss: 365.2806 - categorical_accuracy: 0.6630 - categorical_crossentropy: 364.2424\n",
      "Epoch 41/200\n",
      "184/184 [==============================] - 0s 37us/step - loss: 930.1140 - categorical_accuracy: 0.5978 - categorical_crossentropy: 928.8461\n",
      "Epoch 42/200\n",
      "184/184 [==============================] - 0s 65us/step - loss: 257.3995 - categorical_accuracy: 0.7174 - categorical_crossentropy: 256.2468\n",
      "Epoch 43/200\n",
      "184/184 [==============================] - 0s 34us/step - loss: 67.5414 - categorical_accuracy: 0.8261 - categorical_crossentropy: 66.3872\n",
      "Epoch 44/200\n",
      "184/184 [==============================] - 0s 41us/step - loss: 226.8305 - categorical_accuracy: 0.7228 - categorical_crossentropy: 225.6424\n",
      "Epoch 45/200\n",
      "184/184 [==============================] - 0s 32us/step - loss: 89.7054 - categorical_accuracy: 0.8043 - categorical_crossentropy: 88.5107\n",
      "Epoch 46/200\n",
      "184/184 [==============================] - 0s 56us/step - loss: 313.8898 - categorical_accuracy: 0.7174 - categorical_crossentropy: 312.6417\n",
      "Epoch 47/200\n",
      "184/184 [==============================] - 0s 43us/step - loss: 28.8793 - categorical_accuracy: 0.8750 - categorical_crossentropy: 27.6390\n",
      "Epoch 48/200\n",
      "184/184 [==============================] - 0s 51us/step - loss: 60.8588 - categorical_accuracy: 0.8533 - categorical_crossentropy: 59.6107\n",
      "Epoch 49/200\n",
      "184/184 [==============================] - 0s 46us/step - loss: 105.0689 - categorical_accuracy: 0.6957 - categorical_crossentropy: 103.8092\n",
      "Epoch 50/200\n",
      "184/184 [==============================] - 0s 54us/step - loss: 687.2344 - categorical_accuracy: 0.5707 - categorical_crossentropy: 685.7773\n",
      "Epoch 51/200\n",
      "184/184 [==============================] - 0s 59us/step - loss: 62.7469 - categorical_accuracy: 0.8207 - categorical_crossentropy: 61.3568\n",
      "Epoch 52/200\n",
      "184/184 [==============================] - 0s 35us/step - loss: 66.1302 - categorical_accuracy: 0.8152 - categorical_crossentropy: 64.7345\n",
      "Epoch 53/200\n",
      "184/184 [==============================] - 0s 52us/step - loss: 160.2859 - categorical_accuracy: 0.7120 - categorical_crossentropy: 158.8669\n",
      "Epoch 54/200\n",
      "184/184 [==============================] - 0s 43us/step - loss: 161.0670 - categorical_accuracy: 0.6902 - categorical_crossentropy: 159.6304\n"
     ]
    },
    {
     "name": "stdout",
     "output_type": "stream",
     "text": [
      "Epoch 55/200\n",
      "184/184 [==============================] - 0s 36us/step - loss: 952.9702 - categorical_accuracy: 0.6196 - categorical_crossentropy: 951.2687\n",
      "Epoch 56/200\n",
      "184/184 [==============================] - 0s 46us/step - loss: 298.2794 - categorical_accuracy: 0.7120 - categorical_crossentropy: 296.7003\n",
      "Epoch 57/200\n",
      "184/184 [==============================] - 0s 25us/step - loss: 22.8708 - categorical_accuracy: 0.9022 - categorical_crossentropy: 21.2993\n",
      "Epoch 58/200\n",
      "184/184 [==============================] - 0s 37us/step - loss: 25.8283 - categorical_accuracy: 0.9076 - categorical_crossentropy: 24.2542\n",
      "Epoch 59/200\n",
      "184/184 [==============================] - 0s 40us/step - loss: 29.7207 - categorical_accuracy: 0.8696 - categorical_crossentropy: 28.1432\n",
      "Epoch 60/200\n",
      "184/184 [==============================] - 0s 41us/step - loss: 68.8229 - categorical_accuracy: 0.8424 - categorical_crossentropy: 67.2328\n",
      "Epoch 61/200\n",
      "184/184 [==============================] - 0s 32us/step - loss: 63.5376 - categorical_accuracy: 0.8533 - categorical_crossentropy: 61.9399\n",
      "Epoch 62/200\n",
      "184/184 [==============================] - 0s 45us/step - loss: 102.5600 - categorical_accuracy: 0.8207 - categorical_crossentropy: 100.9462\n",
      "Epoch 63/200\n",
      "184/184 [==============================] - 0s 52us/step - loss: 74.5281 - categorical_accuracy: 0.8370 - categorical_crossentropy: 72.9035\n",
      "Epoch 64/200\n",
      "184/184 [==============================] - 0s 35us/step - loss: 159.4511 - categorical_accuracy: 0.7228 - categorical_crossentropy: 157.7996\n",
      "Epoch 65/200\n",
      "184/184 [==============================] - 0s 37us/step - loss: 100.1013 - categorical_accuracy: 0.8152 - categorical_crossentropy: 98.4339\n",
      "Epoch 66/200\n",
      "184/184 [==============================] - 0s 50us/step - loss: 208.9423 - categorical_accuracy: 0.7174 - categorical_crossentropy: 207.2364\n",
      "Epoch 67/200\n",
      "184/184 [==============================] - 0s 49us/step - loss: 67.8125 - categorical_accuracy: 0.8533 - categorical_crossentropy: 66.0968\n",
      "Epoch 68/200\n",
      "184/184 [==============================] - 0s 59us/step - loss: 93.8993 - categorical_accuracy: 0.8370 - categorical_crossentropy: 92.1684\n",
      "Epoch 69/200\n",
      "184/184 [==============================] - 0s 46us/step - loss: 53.1039 - categorical_accuracy: 0.8587 - categorical_crossentropy: 51.3652\n",
      "Epoch 70/200\n",
      "184/184 [==============================] - 0s 50us/step - loss: 83.6262 - categorical_accuracy: 0.8261 - categorical_crossentropy: 81.8731\n",
      "Epoch 71/200\n",
      "184/184 [==============================] - 0s 36us/step - loss: 63.3316 - categorical_accuracy: 0.8533 - categorical_crossentropy: 61.5678\n",
      "Epoch 72/200\n",
      "184/184 [==============================] - 0s 50us/step - loss: 91.8385 - categorical_accuracy: 0.7500 - categorical_crossentropy: 90.0587\n",
      "Epoch 73/200\n",
      "184/184 [==============================] - 0s 38us/step - loss: 128.8463 - categorical_accuracy: 0.7935 - categorical_crossentropy: 127.0422\n",
      "Epoch 74/200\n",
      "184/184 [==============================] - 0s 47us/step - loss: 259.1305 - categorical_accuracy: 0.7120 - categorical_crossentropy: 257.2733\n",
      "Epoch 75/200\n",
      "184/184 [==============================] - 0s 35us/step - loss: 40.5216 - categorical_accuracy: 0.8804 - categorical_crossentropy: 38.6613\n",
      "Epoch 76/200\n",
      "184/184 [==============================] - 0s 37us/step - loss: 41.2756 - categorical_accuracy: 0.8913 - categorical_crossentropy: 39.4100\n",
      "Epoch 77/200\n",
      "184/184 [==============================] - 0s 35us/step - loss: 25.1091 - categorical_accuracy: 0.9022 - categorical_crossentropy: 23.2409\n",
      "Epoch 78/200\n",
      "184/184 [==============================] - 0s 37us/step - loss: 18.6354 - categorical_accuracy: 0.9348 - categorical_crossentropy: 16.7652\n",
      "Epoch 79/200\n",
      "184/184 [==============================] - 0s 44us/step - loss: 19.3103 - categorical_accuracy: 0.8967 - categorical_crossentropy: 17.4378\n",
      "Epoch 80/200\n",
      "184/184 [==============================] - 0s 43us/step - loss: 34.2180 - categorical_accuracy: 0.8913 - categorical_crossentropy: 32.3397\n",
      "Epoch 81/200\n",
      "184/184 [==============================] - 0s 39us/step - loss: 29.2624 - categorical_accuracy: 0.8967 - categorical_crossentropy: 27.3801\n",
      "Epoch 82/200\n",
      "184/184 [==============================] - 0s 23us/step - loss: 29.9637 - categorical_accuracy: 0.9185 - categorical_crossentropy: 28.0768\n",
      "Epoch 83/200\n",
      "184/184 [==============================] - 0s 24us/step - loss: 26.3211 - categorical_accuracy: 0.8859 - categorical_crossentropy: 24.4303\n",
      "Epoch 84/200\n",
      "184/184 [==============================] - 0s 24us/step - loss: 42.5708 - categorical_accuracy: 0.8859 - categorical_crossentropy: 40.6717\n",
      "Epoch 85/200\n",
      "184/184 [==============================] - 0s 28us/step - loss: 29.7340 - categorical_accuracy: 0.8967 - categorical_crossentropy: 27.8313\n",
      "Epoch 86/200\n",
      "184/184 [==============================] - 0s 35us/step - loss: 23.0401 - categorical_accuracy: 0.9293 - categorical_crossentropy: 21.1345\n",
      "Epoch 87/200\n",
      "184/184 [==============================] - 0s 34us/step - loss: 15.1434 - categorical_accuracy: 0.9239 - categorical_crossentropy: 13.2363\n",
      "Epoch 88/200\n",
      "184/184 [==============================] - 0s 33us/step - loss: 15.4507 - categorical_accuracy: 0.9457 - categorical_crossentropy: 13.5417\n",
      "Epoch 89/200\n",
      "184/184 [==============================] - 0s 34us/step - loss: 12.3673 - categorical_accuracy: 0.9402 - categorical_crossentropy: 10.4569\n",
      "Epoch 90/200\n",
      "184/184 [==============================] - 0s 37us/step - loss: 9.9231 - categorical_accuracy: 0.9565 - categorical_crossentropy: 8.0120\n",
      "Epoch 91/200\n",
      "184/184 [==============================] - 0s 31us/step - loss: 5.5458 - categorical_accuracy: 0.9674 - categorical_crossentropy: 3.6349\n",
      "Epoch 92/200\n",
      "184/184 [==============================] - 0s 33us/step - loss: 6.3183 - categorical_accuracy: 0.9674 - categorical_crossentropy: 4.4075\n",
      "Epoch 93/200\n",
      "184/184 [==============================] - 0s 28us/step - loss: 6.6295 - categorical_accuracy: 0.9511 - categorical_crossentropy: 4.7189\n",
      "Epoch 94/200\n",
      "184/184 [==============================] - 0s 34us/step - loss: 7.2233 - categorical_accuracy: 0.9565 - categorical_crossentropy: 5.3117\n",
      "Epoch 95/200\n",
      "184/184 [==============================] - 0s 51us/step - loss: 4.9111 - categorical_accuracy: 0.9674 - categorical_crossentropy: 3.0005\n",
      "Epoch 96/200\n",
      "184/184 [==============================] - 0s 35us/step - loss: 3.3908 - categorical_accuracy: 0.9783 - categorical_crossentropy: 1.4812\n",
      "Epoch 97/200\n",
      "184/184 [==============================] - 0s 40us/step - loss: 3.3949 - categorical_accuracy: 0.9837 - categorical_crossentropy: 1.4862\n",
      "Epoch 98/200\n",
      "184/184 [==============================] - 0s 33us/step - loss: 2.6188 - categorical_accuracy: 0.9837 - categorical_crossentropy: 0.7110\n",
      "Epoch 99/200\n",
      "184/184 [==============================] - 0s 25us/step - loss: 2.4487 - categorical_accuracy: 0.9891 - categorical_crossentropy: 0.5417\n",
      "Epoch 100/200\n",
      "184/184 [==============================] - 0s 42us/step - loss: 2.6065 - categorical_accuracy: 0.9837 - categorical_crossentropy: 0.7004\n",
      "Epoch 101/200\n",
      "184/184 [==============================] - 0s 32us/step - loss: 2.4197 - categorical_accuracy: 0.9891 - categorical_crossentropy: 0.5145\n",
      "Epoch 102/200\n",
      "184/184 [==============================] - 0s 28us/step - loss: 2.5976 - categorical_accuracy: 0.9837 - categorical_crossentropy: 0.6931\n",
      "Epoch 103/200\n",
      "184/184 [==============================] - 0s 33us/step - loss: 2.4001 - categorical_accuracy: 0.9891 - categorical_crossentropy: 0.4964\n",
      "Epoch 104/200\n",
      "184/184 [==============================] - 0s 47us/step - loss: 2.5823 - categorical_accuracy: 0.9891 - categorical_crossentropy: 0.6795\n",
      "Epoch 105/200\n",
      "184/184 [==============================] - 0s 40us/step - loss: 2.4041 - categorical_accuracy: 0.9891 - categorical_crossentropy: 0.5021\n",
      "Epoch 106/200\n",
      "184/184 [==============================] - 0s 41us/step - loss: 2.5817 - categorical_accuracy: 0.9837 - categorical_crossentropy: 0.6805\n",
      "Epoch 107/200\n",
      "184/184 [==============================] - 0s 29us/step - loss: 2.7334 - categorical_accuracy: 0.9837 - categorical_crossentropy: 0.8329\n",
      "Epoch 108/200\n",
      "184/184 [==============================] - 0s 48us/step - loss: 3.1052 - categorical_accuracy: 0.9783 - categorical_crossentropy: 1.2055\n"
     ]
    },
    {
     "name": "stdout",
     "output_type": "stream",
     "text": [
      "Epoch 109/200\n",
      "184/184 [==============================] - 0s 49us/step - loss: 4.3232 - categorical_accuracy: 0.9674 - categorical_crossentropy: 2.4240\n",
      "Epoch 110/200\n",
      "184/184 [==============================] - 0s 30us/step - loss: 4.0167 - categorical_accuracy: 0.9728 - categorical_crossentropy: 2.1179\n",
      "Epoch 111/200\n",
      "184/184 [==============================] - 0s 43us/step - loss: 3.9957 - categorical_accuracy: 0.9783 - categorical_crossentropy: 2.0976\n",
      "Epoch 112/200\n",
      "184/184 [==============================] - 0s 26us/step - loss: 3.1749 - categorical_accuracy: 0.9783 - categorical_crossentropy: 1.2776\n",
      "Epoch 113/200\n",
      "184/184 [==============================] - 0s 30us/step - loss: 4.2067 - categorical_accuracy: 0.9728 - categorical_crossentropy: 2.3099\n",
      "Epoch 114/200\n",
      "184/184 [==============================] - 0s 42us/step - loss: 4.2632 - categorical_accuracy: 0.9728 - categorical_crossentropy: 2.3667\n",
      "Epoch 115/200\n",
      "184/184 [==============================] - 0s 37us/step - loss: 5.5587 - categorical_accuracy: 0.9565 - categorical_crossentropy: 3.6626\n",
      "Epoch 116/200\n",
      "184/184 [==============================] - 0s 30us/step - loss: 6.2737 - categorical_accuracy: 0.9674 - categorical_crossentropy: 4.3769\n",
      "Epoch 117/200\n",
      "184/184 [==============================] - 0s 30us/step - loss: 4.8611 - categorical_accuracy: 0.9674 - categorical_crossentropy: 2.9651\n",
      "Epoch 118/200\n",
      "184/184 [==============================] - 0s 38us/step - loss: 3.8057 - categorical_accuracy: 0.9728 - categorical_crossentropy: 1.9104\n",
      "Epoch 119/200\n",
      "184/184 [==============================] - 0s 26us/step - loss: 3.8029 - categorical_accuracy: 0.9783 - categorical_crossentropy: 1.9083\n",
      "Epoch 120/200\n",
      "184/184 [==============================] - 0s 30us/step - loss: 3.0631 - categorical_accuracy: 0.9783 - categorical_crossentropy: 1.1692\n",
      "Epoch 121/200\n",
      "184/184 [==============================] - 0s 29us/step - loss: 4.0231 - categorical_accuracy: 0.9728 - categorical_crossentropy: 2.1297\n",
      "Epoch 122/200\n",
      "184/184 [==============================] - 0s 32us/step - loss: 4.1870 - categorical_accuracy: 0.9728 - categorical_crossentropy: 2.2939\n",
      "Epoch 123/200\n",
      "184/184 [==============================] - 0s 37us/step - loss: 5.8171 - categorical_accuracy: 0.9620 - categorical_crossentropy: 3.9244\n",
      "Epoch 124/200\n",
      "184/184 [==============================] - 0s 33us/step - loss: 5.8153 - categorical_accuracy: 0.9674 - categorical_crossentropy: 3.9219\n",
      "Epoch 125/200\n",
      "184/184 [==============================] - 0s 30us/step - loss: 5.0717 - categorical_accuracy: 0.9728 - categorical_crossentropy: 3.1789\n",
      "Epoch 126/200\n",
      "184/184 [==============================] - 0s 28us/step - loss: 3.4034 - categorical_accuracy: 0.9728 - categorical_crossentropy: 1.5115\n",
      "Epoch 127/200\n",
      "184/184 [==============================] - 0s 38us/step - loss: 3.6453 - categorical_accuracy: 0.9837 - categorical_crossentropy: 1.7540\n",
      "Epoch 128/200\n",
      "184/184 [==============================] - 0s 36us/step - loss: 2.3755 - categorical_accuracy: 0.9946 - categorical_crossentropy: 0.4852\n",
      "Epoch 129/200\n",
      "184/184 [==============================] - 0s 30us/step - loss: 2.3151 - categorical_accuracy: 0.9891 - categorical_crossentropy: 0.4257\n",
      "Epoch 130/200\n",
      "184/184 [==============================] - 0s 41us/step - loss: 2.4911 - categorical_accuracy: 0.9891 - categorical_crossentropy: 0.6025\n",
      "Epoch 131/200\n",
      "184/184 [==============================] - 0s 35us/step - loss: 2.4212 - categorical_accuracy: 0.9837 - categorical_crossentropy: 0.5334\n",
      "Epoch 132/200\n",
      "184/184 [==============================] - 0s 27us/step - loss: 3.1244 - categorical_accuracy: 0.9783 - categorical_crossentropy: 1.2372\n",
      "Epoch 133/200\n",
      "184/184 [==============================] - 0s 28us/step - loss: 3.2915 - categorical_accuracy: 0.9783 - categorical_crossentropy: 1.4048\n",
      "Epoch 134/200\n",
      "184/184 [==============================] - 0s 45us/step - loss: 3.9013 - categorical_accuracy: 0.9783 - categorical_crossentropy: 2.0151\n",
      "Epoch 135/200\n",
      "184/184 [==============================] - 0s 35us/step - loss: 2.5416 - categorical_accuracy: 0.9837 - categorical_crossentropy: 0.6562\n",
      "Epoch 136/200\n",
      "184/184 [==============================] - 0s 34us/step - loss: 2.8492 - categorical_accuracy: 0.9837 - categorical_crossentropy: 0.9644\n",
      "Epoch 137/200\n",
      "184/184 [==============================] - 0s 31us/step - loss: 2.4700 - categorical_accuracy: 0.9837 - categorical_crossentropy: 0.5859\n",
      "Epoch 138/200\n",
      "184/184 [==============================] - 0s 34us/step - loss: 2.9357 - categorical_accuracy: 0.9891 - categorical_crossentropy: 1.0523\n",
      "Epoch 139/200\n",
      "184/184 [==============================] - 0s 31us/step - loss: 2.1160 - categorical_accuracy: 0.9946 - categorical_crossentropy: 0.2334\n",
      "Epoch 140/200\n",
      "184/184 [==============================] - 0s 34us/step - loss: 2.0792 - categorical_accuracy: 0.9891 - categorical_crossentropy: 0.1974\n",
      "Epoch 141/200\n",
      "184/184 [==============================] - 0s 47us/step - loss: 2.1742 - categorical_accuracy: 0.9946 - categorical_crossentropy: 0.2932\n",
      "Epoch 142/200\n",
      "184/184 [==============================] - 0s 34us/step - loss: 2.0858 - categorical_accuracy: 0.9946 - categorical_crossentropy: 0.2056\n",
      "Epoch 143/200\n",
      "184/184 [==============================] - 0s 31us/step - loss: 2.0914 - categorical_accuracy: 0.9891 - categorical_crossentropy: 0.2120\n",
      "Epoch 144/200\n",
      "184/184 [==============================] - 0s 31us/step - loss: 2.1603 - categorical_accuracy: 0.9946 - categorical_crossentropy: 0.2817\n",
      "Epoch 145/200\n",
      "184/184 [==============================] - 0s 44us/step - loss: 2.0719 - categorical_accuracy: 0.9946 - categorical_crossentropy: 0.1941\n",
      "Epoch 146/200\n",
      "184/184 [==============================] - 0s 40us/step - loss: 2.0734 - categorical_accuracy: 0.9891 - categorical_crossentropy: 0.1963\n",
      "Epoch 147/200\n",
      "184/184 [==============================] - 0s 40us/step - loss: 2.1067 - categorical_accuracy: 0.9946 - categorical_crossentropy: 0.2304\n",
      "Epoch 148/200\n",
      "184/184 [==============================] - 0s 30us/step - loss: 2.0183 - categorical_accuracy: 0.9946 - categorical_crossentropy: 0.1428\n",
      "Epoch 149/200\n",
      "184/184 [==============================] - 0s 36us/step - loss: 2.2345 - categorical_accuracy: 0.9783 - categorical_crossentropy: 0.3598\n",
      "Epoch 150/200\n",
      "184/184 [==============================] - 0s 41us/step - loss: 2.4862 - categorical_accuracy: 0.9891 - categorical_crossentropy: 0.6119\n",
      "Epoch 151/200\n",
      "184/184 [==============================] - 0s 42us/step - loss: 2.3207 - categorical_accuracy: 0.9891 - categorical_crossentropy: 0.4473\n",
      "Epoch 152/200\n",
      "184/184 [==============================] - 0s 19us/step - loss: 2.4407 - categorical_accuracy: 0.9891 - categorical_crossentropy: 0.5681\n",
      "Epoch 153/200\n",
      "184/184 [==============================] - 0s 31us/step - loss: 2.4570 - categorical_accuracy: 0.9837 - categorical_crossentropy: 0.5851\n",
      "Epoch 154/200\n",
      "184/184 [==============================] - 0s 39us/step - loss: 2.7934 - categorical_accuracy: 0.9891 - categorical_crossentropy: 0.9221\n",
      "Epoch 155/200\n",
      "184/184 [==============================] - 0s 30us/step - loss: 2.0093 - categorical_accuracy: 0.9946 - categorical_crossentropy: 0.1388\n",
      "Epoch 156/200\n",
      "184/184 [==============================] - 0s 39us/step - loss: 2.0339 - categorical_accuracy: 0.9891 - categorical_crossentropy: 0.1642\n",
      "Epoch 157/200\n",
      "184/184 [==============================] - 0s 32us/step - loss: 2.1031 - categorical_accuracy: 0.9946 - categorical_crossentropy: 0.2342\n",
      "Epoch 158/200\n",
      "184/184 [==============================] - 0s 30us/step - loss: 2.0450 - categorical_accuracy: 0.9891 - categorical_crossentropy: 0.1769\n",
      "Epoch 159/200\n",
      "184/184 [==============================] - 0s 40us/step - loss: 2.2440 - categorical_accuracy: 0.9891 - categorical_crossentropy: 0.3766\n",
      "Epoch 160/200\n",
      "184/184 [==============================] - 0s 32us/step - loss: 2.3101 - categorical_accuracy: 0.9837 - categorical_crossentropy: 0.4434\n",
      "Epoch 161/200\n",
      "184/184 [==============================] - 0s 30us/step - loss: 3.0059 - categorical_accuracy: 0.9837 - categorical_crossentropy: 1.1396\n",
      "Epoch 162/200\n",
      "184/184 [==============================] - 0s 36us/step - loss: 2.4286 - categorical_accuracy: 0.9891 - categorical_crossentropy: 0.5630\n",
      "Epoch 163/200\n",
      "184/184 [==============================] - 0s 32us/step - loss: 2.2794 - categorical_accuracy: 0.9891 - categorical_crossentropy: 0.4147\n"
     ]
    },
    {
     "name": "stdout",
     "output_type": "stream",
     "text": [
      "Epoch 164/200\n",
      "184/184 [==============================] - 0s 29us/step - loss: 2.6512 - categorical_accuracy: 0.9837 - categorical_crossentropy: 0.7872\n",
      "Epoch 165/200\n",
      "184/184 [==============================] - 0s 30us/step - loss: 2.6351 - categorical_accuracy: 0.9891 - categorical_crossentropy: 0.7717\n",
      "Epoch 166/200\n",
      "184/184 [==============================] - 0s 34us/step - loss: 1.9896 - categorical_accuracy: 0.9891 - categorical_crossentropy: 0.1270\n",
      "Epoch 167/200\n",
      "184/184 [==============================] - 0s 31us/step - loss: 2.1955 - categorical_accuracy: 0.9891 - categorical_crossentropy: 0.3337\n",
      "Epoch 168/200\n",
      "184/184 [==============================] - 0s 29us/step - loss: 2.3559 - categorical_accuracy: 0.9837 - categorical_crossentropy: 0.4948\n",
      "Epoch 169/200\n",
      "184/184 [==============================] - 0s 30us/step - loss: 3.0022 - categorical_accuracy: 0.9837 - categorical_crossentropy: 1.1414\n",
      "Epoch 170/200\n",
      "184/184 [==============================] - 0s 30us/step - loss: 2.3976 - categorical_accuracy: 0.9891 - categorical_crossentropy: 0.5376\n",
      "Epoch 171/200\n",
      "184/184 [==============================] - 0s 33us/step - loss: 2.2412 - categorical_accuracy: 0.9891 - categorical_crossentropy: 0.3819\n",
      "Epoch 172/200\n",
      "184/184 [==============================] - 0s 32us/step - loss: 2.6559 - categorical_accuracy: 0.9837 - categorical_crossentropy: 0.7974\n",
      "Epoch 173/200\n",
      "184/184 [==============================] - 0s 25us/step - loss: 2.6283 - categorical_accuracy: 0.9891 - categorical_crossentropy: 0.7705\n",
      "Epoch 174/200\n",
      "184/184 [==============================] - 0s 43us/step - loss: 1.9666 - categorical_accuracy: 0.9891 - categorical_crossentropy: 0.1096\n",
      "Epoch 175/200\n",
      "184/184 [==============================] - 0s 37us/step - loss: 2.1469 - categorical_accuracy: 0.9891 - categorical_crossentropy: 0.2906\n",
      "Epoch 176/200\n",
      "184/184 [==============================] - 0s 32us/step - loss: 2.2779 - categorical_accuracy: 0.9891 - categorical_crossentropy: 0.4223\n",
      "Epoch 177/200\n",
      "184/184 [==============================] - 0s 25us/step - loss: 2.5747 - categorical_accuracy: 0.9891 - categorical_crossentropy: 0.7197\n",
      "Epoch 178/200\n",
      "184/184 [==============================] - 0s 30us/step - loss: 1.9985 - categorical_accuracy: 0.9891 - categorical_crossentropy: 0.1443\n",
      "Epoch 179/200\n",
      "184/184 [==============================] - 0s 33us/step - loss: 2.1492 - categorical_accuracy: 0.9891 - categorical_crossentropy: 0.2957\n",
      "Epoch 180/200\n",
      "184/184 [==============================] - 0s 35us/step - loss: 2.2336 - categorical_accuracy: 0.9891 - categorical_crossentropy: 0.3808\n",
      "Epoch 181/200\n",
      "184/184 [==============================] - 0s 24us/step - loss: 2.4968 - categorical_accuracy: 0.9891 - categorical_crossentropy: 0.6447\n",
      "Epoch 182/200\n",
      "184/184 [==============================] - 0s 42us/step - loss: 1.9963 - categorical_accuracy: 0.9891 - categorical_crossentropy: 0.1449\n",
      "Epoch 183/200\n",
      "184/184 [==============================] - 0s 34us/step - loss: 2.0714 - categorical_accuracy: 0.9891 - categorical_crossentropy: 0.2208\n",
      "Epoch 184/200\n",
      "184/184 [==============================] - 0s 29us/step - loss: 2.3589 - categorical_accuracy: 0.9837 - categorical_crossentropy: 0.5089\n",
      "Epoch 185/200\n",
      "184/184 [==============================] - 0s 41us/step - loss: 2.9602 - categorical_accuracy: 0.9891 - categorical_crossentropy: 1.1106\n",
      "Epoch 186/200\n",
      "184/184 [==============================] - 0s 34us/step - loss: 2.0895 - categorical_accuracy: 0.9946 - categorical_crossentropy: 0.2407\n",
      "Epoch 187/200\n",
      "184/184 [==============================] - 0s 37us/step - loss: 2.0011 - categorical_accuracy: 0.9946 - categorical_crossentropy: 0.1531\n",
      "Epoch 188/200\n",
      "184/184 [==============================] - 0s 28us/step - loss: 1.9707 - categorical_accuracy: 0.9891 - categorical_crossentropy: 0.1235\n",
      "Epoch 189/200\n",
      "184/184 [==============================] - 0s 35us/step - loss: 2.1200 - categorical_accuracy: 0.9891 - categorical_crossentropy: 0.2735\n",
      "Epoch 190/200\n",
      "184/184 [==============================] - 0s 41us/step - loss: 2.2094 - categorical_accuracy: 0.9891 - categorical_crossentropy: 0.3636\n",
      "Epoch 191/200\n",
      "184/184 [==============================] - 0s 32us/step - loss: 2.9461 - categorical_accuracy: 0.9783 - categorical_crossentropy: 1.1009\n",
      "Epoch 192/200\n",
      "184/184 [==============================] - 0s 37us/step - loss: 2.8202 - categorical_accuracy: 0.9783 - categorical_crossentropy: 0.9754\n",
      "Epoch 193/200\n",
      "184/184 [==============================] - 0s 37us/step - loss: 3.7362 - categorical_accuracy: 0.9728 - categorical_crossentropy: 1.8918\n",
      "Epoch 194/200\n",
      "184/184 [==============================] - 0s 45us/step - loss: 5.6821 - categorical_accuracy: 0.9728 - categorical_crossentropy: 3.8378\n",
      "Epoch 195/200\n",
      "184/184 [==============================] - 0s 34us/step - loss: 5.9139 - categorical_accuracy: 0.9674 - categorical_crossentropy: 4.0695\n",
      "Epoch 196/200\n",
      "184/184 [==============================] - 0s 42us/step - loss: 7.7913 - categorical_accuracy: 0.9674 - categorical_crossentropy: 5.9465\n",
      "Epoch 197/200\n",
      "184/184 [==============================] - 0s 42us/step - loss: 6.8740 - categorical_accuracy: 0.9620 - categorical_crossentropy: 5.0289\n",
      "Epoch 198/200\n",
      "184/184 [==============================] - 0s 45us/step - loss: 11.4394 - categorical_accuracy: 0.9511 - categorical_crossentropy: 9.5932\n",
      "Epoch 199/200\n",
      "184/184 [==============================] - 0s 40us/step - loss: 8.0858 - categorical_accuracy: 0.9620 - categorical_crossentropy: 6.2391\n",
      "Epoch 200/200\n",
      "184/184 [==============================] - 0s 46us/step - loss: 10.1771 - categorical_accuracy: 0.9565 - categorical_crossentropy: 8.3295\n"
     ]
    },
    {
     "data": {
      "text/plain": [
       "ShapeletModel(batch_size=256, max_iter=200, n_shapelets_per_size={30: 4},\n",
       "              optimizer='sgd', random_state=None, shapelet_length=0.15,\n",
       "              total_lengths=3, verbose=1, verbose_level=None,\n",
       "              weight_regularizer=0.01)"
      ]
     },
     "execution_count": 203,
     "metadata": {},
     "output_type": "execute_result"
    }
   ],
   "source": [
    "shp_clf.fit(X_train, y_train)"
   ]
  },
  {
   "cell_type": "code",
   "execution_count": 204,
   "metadata": {},
   "outputs": [
    {
     "name": "stdout",
     "output_type": "stream",
     "text": [
      "\r",
      "80/80 [==============================] - 0s 6ms/step\n"
     ]
    }
   ],
   "source": [
    "y_pred = shp_clf.predict(X_test)"
   ]
  },
  {
   "cell_type": "code",
   "execution_count": 205,
   "metadata": {},
   "outputs": [
    {
     "name": "stdout",
     "output_type": "stream",
     "text": [
      "Accuracy 0.9375\n",
      "F1-score [0.97777778 0.90909091 0.97297297 0.88235294]\n",
      "              precision    recall  f1-score   support\n",
      "\n",
      "           0       0.96      1.00      0.98        22\n",
      "           1       0.83      1.00      0.91        20\n",
      "           2       1.00      0.95      0.97        19\n",
      "           3       1.00      0.79      0.88        19\n",
      "\n",
      "    accuracy                           0.94        80\n",
      "   macro avg       0.95      0.93      0.94        80\n",
      "weighted avg       0.95      0.94      0.94        80\n",
      "\n"
     ]
    }
   ],
   "source": [
    "print('Accuracy %s' % accuracy_score(y_test, y_pred))\n",
    "print('F1-score %s' % f1_score(y_test, y_pred, average=None))\n",
    "print(classification_report(y_test, y_pred))"
   ]
  },
  {
   "cell_type": "markdown",
   "metadata": {},
   "source": [
    "## Shaplet-distances-based Classifier"
   ]
  },
  {
   "cell_type": "code",
   "execution_count": 206,
   "metadata": {},
   "outputs": [
    {
     "name": "stdout",
     "output_type": "stream",
     "text": [
      "\r",
      "184/184 [==============================] - 0s 2ms/step\n"
     ]
    }
   ],
   "source": [
    "X_train2 = shp_clf.transform(X_train)"
   ]
  },
  {
   "cell_type": "code",
   "execution_count": 207,
   "metadata": {},
   "outputs": [
    {
     "data": {
      "text/plain": [
       "(184, 4)"
      ]
     },
     "execution_count": 207,
     "metadata": {},
     "output_type": "execute_result"
    }
   ],
   "source": [
    "X_train2.shape"
   ]
  },
  {
   "cell_type": "code",
   "execution_count": 208,
   "metadata": {},
   "outputs": [
    {
     "data": {
      "text/plain": [
       "array([[3.97005230e-01, 1.02651566e+02, 2.01301834e+02, 2.07968760e+00],\n",
       "       [8.70267010e+00, 1.74494801e+01, 1.23057167e+02, 2.13369278e+02],\n",
       "       [1.45833343e-02, 2.18838558e+01, 7.68037796e+01, 2.60187256e+02],\n",
       "       [7.42187537e-03, 6.59072327e+02, 1.49961334e+02, 1.37839111e+03],\n",
       "       [1.25781253e-01, 7.63401184e+02, 2.01982758e+02, 1.52744543e+03],\n",
       "       [1.64427090e+00, 2.12972015e+02, 2.27070332e+00, 6.77405518e+02],\n",
       "       [3.38541693e-03, 4.41411476e+01, 2.03722595e+02, 2.31554699e+01],\n",
       "       [2.91406274e-01, 6.68736389e+02, 1.54436539e+02, 1.39233557e+03],\n",
       "       [3.42200541e+00, 5.17346382e+01, 4.89403687e+01, 3.39845856e+02],\n",
       "       [1.82128918e+00, 2.39166672e+02, 1.99626450e+02, 1.71640625e+01],\n",
       "       [6.25065148e-01, 5.26593933e+02, 9.05968781e+01, 1.18332788e+03],\n",
       "       [1.51497409e-01, 1.38338028e+02, 2.06081390e+02, 3.13541681e-01],\n",
       "       [6.21875048e-01, 1.31463547e+01, 2.08550797e+02, 6.34114609e+01],\n",
       "       [3.78515631e-01, 2.05199493e+02, 2.01751053e+02, 8.43072987e+00],\n",
       "       [1.14583336e-02, 7.66212280e+02, 2.03232895e+02, 1.53151550e+03],\n",
       "       [9.74088609e-01, 4.85829987e+02, 7.42638092e+01, 1.12168079e+03],\n",
       "       [2.81901062e-02, 8.88190155e+01, 1.60694027e+01, 4.35924774e+02],\n",
       "       [2.03580737e-01, 1.42710419e+02, 2.06290176e+02, 5.14583349e-01],\n",
       "       [5.61848991e-02, 7.56117249e+01, 2.24459648e+01, 4.05997925e+02],\n",
       "       [5.95052131e-02, 6.94122467e+01, 2.60355492e+01, 3.91439606e+02],\n",
       "       [1.17513023e-01, 7.46225647e+02, 1.92807816e+02, 1.50324805e+03],\n",
       "       [2.72135437e-02, 2.36533871e+01, 7.37173233e+01, 2.66122681e+02],\n",
       "       [2.97506523e+00, 7.53023499e+02, 1.98790695e+02, 1.51132959e+03],\n",
       "       [1.41927093e-01, 8.14398499e+01, 2.05695587e+02, 6.15026093e+00],\n",
       "       [6.11979188e-03, 1.82500005e+00, 2.03554184e+02, 1.02125786e+02],\n",
       "       [1.92942715e+00, 4.70987015e+01, 4.88777351e+01, 3.31138306e+02],\n",
       "       [1.09375007e-02, 2.60446106e+02, 2.03240570e+02, 2.19380226e+01],\n",
       "       [2.29277349e+00, 7.50185486e+02, 1.97379501e+02, 1.50728040e+03],\n",
       "       [1.06380217e-01, 3.34802094e+01, 5.91348991e+01, 2.96825531e+02],\n",
       "       [1.21080732e+00, 4.54566315e+02, 6.25175819e+01, 1.07371985e+03],\n",
       "       [5.13411462e-01, 4.01691040e+02, 4.52273445e+01, 9.91143005e+02],\n",
       "       [2.83203144e-02, 2.49557304e+00, 1.40624619e+02, 1.69749756e+02],\n",
       "       [2.68372416e+00, 4.32847809e+02, 5.70604210e+01, 1.03892761e+03],\n",
       "       [2.07858086e+00, 2.24187637e+02, 3.58411479e+00, 6.97017456e+02],\n",
       "       [3.37500006e-01, 7.36532227e+02, 1.87865891e+02, 1.48942334e+03],\n",
       "       [1.90703130e+00, 2.34851059e+02, 4.50885439e+00, 7.16022949e+02],\n",
       "       [5.46875037e-03, 7.68935852e+02, 2.04530472e+02, 1.53540271e+03],\n",
       "       [1.51171878e-01, 8.47744827e+01, 2.06272934e+02, 5.30468798e+00],\n",
       "       [1.82233083e+00, 1.92344147e+02, 1.24322927e+00, 6.40052612e+02],\n",
       "       [3.11848968e-02, 7.56152100e+02, 1.97923843e+02, 1.51732483e+03],\n",
       "       [1.90006518e+00, 3.19497528e+02, 2.04858074e+01, 8.59229858e+02],\n",
       "       [1.25657558e+00, 1.22785942e+02, 2.00053787e+02, 1.20677090e+00],\n",
       "       [2.99479179e-02, 1.41903658e+01, 9.36454468e+01, 2.31576050e+02],\n",
       "       [2.04075527e+00, 3.13118622e+02, 1.89915371e+01, 8.48675293e+02],\n",
       "       [1.32877618e-01, 5.18385429e+01, 2.05693832e+02, 1.83716164e+01],\n",
       "       [2.69531272e-02, 7.66227539e+02, 2.03276306e+02, 1.53152148e+03],\n",
       "       [8.46093774e-01, 7.76328182e+00, 2.09312897e+02, 7.89692764e+01],\n",
       "       [1.63476574e+00, 2.02351059e+02, 1.48789072e+00, 6.58409912e+02],\n",
       "       [2.33203143e-01, 1.99865112e+02, 2.02192459e+02, 7.30364609e+00],\n",
       "       [4.66927111e-01, 1.48854172e+00, 1.54036987e+02, 1.56294800e+02],\n",
       "       [1.98958337e-01, 1.35293503e+02, 4.15130234e+00, 5.32436768e+02],\n",
       "       [1.49986982e+00, 1.58478256e+02, 1.75117195e+00, 5.76893799e+02],\n",
       "       [2.30162764e+00, 3.85947952e+01, 1.97469803e+02, 3.39786491e+01],\n",
       "       [2.49023452e-01, 2.54343758e+01, 2.07309250e+02, 4.22153664e+01],\n",
       "       [6.69303417e+00, 5.87171898e+01, 5.15069046e+01, 3.50844025e+02],\n",
       "       [3.45703140e-02, 9.15182343e+01, 2.03231781e+02, 3.58593774e+00],\n",
       "       [5.89388072e-01, 1.18315115e+01, 2.08010040e+02, 6.62731781e+01],\n",
       "       [6.69401050e-01, 4.02695351e+01, 2.00414261e+02, 2.74716167e+01],\n",
       "       [4.27805996e+00, 4.20352356e+02, 5.47419281e+01, 1.01794434e+03],\n",
       "       [3.86197925e-01, 1.26637245e+02, 1.99922668e+02, 8.95833373e-01],\n",
       "       [1.05937505e+00, 1.09166670e+00, 1.73062897e+02, 1.39232819e+02],\n",
       "       [4.58984412e-02, 3.86046631e+02, 3.86649742e+01, 9.67379089e+02],\n",
       "       [1.23776042e+00, 2.99859390e+01, 1.99360687e+02, 3.80677109e+01],\n",
       "       [1.48437507e-02, 5.59984253e+02, 1.04819016e+02, 1.23329810e+03],\n",
       "       [7.54231811e-01, 4.31354189e+00, 2.08636337e+02, 9.22333374e+01],\n",
       "       [8.63476634e-01, 1.18679176e+02, 2.00057816e+02, 1.29375005e+00],\n",
       "       [1.14993501e+00, 2.39723587e+02, 4.65208340e+00, 7.25020325e+02],\n",
       "       [2.67578125e-01, 5.02291679e+00, 1.28930740e+02, 1.84658600e+02],\n",
       "       [1.68007827e+00, 1.72666153e+02, 1.19153655e+00, 6.03640137e+02],\n",
       "       [3.72526050e-01, 1.15724747e+02, 9.35859394e+00, 4.91869293e+02],\n",
       "       [1.66992202e-01, 5.45289078e+01, 2.06277618e+02, 1.68872414e+01],\n",
       "       [1.51171878e-01, 6.88117218e+01, 2.06272934e+02, 1.02544279e+01],\n",
       "       [8.18229198e-01, 2.16225266e+02, 2.00733078e+02, 1.10364590e+01],\n",
       "       [1.09163418e+01, 6.55510483e+01, 4.86730499e+01, 3.65993774e+02],\n",
       "       [6.06119819e-02, 7.06814087e+02, 1.73059448e+02, 1.44708923e+03],\n",
       "       [1.76321626e+00, 1.20167976e+02, 9.02096367e+00, 5.00451080e+02],\n",
       "       [6.54752612e-01, 9.58229256e+00, 2.08575790e+02, 7.23968811e+01],\n",
       "       [9.61783886e-01, 5.87512512e+02, 1.18292320e+02, 1.27315063e+03],\n",
       "       [1.88802090e-03, 1.36171877e+00, 2.03948380e+02, 1.05851311e+02],\n",
       "       [4.00390662e-02, 1.94546371e+02, 2.02966293e+02, 6.22395849e+00],\n",
       "       [7.48112023e-01, 1.08807297e+01, 2.09209061e+02, 6.95317764e+01],\n",
       "       [3.51562514e-03, 7.66211914e+02, 2.03230225e+02, 1.53151611e+03],\n",
       "       [1.50117195e+00, 1.49244797e+00, 1.88067062e+02, 1.27123444e+02],\n",
       "       [3.26822922e-02, 8.54127655e+01, 1.75656261e+01, 4.28336731e+02],\n",
       "       [4.59635444e-02, 7.16541565e+02, 1.77900787e+02, 1.46099304e+03],\n",
       "       [1.80859387e-01, 3.56492195e+01, 5.64179726e+01, 3.03169800e+02],\n",
       "       [4.82812524e-01, 1.39701828e+02, 3.71263051e+00, 5.41006531e+02],\n",
       "       [7.20052123e-02, 1.79681259e+02, 2.05690247e+02, 4.01510429e+00],\n",
       "       [1.11230469e+00, 6.44487000e+01, 3.15744801e+01, 3.77870087e+02],\n",
       "       [1.19401045e-01, 6.97193115e+02, 1.68290894e+02, 1.43330408e+03],\n",
       "       [5.31575561e-01, 2.19869804e+01, 2.07972153e+02, 4.71440125e+01],\n",
       "       [1.94635427e+00, 2.28176834e+02, 1.99638947e+02, 1.45307302e+01],\n",
       "       [8.03645849e-01, 1.19687510e+00, 1.63432953e+02, 1.47676575e+02],\n",
       "       [2.23372415e-01, 6.78181274e+02, 1.58993042e+02, 1.40595813e+03],\n",
       "       [1.13906252e+00, 7.56827393e+02, 1.99916870e+02, 1.51730103e+03],\n",
       "       [7.46744812e-01, 2.10816681e+02, 2.00865768e+02, 9.81822968e+00],\n",
       "       [1.33528650e-01, 4.92619820e+01, 2.05984512e+02, 1.99822922e+01],\n",
       "       [8.52864608e-03, 1.84469284e+02, 2.04675598e+02, 4.56770849e+00],\n",
       "       [1.11029301e+01, 6.39783897e+01, 5.20981789e+01, 3.60209137e+02],\n",
       "       [3.90625000e-03, 1.10667717e+02, 8.67578125e+00, 4.82808350e+02],\n",
       "       [3.34309906e-01, 1.51727097e+02, 2.07339661e+02, 1.19531262e+00],\n",
       "       [1.61979169e-01, 7.50169296e+01, 2.06276306e+02, 8.09947968e+00],\n",
       "       [1.97395849e+00, 1.82578918e+02, 1.24791670e+00, 6.21935974e+02],\n",
       "       [1.56979179e+00, 3.32296112e+02, 2.35520840e+01, 8.80368042e+02],\n",
       "       [8.13802145e-03, 2.55889206e+02, 6.61770868e+00, 7.53557861e+02],\n",
       "       [2.21979189e+00, 3.06931396e+02, 1.76653652e+01, 8.38320374e+02],\n",
       "       [5.96940160e-01, 1.27473962e+00, 1.58675262e+02, 1.51915115e+02],\n",
       "       [5.74348986e-01, 1.59057302e+01, 2.08521881e+02, 5.78106804e+01],\n",
       "       [3.99869800e-01, 4.38237793e+02, 5.69688835e+01, 1.04869470e+03],\n",
       "       [5.92447929e-02, 1.33991150e+02, 2.05167328e+02, 1.19791672e-01],\n",
       "       [2.12259126e+00, 2.75707306e+02, 1.09971361e+01, 7.86172058e+02],\n",
       "       [1.91822922e+00, 2.18446106e+02, 2.81197929e+00, 6.87071899e+02],\n",
       "       [8.07291735e-03, 1.70494804e+01, 8.65614624e+01, 2.42846100e+02],\n",
       "       [1.40299484e-01, 9.59356842e+01, 1.32691412e+01, 4.51444305e+02],\n",
       "       [1.01438808e+00, 3.51937256e+02, 2.86290379e+01, 9.12506714e+02],\n",
       "       [8.18105507e+00, 1.82593765e+01, 1.13922791e+02, 2.22588547e+02],\n",
       "       [1.59765631e-01, 7.63090515e+02, 2.02035812e+02, 1.52688367e+03],\n",
       "       [5.14290380e+00, 1.65213547e+01, 1.06944664e+02, 2.25144806e+02],\n",
       "       [2.56334639e+00, 2.70118622e+02, 1.02330732e+01, 7.76427368e+02],\n",
       "       [2.36009121e+00, 2.88154053e+02, 1.35911465e+01, 8.06998352e+02],\n",
       "       [3.27265644e+00, 1.08598967e+01, 1.25771751e+02, 1.98585953e+02],\n",
       "       [1.19856775e-01, 7.81763077e+01, 2.05693115e+02, 7.06770849e+00],\n",
       "       [1.90625012e-01, 3.79041962e+02, 3.64375000e+01, 9.56234314e+02],\n",
       "       [7.77343810e-02, 1.03158470e+02, 1.07365894e+01, 4.67013031e+02],\n",
       "       [1.17187507e-01, 7.26542725e+02, 1.82840042e+02, 1.47523083e+03],\n",
       "       [4.92187515e-02, 3.12950535e+01, 6.17578163e+01, 2.90489868e+02],\n",
       "       [4.06250022e-02, 7.24906311e+01, 2.42049484e+01, 3.98701843e+02],\n",
       "       [1.63046885e+00, 7.56263062e+02, 1.99583801e+02, 1.51653247e+03],\n",
       "       [1.18919277e+00, 4.62218903e+02, 6.53057327e+01, 1.08554248e+03],\n",
       "       [1.02213547e-02, 2.02044277e+01, 8.00186234e+01, 2.54328400e+02],\n",
       "       [7.49088585e-01, 5.78336243e+02, 1.13922142e+02, 1.25982458e+03],\n",
       "       [2.36979183e-02, 8.20679703e+01, 1.91317711e+01, 4.20806793e+02],\n",
       "       [7.91666687e-01, 8.76640701e+00, 2.09236801e+02, 7.57911530e+01],\n",
       "       [4.33398455e-01, 1.65692459e+02, 2.07923065e+02, 2.64114594e+00],\n",
       "       [8.87369812e-02, 8.81671906e+01, 2.06270981e+02, 4.51484394e+00],\n",
       "       [1.20182298e-01, 2.49116165e+02, 2.01081390e+02, 1.88942719e+01],\n",
       "       [5.25195360e-01, 4.87760448e+00, 2.07968765e+02, 8.85945358e+01],\n",
       "       [6.69466197e-01, 1.61145844e+02, 2.08581787e+02, 2.29062510e+00],\n",
       "       [1.21028654e-01, 1.70056519e+02, 2.05693756e+02, 2.76093769e+00],\n",
       "       [9.35742259e-01, 7.00416708e+00, 1.26332039e+02, 1.90714600e+02],\n",
       "       [1.18489591e-02, 7.66768311e+02, 2.03519806e+02, 1.53230164e+03],\n",
       "       [8.55729222e-01, 6.82630253e+00, 2.09280807e+02, 8.22132874e+01],\n",
       "       [2.55996108e+00, 7.52423584e+02, 1.98889847e+02, 1.51018420e+03],\n",
       "       [9.04817760e-01, 2.44654968e+02, 1.99092331e+02, 1.84848976e+01],\n",
       "       [1.93359386e-02, 1.89476837e+02, 2.04654953e+02, 5.40364599e+00],\n",
       "       [5.90234399e-01, 3.65342987e+02, 3.23602867e+01, 9.34232605e+02],\n",
       "       [2.18554705e-01, 4.04244804e+00, 1.32746628e+02, 1.79530472e+02],\n",
       "       [4.41406257e-02, 6.49754211e+02, 1.45669144e+02, 1.36484998e+03],\n",
       "       [2.72135437e-02, 9.22966156e+01, 1.46372404e+01, 4.43587006e+02],\n",
       "       [2.44140640e-01, 6.29882851e+01, 2.06828262e+02, 1.28166676e+01],\n",
       "       [6.08203173e-01, 1.45408859e+01, 2.08542068e+02, 6.06312523e+01],\n",
       "       [1.89726567e+00, 7.56073608e+02, 1.99705551e+02, 1.51611157e+03],\n",
       "       [3.27083349e-01, 1.47218765e+02, 2.06691162e+02, 8.62500072e-01],\n",
       "       [1.35787773e+00, 1.55520844e+00, 1.93048447e+02, 1.22996101e+02],\n",
       "       [6.41556025e+00, 6.67106781e+01, 3.95869827e+01, 3.75665131e+02],\n",
       "       [1.75429702e+00, 1.63435684e+02, 1.72994804e+00, 5.86058105e+02],\n",
       "       [9.73372459e-01, 1.15390635e+00, 1.68243240e+02, 1.43468750e+02],\n",
       "       [2.39817715e+00, 3.00669037e+02, 1.62921886e+01, 8.27880798e+02],\n",
       "       [5.51692724e-01, 5.34868530e+02, 9.40157623e+01, 1.19576794e+03],\n",
       "       [3.97135457e-03, 3.93326843e+02, 4.13311234e+01, 9.78744324e+02],\n",
       "       [1.68574226e+00, 5.96925293e+02, 1.22922401e+02, 1.28670447e+03],\n",
       "       [2.05403662e+00, 7.55223083e+02, 1.99306519e+02, 1.51488098e+03],\n",
       "       [3.27994823e-01, 7.56296631e+02, 1.99062515e+02, 1.51694592e+03],\n",
       "       [6.54557347e-01, 5.09944702e+02, 8.37666702e+01, 1.15830957e+03],\n",
       "       [1.39303398e+00, 3.38784790e+02, 2.51804695e+01, 8.91024658e+02],\n",
       "       [2.09238291e+00, 2.29560303e+02, 4.07200527e+00, 7.06567749e+02],\n",
       "       [1.23457038e+00, 6.05202393e+02, 1.26140892e+02, 1.29921436e+03],\n",
       "       [1.23697927e-03, 2.66352875e+02, 2.03753006e+02, 2.36770840e+01],\n",
       "       [3.44335943e-01, 5.43152527e+02, 9.74786530e+01, 1.20820691e+03],\n",
       "       [3.49023461e-01, 1.78203130e+00, 1.49478531e+02, 1.60751831e+02],\n",
       "       [4.03906286e-01, 9.56489639e+01, 2.00400986e+02, 3.40989590e+00],\n",
       "       [4.69205767e-01, 1.71992188e+01, 2.07935425e+02, 5.49005241e+01],\n",
       "       [6.06250048e-01, 5.69088554e+00, 2.08540894e+02, 8.52291718e+01],\n",
       "       [7.92447984e-01, 1.37187505e+00, 1.97868103e+02, 1.18597145e+02],\n",
       "       [8.72395840e-03, 2.72347137e+02, 2.03801834e+02, 2.54864597e+01],\n",
       "       [3.14518243e-01, 6.40759949e+02, 1.41788361e+02, 1.35160291e+03],\n",
       "       [9.11458395e-04, 1.85901051e+01, 8.32845078e+01, 2.48540634e+02],\n",
       "       [2.84505226e-02, 7.87942734e+01, 2.07609386e+01, 4.13351074e+02],\n",
       "       [4.81770840e-03, 7.67316589e+02, 2.03751572e+02, 1.53308752e+03],\n",
       "       [6.75130263e-02, 4.20125008e+01, 2.01371429e+02, 2.51125011e+01],\n",
       "       [1.94602871e+00, 2.81903015e+02, 1.22648439e+01, 7.96557983e+02],\n",
       "       [1.63476574e+00, 1.97204300e+02, 1.24622405e+00, 6.49079712e+02],\n",
       "       [5.01041710e-01, 1.31158203e+02, 4.94869804e+00, 5.24105774e+02],\n",
       "       [1.04687504e-01, 7.64282593e+02, 2.02396957e+02, 1.52871252e+03]],\n",
       "      dtype=float32)"
      ]
     },
     "execution_count": 208,
     "metadata": {},
     "output_type": "execute_result"
    }
   ],
   "source": [
    "X_train2"
   ]
  },
  {
   "cell_type": "code",
   "execution_count": 209,
   "metadata": {},
   "outputs": [
    {
     "name": "stdout",
     "output_type": "stream",
     "text": [
      "\r",
      "80/80 [==============================] - 0s 47us/step\n"
     ]
    }
   ],
   "source": [
    "X_test2 = shp_clf.transform(X_test)"
   ]
  },
  {
   "cell_type": "code",
   "execution_count": 210,
   "metadata": {},
   "outputs": [],
   "source": [
    "from sklearn.neighbors import KNeighborsClassifier"
   ]
  },
  {
   "cell_type": "code",
   "execution_count": 213,
   "metadata": {},
   "outputs": [
    {
     "data": {
      "text/plain": [
       "KNeighborsClassifier(algorithm='auto', leaf_size=30, metric='minkowski',\n",
       "                     metric_params=None, n_jobs=None, n_neighbors=10, p=2,\n",
       "                     weights='uniform')"
      ]
     },
     "execution_count": 213,
     "metadata": {},
     "output_type": "execute_result"
    }
   ],
   "source": [
    "clf = KNeighborsClassifier(n_neighbors=10, weights='uniform')\n",
    "clf.fit(X_train2, y_train)"
   ]
  },
  {
   "cell_type": "code",
   "execution_count": 214,
   "metadata": {},
   "outputs": [
    {
     "name": "stdout",
     "output_type": "stream",
     "text": [
      "Accuracy 0.975\n",
      "F1-score [0.95652174 0.97435897 0.97297297 1.        ]\n",
      "              precision    recall  f1-score   support\n",
      "\n",
      "           0       0.92      1.00      0.96        22\n",
      "           1       1.00      0.95      0.97        20\n",
      "           2       1.00      0.95      0.97        19\n",
      "           3       1.00      1.00      1.00        19\n",
      "\n",
      "    accuracy                           0.97        80\n",
      "   macro avg       0.98      0.97      0.98        80\n",
      "weighted avg       0.98      0.97      0.98        80\n",
      "\n"
     ]
    }
   ],
   "source": [
    "y_pred = clf.predict(X_test2)\n",
    "\n",
    "print('Accuracy %s' % accuracy_score(y_test, y_pred))\n",
    "print('F1-score %s' % f1_score(y_test, y_pred, average=None))\n",
    "print(classification_report(y_test, y_pred))"
   ]
  },
  {
   "cell_type": "code",
   "execution_count": 215,
   "metadata": {},
   "outputs": [],
   "source": [
    "from sklearn.tree import DecisionTreeClassifier"
   ]
  },
  {
   "cell_type": "code",
   "execution_count": 216,
   "metadata": {},
   "outputs": [
    {
     "name": "stdout",
     "output_type": "stream",
     "text": [
      "Accuracy 0.9875\n",
      "F1-score [0.97777778 0.97435897 1.         1.        ]\n",
      "              precision    recall  f1-score   support\n",
      "\n",
      "           0       0.96      1.00      0.98        22\n",
      "           1       1.00      0.95      0.97        20\n",
      "           2       1.00      1.00      1.00        19\n",
      "           3       1.00      1.00      1.00        19\n",
      "\n",
      "    accuracy                           0.99        80\n",
      "   macro avg       0.99      0.99      0.99        80\n",
      "weighted avg       0.99      0.99      0.99        80\n",
      "\n"
     ]
    }
   ],
   "source": [
    "clf = DecisionTreeClassifier(max_depth=8, random_state=42)\n",
    "clf.fit(X_train2, y_train)\n",
    "\n",
    "y_pred = clf.predict(X_test2)\n",
    "\n",
    "print('Accuracy %s' % accuracy_score(y_test, y_pred))\n",
    "print('F1-score %s' % f1_score(y_test, y_pred, average=None))\n",
    "print(classification_report(y_test, y_pred))"
   ]
  },
  {
   "cell_type": "markdown",
   "metadata": {},
   "source": [
    "## Feature-based Classifier"
   ]
  },
  {
   "cell_type": "code",
   "execution_count": 217,
   "metadata": {},
   "outputs": [],
   "source": [
    "import scipy.stats as stats"
   ]
  },
  {
   "cell_type": "code",
   "execution_count": 218,
   "metadata": {},
   "outputs": [],
   "source": [
    "def calculate_features(values):\n",
    "    features = {\n",
    "        'avg': np.mean(values),\n",
    "        'std': np.std(values),\n",
    "        'var': np.var(values),\n",
    "        'med': np.median(values),\n",
    "        '10p': np.percentile(values, 10),\n",
    "        '25p': np.percentile(values, 25),\n",
    "        '50p': np.percentile(values, 50),\n",
    "        '75p': np.percentile(values, 75),\n",
    "        '90p': np.percentile(values, 90),\n",
    "        'iqr': np.percentile(values, 75) - np.percentile(values, 25),\n",
    "        'cov': 1.0 * np.mean(values) / np.std(values),\n",
    "        'skw': stats.skew(values),\n",
    "        'kur': stats.kurtosis(values)\n",
    "    }\n",
    "\n",
    "    return features"
   ]
  },
  {
   "cell_type": "code",
   "execution_count": 219,
   "metadata": {},
   "outputs": [],
   "source": [
    "X_train3 = np.array([list(calculate_features(x).values()) for x in X_train])"
   ]
  },
  {
   "cell_type": "code",
   "execution_count": 220,
   "metadata": {},
   "outputs": [
    {
     "data": {
      "text/plain": [
       "(184, 13)"
      ]
     },
     "execution_count": 220,
     "metadata": {},
     "output_type": "execute_result"
    }
   ],
   "source": [
    "X_train3.shape"
   ]
  },
  {
   "cell_type": "code",
   "execution_count": 221,
   "metadata": {},
   "outputs": [],
   "source": [
    "X_test3 = np.array([list(calculate_features(x).values()) for x in X_test])"
   ]
  },
  {
   "cell_type": "code",
   "execution_count": 222,
   "metadata": {},
   "outputs": [
    {
     "name": "stdout",
     "output_type": "stream",
     "text": [
      "Accuracy 0.975\n",
      "F1-score [0.95652174 0.97435897 0.97297297 1.        ]\n",
      "              precision    recall  f1-score   support\n",
      "\n",
      "           0       0.92      1.00      0.96        22\n",
      "           1       1.00      0.95      0.97        20\n",
      "           2       1.00      0.95      0.97        19\n",
      "           3       1.00      1.00      1.00        19\n",
      "\n",
      "    accuracy                           0.97        80\n",
      "   macro avg       0.98      0.97      0.98        80\n",
      "weighted avg       0.98      0.97      0.98        80\n",
      "\n"
     ]
    }
   ],
   "source": [
    "clf = DecisionTreeClassifier(max_depth=8, random_state=42)\n",
    "clf.fit(X_train3, y_train)\n",
    "\n",
    "y_pred = clf.predict(X_test3)\n",
    "\n",
    "print('Accuracy %s' % accuracy_score(y_test, y_pred))\n",
    "print('F1-score %s' % f1_score(y_test, y_pred, average=None))\n",
    "print(classification_report(y_test, y_pred))"
   ]
  },
  {
   "cell_type": "markdown",
   "metadata": {},
   "source": [
    "## Time Series Classifier"
   ]
  },
  {
   "cell_type": "code",
   "execution_count": 224,
   "metadata": {},
   "outputs": [
    {
     "name": "stdout",
     "output_type": "stream",
     "text": [
      "Accuracy 0.9875\n",
      "F1-score [1.         0.97560976 1.         0.97297297]\n",
      "              precision    recall  f1-score   support\n",
      "\n",
      "           0       1.00      1.00      1.00        22\n",
      "           1       0.95      1.00      0.98        20\n",
      "           2       1.00      1.00      1.00        19\n",
      "           3       1.00      0.95      0.97        19\n",
      "\n",
      "    accuracy                           0.99        80\n",
      "   macro avg       0.99      0.99      0.99        80\n",
      "weighted avg       0.99      0.99      0.99        80\n",
      "\n"
     ]
    }
   ],
   "source": [
    "clf = KNeighborsClassifier(n_neighbors=10, weights='uniform')\n",
    "clf.fit(X_train, y_train)\n",
    "\n",
    "y_pred = clf.predict(X_test)\n",
    "\n",
    "print('Accuracy %s' % accuracy_score(y_test, y_pred))\n",
    "print('F1-score %s' % f1_score(y_test, y_pred, average=None))\n",
    "print(classification_report(y_test, y_pred))"
   ]
  },
  {
   "cell_type": "code",
   "execution_count": 225,
   "metadata": {},
   "outputs": [
    {
     "name": "stdout",
     "output_type": "stream",
     "text": [
      "Accuracy 0.9875\n",
      "F1-score [0.97777778 1.         0.97297297 1.        ]\n",
      "              precision    recall  f1-score   support\n",
      "\n",
      "           0       0.96      1.00      0.98        22\n",
      "           1       1.00      1.00      1.00        20\n",
      "           2       1.00      0.95      0.97        19\n",
      "           3       1.00      1.00      1.00        19\n",
      "\n",
      "    accuracy                           0.99        80\n",
      "   macro avg       0.99      0.99      0.99        80\n",
      "weighted avg       0.99      0.99      0.99        80\n",
      "\n"
     ]
    }
   ],
   "source": [
    "clf = DecisionTreeClassifier(max_depth=8, random_state=42)\n",
    "clf.fit(X_train, y_train)\n",
    "\n",
    "y_pred = clf.predict(X_test)\n",
    "\n",
    "print('Accuracy %s' % accuracy_score(y_test, y_pred))\n",
    "print('F1-score %s' % f1_score(y_test, y_pred, average=None))\n",
    "print(classification_report(y_test, y_pred))"
   ]
  },
  {
   "cell_type": "markdown",
   "metadata": {},
   "source": [
    "## CNN"
   ]
  },
  {
   "cell_type": "code",
   "execution_count": 226,
   "metadata": {},
   "outputs": [],
   "source": [
    "from keras.models import Sequential\n",
    "from keras.layers import Dense, Dropout, GlobalAveragePooling1D\n",
    "from keras.layers import Conv1D, Activation, Conv1D, BatchNormalization"
   ]
  },
  {
   "cell_type": "code",
   "execution_count": 227,
   "metadata": {},
   "outputs": [],
   "source": [
    "def build_simple_cnn(n_timesteps, n_outputs):\n",
    "    model = Sequential()\n",
    "    \n",
    "    model.add(Conv1D(filters=16, kernel_size=8, activation='relu', input_shape=(n_timesteps, 1)))\n",
    "    model.add(BatchNormalization())\n",
    "    model.add(Activation('relu'))\n",
    "    \n",
    "    model.add(Dropout(0.3))\n",
    "    \n",
    "    model.add(Conv1D(filters=32, kernel_size=5, activation='relu'))\n",
    "    model.add(BatchNormalization())\n",
    "    model.add(Activation('relu'))\n",
    "    \n",
    "    model.add(Dropout(0.3))\n",
    "    \n",
    "    model.add(Conv1D(filters=64, kernel_size=3, activation='relu'))\n",
    "    model.add(BatchNormalization())\n",
    "    model.add(Activation('relu'))\n",
    "    \n",
    "    model.add(Dropout(0.3))\n",
    "    \n",
    "    model.add(GlobalAveragePooling1D())\n",
    "    \n",
    "    model.add(Dense(n_outputs, activation='sigmoid'))\n",
    "    model.compile(loss='sparse_categorical_crossentropy', optimizer='adam', metrics=['accuracy'])\n",
    "    \n",
    "    return model"
   ]
  },
  {
   "cell_type": "code",
   "execution_count": 243,
   "metadata": {},
   "outputs": [
    {
     "name": "stdout",
     "output_type": "stream",
     "text": [
      "TIMESTEPS:  60\n",
      "N. LABELS:  4\n"
     ]
    }
   ],
   "source": [
    "X_train_cnn = X_train.reshape((X_train.shape[0], X_train.shape[1], 1))\n",
    "X_test_cnn = X_test.reshape((X_test.shape[0], X_test.shape[1], 1))\n",
    "\n",
    "X_train_cnn, X_val_cnn, y_train_cnn, y_val_cnn = train_test_split(X_train_cnn, y_train, test_size=0.2, stratify=y_train)\n",
    "\n",
    "n_timesteps, n_outputs, n_features = X_train_cnn.shape[1], len(np.unique(y_train_cnn)), 1 \n",
    "print(\"TIMESTEPS: \", n_timesteps)\n",
    "print(\"N. LABELS: \", n_outputs)"
   ]
  },
  {
   "cell_type": "code",
   "execution_count": 244,
   "metadata": {},
   "outputs": [],
   "source": [
    "cnn = build_simple_cnn(n_timesteps, n_outputs)"
   ]
  },
  {
   "cell_type": "code",
   "execution_count": 245,
   "metadata": {},
   "outputs": [
    {
     "name": "stdout",
     "output_type": "stream",
     "text": [
      "Model: \"sequential_8\"\n",
      "_________________________________________________________________\n",
      "Layer (type)                 Output Shape              Param #   \n",
      "=================================================================\n",
      "conv1d_13 (Conv1D)           (None, 53, 16)            144       \n",
      "_________________________________________________________________\n",
      "batch_normalization_13 (Batc (None, 53, 16)            64        \n",
      "_________________________________________________________________\n",
      "activation_13 (Activation)   (None, 53, 16)            0         \n",
      "_________________________________________________________________\n",
      "dropout_19 (Dropout)         (None, 53, 16)            0         \n",
      "_________________________________________________________________\n",
      "conv1d_14 (Conv1D)           (None, 49, 32)            2592      \n",
      "_________________________________________________________________\n",
      "batch_normalization_14 (Batc (None, 49, 32)            128       \n",
      "_________________________________________________________________\n",
      "activation_14 (Activation)   (None, 49, 32)            0         \n",
      "_________________________________________________________________\n",
      "dropout_20 (Dropout)         (None, 49, 32)            0         \n",
      "_________________________________________________________________\n",
      "conv1d_15 (Conv1D)           (None, 47, 64)            6208      \n",
      "_________________________________________________________________\n",
      "batch_normalization_15 (Batc (None, 47, 64)            256       \n",
      "_________________________________________________________________\n",
      "activation_15 (Activation)   (None, 47, 64)            0         \n",
      "_________________________________________________________________\n",
      "dropout_21 (Dropout)         (None, 47, 64)            0         \n",
      "_________________________________________________________________\n",
      "global_average_pooling1d_5 ( (None, 64)                0         \n",
      "_________________________________________________________________\n",
      "dense_11 (Dense)             (None, 4)                 260       \n",
      "=================================================================\n",
      "Total params: 9,652\n",
      "Trainable params: 9,428\n",
      "Non-trainable params: 224\n",
      "_________________________________________________________________\n"
     ]
    }
   ],
   "source": [
    "cnn.summary()"
   ]
  },
  {
   "cell_type": "code",
   "execution_count": 231,
   "metadata": {},
   "outputs": [],
   "source": [
    "from keras.callbacks import ReduceLROnPlateau, ModelCheckpoint"
   ]
  },
  {
   "cell_type": "code",
   "execution_count": 232,
   "metadata": {},
   "outputs": [],
   "source": [
    "rlr = ReduceLROnPlateau(monitor='loss', factor=0.5, patience=50, min_lr=0.0001)\n",
    "mc = ModelCheckpoint('best_model_cnn.h5', monitor='val_loss', save_best_only=True)\n",
    "\n",
    "callbacks = [rlr, mc]\n",
    "\n",
    "batch_size = 16\n",
    "mini_batch_size = int(min(X_train_cnn.shape[0]/10, batch_size))"
   ]
  },
  {
   "cell_type": "code",
   "execution_count": 246,
   "metadata": {},
   "outputs": [
    {
     "name": "stdout",
     "output_type": "stream",
     "text": [
      "Train on 147 samples, validate on 37 samples\n",
      "Epoch 1/10\n",
      "147/147 [==============================] - 1s 10ms/step - loss: 1.3749 - accuracy: 0.2517 - val_loss: 1.7380 - val_accuracy: 0.2703\n",
      "Epoch 2/10\n",
      "147/147 [==============================] - 0s 884us/step - loss: 1.3311 - accuracy: 0.3878 - val_loss: 2.0488 - val_accuracy: 0.2432\n",
      "Epoch 3/10\n",
      "147/147 [==============================] - 0s 924us/step - loss: 1.3279 - accuracy: 0.2925 - val_loss: 2.2300 - val_accuracy: 0.2432\n",
      "Epoch 4/10\n",
      "147/147 [==============================] - 0s 965us/step - loss: 1.3394 - accuracy: 0.3197 - val_loss: 1.9361 - val_accuracy: 0.2432\n",
      "Epoch 5/10\n",
      "147/147 [==============================] - 0s 1ms/step - loss: 1.3020 - accuracy: 0.3265 - val_loss: 1.7988 - val_accuracy: 0.2703\n",
      "Epoch 6/10\n",
      "147/147 [==============================] - 0s 890us/step - loss: 1.2825 - accuracy: 0.4082 - val_loss: 1.6140 - val_accuracy: 0.2703\n",
      "Epoch 7/10\n",
      "147/147 [==============================] - 0s 816us/step - loss: 1.2756 - accuracy: 0.3673 - val_loss: 1.5662 - val_accuracy: 0.2703\n",
      "Epoch 8/10\n",
      "147/147 [==============================] - 0s 844us/step - loss: 1.3181 - accuracy: 0.3333 - val_loss: 1.4071 - val_accuracy: 0.2703\n",
      "Epoch 9/10\n",
      "147/147 [==============================] - 0s 811us/step - loss: 1.2699 - accuracy: 0.3810 - val_loss: 1.3818 - val_accuracy: 0.2703\n",
      "Epoch 10/10\n",
      "147/147 [==============================] - 0s 840us/step - loss: 1.2704 - accuracy: 0.4626 - val_loss: 1.4258 - val_accuracy: 0.2703\n"
     ]
    }
   ],
   "source": [
    "history_cnn = cnn.fit(X_train_cnn, y_train_cnn, epochs=10, batch_size=mini_batch_size, callbacks=callbacks,\n",
    "                      validation_data=(X_val_cnn, y_val_cnn)).history"
   ]
  },
  {
   "cell_type": "code",
   "execution_count": 247,
   "metadata": {},
   "outputs": [
    {
     "name": "stdout",
     "output_type": "stream",
     "text": [
      "Accuracy 0.275\n",
      "F1-score [0.43137255 0.         0.         0.        ]\n",
      "              precision    recall  f1-score   support\n",
      "\n",
      "           0       0.28      1.00      0.43        22\n",
      "           1       0.00      0.00      0.00        20\n",
      "           2       0.00      0.00      0.00        19\n",
      "           3       0.00      0.00      0.00        19\n",
      "\n",
      "    accuracy                           0.28        80\n",
      "   macro avg       0.07      0.25      0.11        80\n",
      "weighted avg       0.08      0.28      0.12        80\n",
      "\n"
     ]
    },
    {
     "name": "stderr",
     "output_type": "stream",
     "text": [
      "/Users/marco/opt/anaconda3/lib/python3.7/site-packages/sklearn/metrics/_classification.py:1272: UndefinedMetricWarning: Precision and F-score are ill-defined and being set to 0.0 in labels with no predicted samples. Use `zero_division` parameter to control this behavior.\n",
      "  _warn_prf(average, modifier, msg_start, len(result))\n"
     ]
    }
   ],
   "source": [
    "y_pred = np.argmax(cnn.predict(X_test_cnn), axis=1)\n",
    "\n",
    "print('Accuracy %s' % accuracy_score(y_test, y_pred))\n",
    "print('F1-score %s' % f1_score(y_test, y_pred, average=None))\n",
    "print(classification_report(y_test, y_pred))"
   ]
  },
  {
   "cell_type": "code",
   "execution_count": 248,
   "metadata": {},
   "outputs": [
    {
     "name": "stdout",
     "output_type": "stream",
     "text": [
      "80/80 [==============================] - 0s 340us/step\n"
     ]
    },
    {
     "data": {
      "text/plain": [
       "[1.4669602394104004, 0.2750000059604645]"
      ]
     },
     "execution_count": 248,
     "metadata": {},
     "output_type": "execute_result"
    }
   ],
   "source": [
    "cnn.evaluate(X_test_cnn, y_test)"
   ]
  },
  {
   "cell_type": "markdown",
   "metadata": {},
   "source": [
    "## LSTM Classifier"
   ]
  },
  {
   "cell_type": "code",
   "execution_count": 236,
   "metadata": {},
   "outputs": [],
   "source": [
    "from keras.layers import LSTM"
   ]
  },
  {
   "cell_type": "code",
   "execution_count": 237,
   "metadata": {},
   "outputs": [],
   "source": [
    "def build_lstm(n_timesteps, n_outputs):\n",
    "    model = Sequential()\n",
    "    model.add(LSTM(256, input_shape=(n_timesteps, 1)))\n",
    "    model.add(Dropout(0.5))\n",
    "    model.add(Dense(64, activation='relu'))\n",
    "    model.add(Dropout(0.2))\n",
    "    model.add(Dense(n_outputs, activation='sigmoid'))\n",
    "    \n",
    "    model.compile(loss='sparse_categorical_crossentropy', optimizer='adam', metrics=['accuracy'])\n",
    "    \n",
    "    return model"
   ]
  },
  {
   "cell_type": "code",
   "execution_count": 238,
   "metadata": {},
   "outputs": [],
   "source": [
    "lstm = build_lstm(n_timesteps, n_outputs)"
   ]
  },
  {
   "cell_type": "code",
   "execution_count": 239,
   "metadata": {},
   "outputs": [
    {
     "name": "stdout",
     "output_type": "stream",
     "text": [
      "Model: \"sequential_7\"\n",
      "_________________________________________________________________\n",
      "Layer (type)                 Output Shape              Param #   \n",
      "=================================================================\n",
      "lstm_3 (LSTM)                (None, 256)               264192    \n",
      "_________________________________________________________________\n",
      "dropout_17 (Dropout)         (None, 256)               0         \n",
      "_________________________________________________________________\n",
      "dense_9 (Dense)              (None, 64)                16448     \n",
      "_________________________________________________________________\n",
      "dropout_18 (Dropout)         (None, 64)                0         \n",
      "_________________________________________________________________\n",
      "dense_10 (Dense)             (None, 4)                 260       \n",
      "=================================================================\n",
      "Total params: 280,900\n",
      "Trainable params: 280,900\n",
      "Non-trainable params: 0\n",
      "_________________________________________________________________\n"
     ]
    }
   ],
   "source": [
    "lstm.summary()"
   ]
  },
  {
   "cell_type": "code",
   "execution_count": 240,
   "metadata": {},
   "outputs": [
    {
     "name": "stdout",
     "output_type": "stream",
     "text": [
      "Train on 128 samples, validate on 56 samples\n",
      "Epoch 1/10\n",
      "128/128 [==============================] - 0s 859us/step - loss: 1.2794 - accuracy: 0.3750 - val_loss: 1.6474 - val_accuracy: 0.2679\n",
      "Epoch 2/10\n",
      "128/128 [==============================] - 0s 855us/step - loss: 1.2869 - accuracy: 0.3672 - val_loss: 1.5676 - val_accuracy: 0.2679\n",
      "Epoch 3/10\n",
      "128/128 [==============================] - 0s 845us/step - loss: 1.2449 - accuracy: 0.4297 - val_loss: 1.5482 - val_accuracy: 0.2679\n",
      "Epoch 4/10\n",
      "128/128 [==============================] - 0s 863us/step - loss: 1.2526 - accuracy: 0.4453 - val_loss: 1.5876 - val_accuracy: 0.2679\n",
      "Epoch 5/10\n",
      "128/128 [==============================] - 0s 885us/step - loss: 1.2396 - accuracy: 0.4766 - val_loss: 1.8833 - val_accuracy: 0.2679\n",
      "Epoch 6/10\n",
      "128/128 [==============================] - 0s 890us/step - loss: 1.2540 - accuracy: 0.5234 - val_loss: 1.8846 - val_accuracy: 0.2679\n",
      "Epoch 7/10\n",
      "128/128 [==============================] - 0s 897us/step - loss: 1.2341 - accuracy: 0.4531 - val_loss: 1.3681 - val_accuracy: 0.2679\n",
      "Epoch 8/10\n",
      "128/128 [==============================] - 0s 813us/step - loss: 1.2448 - accuracy: 0.5156 - val_loss: 1.4482 - val_accuracy: 0.2679\n",
      "Epoch 9/10\n",
      "128/128 [==============================] - 0s 874us/step - loss: 1.1905 - accuracy: 0.5781 - val_loss: 1.4395 - val_accuracy: 0.2679\n",
      "Epoch 10/10\n",
      "128/128 [==============================] - 0s 885us/step - loss: 1.2068 - accuracy: 0.5234 - val_loss: 1.4500 - val_accuracy: 0.2679\n"
     ]
    }
   ],
   "source": [
    "history_lstm = cnn.fit(X_train_cnn, y_train_cnn, epochs=10, batch_size=mini_batch_size, callbacks=callbacks,\n",
    "                       validation_data=(X_val_cnn, y_val_cnn)).history"
   ]
  },
  {
   "cell_type": "code",
   "execution_count": 241,
   "metadata": {},
   "outputs": [
    {
     "name": "stdout",
     "output_type": "stream",
     "text": [
      "Accuracy 0.275\n",
      "F1-score [0.43137255 0.         0.         0.        ]\n",
      "              precision    recall  f1-score   support\n",
      "\n",
      "           0       0.28      1.00      0.43        22\n",
      "           1       0.00      0.00      0.00        20\n",
      "           2       0.00      0.00      0.00        19\n",
      "           3       0.00      0.00      0.00        19\n",
      "\n",
      "    accuracy                           0.28        80\n",
      "   macro avg       0.07      0.25      0.11        80\n",
      "weighted avg       0.08      0.28      0.12        80\n",
      "\n"
     ]
    }
   ],
   "source": [
    "y_pred = np.argmax(lstm.predict(X_test_cnn), axis=1)\n",
    "\n",
    "print('Accuracy %s' % accuracy_score(y_test, y_pred))\n",
    "print('F1-score %s' % f1_score(y_test, y_pred, average=None))\n",
    "print(classification_report(y_test, y_pred))"
   ]
  },
  {
   "cell_type": "code",
   "execution_count": 242,
   "metadata": {},
   "outputs": [
    {
     "name": "stdout",
     "output_type": "stream",
     "text": [
      "80/80 [==============================] - 1s 9ms/step\n"
     ]
    },
    {
     "data": {
      "text/plain": [
       "[1.3993369579315185, 0.2750000059604645]"
      ]
     },
     "execution_count": 242,
     "metadata": {},
     "output_type": "execute_result"
    }
   ],
   "source": [
    "lstm.evaluate(X_test_cnn, y_test)"
   ]
  },
  {
   "cell_type": "code",
   "execution_count": null,
   "metadata": {},
   "outputs": [],
   "source": []
  }
 ],
 "metadata": {
  "kernelspec": {
   "display_name": "Python 3",
   "language": "python",
   "name": "python3"
  },
  "language_info": {
   "codemirror_mode": {
    "name": "ipython",
    "version": 3
   },
   "file_extension": ".py",
   "mimetype": "text/x-python",
   "name": "python",
   "nbconvert_exporter": "python",
   "pygments_lexer": "ipython3",
   "version": "3.7.4"
  }
 },
 "nbformat": 4,
 "nbformat_minor": 2
}
