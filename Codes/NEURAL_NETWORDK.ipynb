{
 "cells": [
  {
   "cell_type": "code",
   "execution_count": 1,
   "metadata": {},
   "outputs": [],
   "source": [
    "%matplotlib inline\n",
    "\n",
    "import numpy as np\n",
    "import pandas as pd\n",
    "import matplotlib.pyplot as plt\n",
    "\n",
    "from collections import defaultdict"
   ]
  },
  {
   "cell_type": "code",
   "execution_count": 2,
   "metadata": {},
   "outputs": [],
   "source": [
    "df= pd.read_csv('dataset_train+test2.csv', sep=\",\")"
   ]
  },
  {
   "cell_type": "code",
   "execution_count": 3,
   "metadata": {},
   "outputs": [
    {
     "data": {
      "text/html": [
       "<div>\n",
       "<style scoped>\n",
       "    .dataframe tbody tr th:only-of-type {\n",
       "        vertical-align: middle;\n",
       "    }\n",
       "\n",
       "    .dataframe tbody tr th {\n",
       "        vertical-align: top;\n",
       "    }\n",
       "\n",
       "    .dataframe thead th {\n",
       "        text-align: right;\n",
       "    }\n",
       "</style>\n",
       "<table border=\"1\" class=\"dataframe\">\n",
       "  <thead>\n",
       "    <tr style=\"text-align: right;\">\n",
       "      <th></th>\n",
       "      <th>date</th>\n",
       "      <th>Temperature</th>\n",
       "      <th>Humidity</th>\n",
       "      <th>Light</th>\n",
       "      <th>CO2</th>\n",
       "      <th>Occupancy</th>\n",
       "      <th>Ora</th>\n",
       "      <th>day</th>\n",
       "      <th>hour</th>\n",
       "      <th>absH</th>\n",
       "      <th>weekend</th>\n",
       "      <th>out_of_turn</th>\n",
       "    </tr>\n",
       "  </thead>\n",
       "  <tbody>\n",
       "    <tr>\n",
       "      <th>0</th>\n",
       "      <td>2015-02-04 17:51:00</td>\n",
       "      <td>23.18</td>\n",
       "      <td>27.2720</td>\n",
       "      <td>426.0</td>\n",
       "      <td>721.25</td>\n",
       "      <td>1</td>\n",
       "      <td>2</td>\n",
       "      <td>4</td>\n",
       "      <td>17:51:00</td>\n",
       "      <td>17</td>\n",
       "      <td>0.0</td>\n",
       "      <td>1.0</td>\n",
       "    </tr>\n",
       "    <tr>\n",
       "      <th>1</th>\n",
       "      <td>2015-02-04 17:51:59</td>\n",
       "      <td>23.15</td>\n",
       "      <td>27.2675</td>\n",
       "      <td>429.5</td>\n",
       "      <td>714.00</td>\n",
       "      <td>1</td>\n",
       "      <td>2</td>\n",
       "      <td>4</td>\n",
       "      <td>17:51:59</td>\n",
       "      <td>17</td>\n",
       "      <td>0.0</td>\n",
       "      <td>1.0</td>\n",
       "    </tr>\n",
       "    <tr>\n",
       "      <th>2</th>\n",
       "      <td>2015-02-04 17:53:00</td>\n",
       "      <td>23.15</td>\n",
       "      <td>27.2450</td>\n",
       "      <td>426.0</td>\n",
       "      <td>713.50</td>\n",
       "      <td>1</td>\n",
       "      <td>2</td>\n",
       "      <td>4</td>\n",
       "      <td>17:53:00</td>\n",
       "      <td>17</td>\n",
       "      <td>0.0</td>\n",
       "      <td>1.0</td>\n",
       "    </tr>\n",
       "    <tr>\n",
       "      <th>3</th>\n",
       "      <td>2015-02-04 17:54:00</td>\n",
       "      <td>23.15</td>\n",
       "      <td>27.2000</td>\n",
       "      <td>426.0</td>\n",
       "      <td>708.25</td>\n",
       "      <td>1</td>\n",
       "      <td>2</td>\n",
       "      <td>4</td>\n",
       "      <td>17:54:00</td>\n",
       "      <td>17</td>\n",
       "      <td>0.0</td>\n",
       "      <td>1.0</td>\n",
       "    </tr>\n",
       "    <tr>\n",
       "      <th>4</th>\n",
       "      <td>2015-02-04 17:55:00</td>\n",
       "      <td>23.10</td>\n",
       "      <td>27.2000</td>\n",
       "      <td>426.0</td>\n",
       "      <td>704.50</td>\n",
       "      <td>1</td>\n",
       "      <td>2</td>\n",
       "      <td>4</td>\n",
       "      <td>17:55:00</td>\n",
       "      <td>17</td>\n",
       "      <td>0.0</td>\n",
       "      <td>1.0</td>\n",
       "    </tr>\n",
       "  </tbody>\n",
       "</table>\n",
       "</div>"
      ],
      "text/plain": [
       "                  date  Temperature  Humidity  Light     CO2  Occupancy  Ora  \\\n",
       "0  2015-02-04 17:51:00        23.18   27.2720  426.0  721.25          1    2   \n",
       "1  2015-02-04 17:51:59        23.15   27.2675  429.5  714.00          1    2   \n",
       "2  2015-02-04 17:53:00        23.15   27.2450  426.0  713.50          1    2   \n",
       "3  2015-02-04 17:54:00        23.15   27.2000  426.0  708.25          1    2   \n",
       "4  2015-02-04 17:55:00        23.10   27.2000  426.0  704.50          1    2   \n",
       "\n",
       "   day      hour  absH  weekend  out_of_turn  \n",
       "0    4  17:51:00    17      0.0          1.0  \n",
       "1    4  17:51:59    17      0.0          1.0  \n",
       "2    4  17:53:00    17      0.0          1.0  \n",
       "3    4  17:54:00    17      0.0          1.0  \n",
       "4    4  17:55:00    17      0.0          1.0  "
      ]
     },
     "execution_count": 3,
     "metadata": {},
     "output_type": "execute_result"
    }
   ],
   "source": [
    "df.head()"
   ]
  },
  {
   "cell_type": "code",
   "execution_count": 4,
   "metadata": {},
   "outputs": [
    {
     "data": {
      "text/plain": [
       "(17895, 12)"
      ]
     },
     "execution_count": 4,
     "metadata": {},
     "output_type": "execute_result"
    }
   ],
   "source": [
    "df.shape"
   ]
  },
  {
   "cell_type": "code",
   "execution_count": 5,
   "metadata": {},
   "outputs": [],
   "source": [
    "from sklearn.model_selection import train_test_split, cross_val_score \n",
    "\n",
    "from sklearn.metrics import accuracy_score, f1_score, classification_report\n",
    "from sklearn.metrics import roc_curve, auc, roc_auc_score"
   ]
  },
  {
   "cell_type": "code",
   "execution_count": 6,
   "metadata": {},
   "outputs": [],
   "source": [
    "class_name= \"Occupancy\""
   ]
  },
  {
   "cell_type": "code",
   "execution_count": 7,
   "metadata": {},
   "outputs": [],
   "source": [
    "df = df[['Temperature', 'Light', 'CO2', 'Occupancy', ]]"
   ]
  },
  {
   "cell_type": "code",
   "execution_count": 8,
   "metadata": {},
   "outputs": [],
   "source": [
    "attributes = [col for col in df.columns if col != class_name]\n",
    "X = df[attributes].values\n",
    "y = df[class_name]\n",
    "\n",
    "X_train, X_test, y_train, y_test = train_test_split(X, y, test_size=0.3, random_state=100, stratify=y)"
   ]
  },
  {
   "cell_type": "markdown",
   "metadata": {},
   "source": [
    "# data nomrlaization\n"
   ]
  },
  {
   "cell_type": "code",
   "execution_count": 9,
   "metadata": {},
   "outputs": [],
   "source": [
    "from sklearn.preprocessing import StandardScaler"
   ]
  },
  {
   "cell_type": "code",
   "execution_count": 10,
   "metadata": {},
   "outputs": [],
   "source": [
    "scaler = StandardScaler()\n",
    "scaler.fit(X_train)\n",
    "X_train = scaler.transform(X_train)\n",
    "X_test = scaler.transform(X_test)"
   ]
  },
  {
   "cell_type": "markdown",
   "metadata": {},
   "source": [
    "# Sklearn Multilayer Perceptron"
   ]
  },
  {
   "cell_type": "code",
   "execution_count": 11,
   "metadata": {},
   "outputs": [],
   "source": [
    "from sklearn.neural_network import MLPClassifier\n"
   ]
  },
  {
   "cell_type": "code",
   "execution_count": 12,
   "metadata": {},
   "outputs": [
    {
     "name": "stdout",
     "output_type": "stream",
     "text": [
      "Accuracy 0.9923635686347551\n",
      "F1-score [0.9951416  0.98216616]\n",
      "              precision    recall  f1-score   support\n",
      "\n",
      "           0       1.00      0.99      1.00      4235\n",
      "           1       0.97      1.00      0.98      1134\n",
      "\n",
      "    accuracy                           0.99      5369\n",
      "   macro avg       0.98      0.99      0.99      5369\n",
      "weighted avg       0.99      0.99      0.99      5369\n",
      "\n"
     ]
    }
   ],
   "source": [
    "clf = MLPClassifier(random_state=0)\n",
    "\n",
    "clf.fit(X_train, y_train)\n",
    "\n",
    "y_pred = clf.predict(X_test)\n",
    "\n",
    "print('Accuracy %s' % accuracy_score(y_test, y_pred))\n",
    "print('F1-score %s' % f1_score(y_test, y_pred, average=None))\n",
    "print(classification_report(y_test, y_pred))"
   ]
  },
  {
   "cell_type": "code",
   "execution_count": 13,
   "metadata": {},
   "outputs": [
    {
     "data": {
      "image/png": "[encoded data removed]",
      "text/plain": [
       "<Figure size 432x288 with 1 Axes>"
      ]
     },
     "metadata": {
      "needs_background": "light"
     },
     "output_type": "display_data"
    }
   ],
   "source": [
    "plt.plot(clf.loss_curve_)\n",
    "plt.show()"
   ]
  },
  {
   "cell_type": "code",
   "execution_count": 14,
   "metadata": {},
   "outputs": [
    {
     "name": "stdout",
     "output_type": "stream",
     "text": [
      "Accuracy 0.9923635686347551\n",
      "F1-score [0.99514045 0.98218166]\n",
      "              precision    recall  f1-score   support\n",
      "\n",
      "           0       1.00      0.99      1.00      4235\n",
      "           1       0.97      1.00      0.98      1134\n",
      "\n",
      "    accuracy                           0.99      5369\n",
      "   macro avg       0.98      0.99      0.99      5369\n",
      "weighted avg       0.99      0.99      0.99      5369\n",
      "\n"
     ]
    }
   ],
   "source": [
    "clf = MLPClassifier(hidden_layer_sizes=(128, 64, 32,), alpha=0.1, learning_rate='adaptive', \n",
    "                    activation='tanh', early_stopping=False, momentum=0.9, random_state=0)\n",
    "\n",
    "clf.fit(X_train, y_train)\n",
    "\n",
    "y_pred = clf.predict(X_test)\n",
    "\n",
    "print('Accuracy %s' % accuracy_score(y_test, y_pred))\n",
    "print('F1-score %s' % f1_score(y_test, y_pred, average=None))\n",
    "print(classification_report(y_test, y_pred))"
   ]
  },
  {
   "cell_type": "code",
   "execution_count": 15,
   "metadata": {},
   "outputs": [
    {
     "data": {
      "image/png": "[encoded data removed]",
      "text/plain": [
       "<Figure size 432x288 with 1 Axes>"
      ]
     },
     "metadata": {
      "needs_background": "light"
     },
     "output_type": "display_data"
    }
   ],
   "source": [
    "plt.plot(clf.loss_curve_)\n",
    "plt.show()"
   ]
  },
  {
   "cell_type": "code",
   "execution_count": 16,
   "metadata": {},
   "outputs": [],
   "source": [
    "params = [{'solver': 'sgd', 'learning_rate': 'constant', 'momentum': 0,'learning_rate_init': 0.2},\n",
    "          {'solver': 'sgd', 'learning_rate': 'constant', 'momentum': .9,\n",
    "           'nesterovs_momentum': False, 'learning_rate_init': 0.2},\n",
    "          {'solver': 'sgd', 'learning_rate': 'invscaling', 'momentum': 0,\n",
    "           'learning_rate_init': 0.2},\n",
    "          {'solver': 'sgd', 'learning_rate': 'invscaling', 'momentum': .9,\n",
    "           'nesterovs_momentum': False, 'learning_rate_init': 0.2},\n",
    "          {'solver': 'adam', 'learning_rate_init': 0.01}]\n",
    "\n",
    "labels = [\"constant learning-rate\", \"constant with momentum\",\n",
    "          \"inv-scaling learning-rate\", \"inv-scaling with momentum\", \"adam\"]"
   ]
  },
  {
   "cell_type": "code",
   "execution_count": 17,
   "metadata": {},
   "outputs": [],
   "source": [
    "import warnings\n",
    "from sklearn.exceptions import ConvergenceWarning"
   ]
  },
  {
   "cell_type": "code",
   "execution_count": 18,
   "metadata": {},
   "outputs": [
    {
     "name": "stdout",
     "output_type": "stream",
     "text": [
      "constant learning-rate\n",
      "training set score and loss: 0.789, 73.138059\n"
     ]
    },
    {
     "data": {
      "image/png": "[encoded data removed]",
      "text/plain": [
       "<Figure size 432x288 with 1 Axes>"
      ]
     },
     "metadata": {
      "needs_background": "light"
     },
     "output_type": "display_data"
    },
    {
     "name": "stdout",
     "output_type": "stream",
     "text": [
      "constant with momentum\n",
      "training set score and loss: 0.789, 7131.510333\n"
     ]
    },
    {
     "data": {
      "image/png": "[encoded data removed]",
      "text/plain": [
       "<Figure size 432x288 with 1 Axes>"
      ]
     },
     "metadata": {
      "needs_background": "light"
     },
     "output_type": "display_data"
    },
    {
     "name": "stdout",
     "output_type": "stream",
     "text": [
      "inv-scaling learning-rate\n",
      "training set score and loss: 0.789, 73.401101\n"
     ]
    },
    {
     "data": {
      "image/png": "[encoded data removed]",
      "text/plain": [
       "<Figure size 432x288 with 1 Axes>"
      ]
     },
     "metadata": {
      "needs_background": "light"
     },
     "output_type": "display_data"
    },
    {
     "name": "stdout",
     "output_type": "stream",
     "text": [
      "inv-scaling with momentum\n",
      "training set score and loss: 0.789, 7393.948020\n"
     ]
    },
    {
     "data": {
      "image/png": "[encoded data removed]",
      "text/plain": [
       "<Figure size 432x288 with 1 Axes>"
      ]
     },
     "metadata": {
      "needs_background": "light"
     },
     "output_type": "display_data"
    },
    {
     "name": "stdout",
     "output_type": "stream",
     "text": [
      "adam\n",
      "training set score and loss: 0.991, 0.050019\n"
     ]
    },
    {
     "data": {
      "image/png": "[encoded data removed]",
      "text/plain": [
       "<Figure size 432x288 with 1 Axes>"
      ]
     },
     "metadata": {
      "needs_background": "light"
     },
     "output_type": "display_data"
    }
   ],
   "source": [
    "for label, param in zip(labels, params):\n",
    "    print(label)\n",
    "    clf = MLPClassifier(random_state=0, max_iter=200, **param)\n",
    "\n",
    "    \n",
    "    with warnings.catch_warnings():\n",
    "        warnings.filterwarnings(\"ignore\", category=ConvergenceWarning, module=\"sklearn\")\n",
    "        clf.fit(X, y)\n",
    "\n",
    "    print(\"training set score and loss: %.3f, %f\" % (clf.score(X, y), clf.loss_))\n",
    "    plt.plot(clf.loss_curve_, label=label)\n",
    "    plt.legend(loc=\"upper center\")\n",
    "    plt.show()"
   ]
  },
  {
   "cell_type": "markdown",
   "metadata": {},
   "source": [
    "# Keras Deep Neural Networks"
   ]
  },
  {
   "cell_type": "code",
   "execution_count": 19,
   "metadata": {},
   "outputs": [
    {
     "name": "stderr",
     "output_type": "stream",
     "text": [
      "Using Theano backend.\n",
      "/Users/francescosalerno/opt/anaconda3/lib/python3.7/site-packages/theano/configdefaults.py:560: UserWarning: DeprecationWarning: there is no c++ compiler.This is deprecated and with Theano 0.11 a c++ compiler will be mandatory\n",
      "  warnings.warn(\"DeprecationWarning: there is no c++ compiler.\"\n",
      "WARNING (theano.configdefaults): g++ not detected ! Theano will be unable to execute optimized C-implementations (for both CPU and GPU) and will default to Python implementations. Performance will be severely degraded. To remove this warning, set Theano flags cxx to an empty string.\n",
      "WARNING (theano.tensor.blas): Using NumPy C-API based implementation for BLAS functions.\n"
     ]
    }
   ],
   "source": [
    "from keras.models import Sequential\n",
    "from keras.layers import Dense"
   ]
  },
  {
   "cell_type": "code",
   "execution_count": 20,
   "metadata": {},
   "outputs": [],
   "source": [
    "def build_model():\n",
    "    \n",
    "    n_feature = X_train.shape[1]\n",
    "    model = Sequential()\n",
    "    model.add(Dense(128, input_dim=n_feature, activation='relu'))\n",
    "    model.add(Dense(64, activation='relu'))\n",
    "    model.add(Dense(1, activation='sigmoid'))\n",
    "\n",
    "    model.compile(loss='binary_crossentropy', optimizer='adam', metrics=['accuracy'])\n",
    "    return model"
   ]
  },
  {
   "cell_type": "code",
   "execution_count": 21,
   "metadata": {},
   "outputs": [
    {
     "name": "stdout",
     "output_type": "stream",
     "text": [
      "Epoch 1/20\n",
      "12526/12526 [==============================] - 341s 27ms/step - loss: 0.1169 - accuracy: 0.9763\n",
      "Epoch 2/20\n",
      "12526/12526 [==============================] - 341s 27ms/step - loss: 0.0454 - accuracy: 0.9889\n",
      "Epoch 3/20\n",
      "12526/12526 [==============================] - 2491s 199ms/step - loss: 0.0444 - accuracy: 0.9889\n",
      "Epoch 4/20\n",
      "12526/12526 [==============================] - 347s 28ms/step - loss: 0.0437 - accuracy: 0.9892\n",
      "Epoch 5/20\n",
      "12526/12526 [==============================] - 340s 27ms/step - loss: 0.0426 - accuracy: 0.9895\n",
      "Epoch 6/20\n",
      "12526/12526 [==============================] - 339s 27ms/step - loss: 0.0420 - accuracy: 0.9891\n",
      "Epoch 7/20\n",
      "12526/12526 [==============================] - 865s 69ms/step - loss: 0.0407 - accuracy: 0.9896\n",
      "Epoch 8/20\n",
      "12526/12526 [==============================] - 371s 30ms/step - loss: 0.0402 - accuracy: 0.9899\n",
      "Epoch 9/20\n",
      "12526/12526 [==============================] - 379s 30ms/step - loss: 0.0396 - accuracy: 0.9897\n",
      "Epoch 10/20\n",
      "12526/12526 [==============================] - 350s 28ms/step - loss: 0.0390 - accuracy: 0.9894\n",
      "Epoch 11/20\n",
      "12526/12526 [==============================] - 396s 32ms/step - loss: 0.0379 - accuracy: 0.9898\n",
      "Epoch 12/20\n",
      "12526/12526 [==============================] - 384s 31ms/step - loss: 0.0377 - accuracy: 0.9897\n",
      "Epoch 13/20\n",
      "12526/12526 [==============================] - 398s 32ms/step - loss: 0.0371 - accuracy: 0.9900\n",
      "Epoch 14/20\n",
      "12526/12526 [==============================] - 400s 32ms/step - loss: 0.0365 - accuracy: 0.9899\n",
      "Epoch 15/20\n",
      "12526/12526 [==============================] - 402s 32ms/step - loss: 0.0363 - accuracy: 0.9899\n",
      "Epoch 16/20\n",
      "12526/12526 [==============================] - 412s 33ms/step - loss: 0.0356 - accuracy: 0.9902\n",
      "Epoch 17/20\n",
      "12526/12526 [==============================] - 404s 32ms/step - loss: 0.0360 - accuracy: 0.9899\n",
      "Epoch 18/20\n",
      "12526/12526 [==============================] - 365s 29ms/step - loss: 0.0358 - accuracy: 0.9901\n",
      "Epoch 19/20\n",
      "12526/12526 [==============================] - 331s 26ms/step - loss: 0.0350 - accuracy: 0.9904\n",
      "Epoch 20/20\n",
      "12526/12526 [==============================] - 328s 26ms/step - loss: 0.0351 - accuracy: 0.9899\n"
     ]
    }
   ],
   "source": [
    "model1 = build_model()\n",
    "\n",
    "history1 = model1.fit(X_train, y_train, epochs=20, batch_size=50).history"
   ]
  },
  {
   "cell_type": "code",
   "execution_count": 23,
   "metadata": {},
   "outputs": [
    {
     "name": "stdout",
     "output_type": "stream",
     "text": [
      "Epoch 1/20\n",
      "12526/12526 [==============================] - 177s 14ms/step - loss: 0.3437 - accuracy: 0.9237\n",
      "Epoch 2/20\n",
      "12526/12526 [==============================] - 182s 14ms/step - loss: 0.0609 - accuracy: 0.9886\n",
      "Epoch 3/20\n",
      "12526/12526 [==============================] - 189s 15ms/step - loss: 0.0501 - accuracy: 0.9886\n",
      "Epoch 4/20\n",
      "12526/12526 [==============================] - 183s 15ms/step - loss: 0.0479 - accuracy: 0.9889\n",
      "Epoch 5/20\n",
      "12526/12526 [==============================] - 181s 14ms/step - loss: 0.0467 - accuracy: 0.9891\n",
      "Epoch 6/20\n",
      "12526/12526 [==============================] - 179s 14ms/step - loss: 0.0460 - accuracy: 0.9895\n",
      "Epoch 7/20\n",
      "12526/12526 [==============================] - 182s 15ms/step - loss: 0.0457 - accuracy: 0.9890\n",
      "Epoch 8/20\n",
      "12526/12526 [==============================] - 179s 14ms/step - loss: 0.0446 - accuracy: 0.9894\n",
      "Epoch 9/20\n",
      "12526/12526 [==============================] - 179s 14ms/step - loss: 0.0445 - accuracy: 0.9894\n",
      "Epoch 10/20\n",
      "12526/12526 [==============================] - 180s 14ms/step - loss: 0.0440 - accuracy: 0.9891\n",
      "Epoch 11/20\n",
      "12526/12526 [==============================] - 186s 15ms/step - loss: 0.0436 - accuracy: 0.9893\n",
      "Epoch 12/20\n",
      "12526/12526 [==============================] - 179s 14ms/step - loss: 0.0439 - accuracy: 0.9891\n",
      "Epoch 13/20\n",
      "12526/12526 [==============================] - 186s 15ms/step - loss: 0.0433 - accuracy: 0.9891\n",
      "Epoch 14/20\n",
      "12526/12526 [==============================] - 198s 16ms/step - loss: 0.0428 - accuracy: 0.9892\n",
      "Epoch 15/20\n",
      "12526/12526 [==============================] - 196s 16ms/step - loss: 0.0429 - accuracy: 0.9894\n",
      "Epoch 16/20\n",
      "12526/12526 [==============================] - 179s 14ms/step - loss: 0.0421 - accuracy: 0.9892\n",
      "Epoch 17/20\n",
      "12526/12526 [==============================] - 179s 14ms/step - loss: 0.0415 - accuracy: 0.9892\n",
      "Epoch 18/20\n",
      "12526/12526 [==============================] - 178s 14ms/step - loss: 0.0411 - accuracy: 0.9893\n",
      "Epoch 19/20\n",
      "12526/12526 [==============================] - 182s 15ms/step - loss: 0.0408 - accuracy: 0.9893\n",
      "Epoch 20/20\n",
      "12526/12526 [==============================] - 182s 15ms/step - loss: 0.0407 - accuracy: 0.9893\n"
     ]
    }
   ],
   "source": [
    "model2 = build_model()\n",
    "\n",
    "history2 = model2.fit(X_train, y_train, epochs=20, batch_size=250).history"
   ]
  },
  {
   "cell_type": "code",
   "execution_count": 24,
   "metadata": {},
   "outputs": [
    {
     "data": {
      "image/png": "[encoded data removed]",
      "text/plain": [
       "<Figure size 432x288 with 1 Axes>"
      ]
     },
     "metadata": {
      "needs_background": "light"
     },
     "output_type": "display_data"
    }
   ],
   "source": [
    "plt.plot(history1['loss'], label='Loss 50')\n",
    "plt.plot(history2['loss'], label='Loss 250')\n",
    "plt.xlabel('Epochs')\n",
    "plt.ylabel('Cross-Entropy')\n",
    "plt.legend()\n",
    "plt.show()"
   ]
  },
  {
   "cell_type": "code",
   "execution_count": 26,
   "metadata": {},
   "outputs": [
    {
     "name": "stdout",
     "output_type": "stream",
     "text": [
      "5369/5369 [==============================] - 34s 6ms/step\n",
      "5369/5369 [==============================] - 40s 8ms/step\n",
      "Loss 0.031679, Accuracy 0.992177\n",
      "Loss 0.034968, Accuracy 0.991991\n"
     ]
    }
   ],
   "source": [
    "test_loss_1, test_acc_1 = model1.evaluate(X_test, y_test)\n",
    "test_loss_2, test_acc_2 = model2.evaluate(X_test, y_test)\n",
    "\n",
    "print('Loss %f, Accuracy %f' % (test_loss_1, test_acc_1))\n",
    "print('Loss %f, Accuracy %f' % (test_loss_2, test_acc_2))"
   ]
  },
  {
   "cell_type": "code",
   "execution_count": 28,
   "metadata": {},
   "outputs": [
    {
     "name": "stdout",
     "output_type": "stream",
     "text": [
      "Accuracy 0.788787483702738\n",
      "F1-score [0.8819242 0.       ]\n",
      "              precision    recall  f1-score   support\n",
      "\n",
      "           0       0.79      1.00      0.88      4235\n",
      "           1       0.00      0.00      0.00      1134\n",
      "\n",
      "    accuracy                           0.79      5369\n",
      "   macro avg       0.39      0.50      0.44      5369\n",
      "weighted avg       0.62      0.79      0.70      5369\n",
      "\n"
     ]
    }
   ],
   "source": [
    "y_pred = model1.predict(X_test).astype(int)\n",
    "\n",
    "print('Accuracy %s' % accuracy_score(y_test, y_pred))\n",
    "print('F1-score %s' % f1_score(y_test, y_pred, average=None))\n",
    "print(classification_report(y_test, y_pred))"
   ]
  },
  {
   "cell_type": "code",
   "execution_count": 29,
   "metadata": {},
   "outputs": [
    {
     "name": "stdout",
     "output_type": "stream",
     "text": [
      "Train on 12526 samples, validate on 5369 samples\n",
      "Epoch 1/5\n",
      "12526/12526 [==============================] - 228s 18ms/step - loss: 0.2992 - accuracy: 0.9336 - val_loss: 0.0714 - val_accuracy: 0.9896\n",
      "Epoch 2/5\n",
      "12526/12526 [==============================] - 228s 18ms/step - loss: 0.0579 - accuracy: 0.9878 - val_loss: 0.0449 - val_accuracy: 0.9905\n",
      "Epoch 3/5\n",
      "12526/12526 [==============================] - 216s 17ms/step - loss: 0.0491 - accuracy: 0.9884 - val_loss: 0.0419 - val_accuracy: 0.9909\n",
      "Epoch 4/5\n",
      "12526/12526 [==============================] - 231s 18ms/step - loss: 0.0474 - accuracy: 0.9888 - val_loss: 0.0411 - val_accuracy: 0.9912\n",
      "Epoch 5/5\n",
      "12526/12526 [==============================] - 225s 18ms/step - loss: 0.0462 - accuracy: 0.9888 - val_loss: 0.0391 - val_accuracy: 0.9918\n"
     ]
    }
   ],
   "source": [
    "model3 = build_model()\n",
    "\n",
    "history3 = model3.fit(X_train, y_train, validation_data=(X_test, y_test), epochs=5, batch_size=250).history"
   ]
  },
  {
   "cell_type": "code",
   "execution_count": 31,
   "metadata": {},
   "outputs": [
    {
     "name": "stdout",
     "output_type": "stream",
     "text": [
      "5369/5369 [==============================] - 34s 6ms/step\n",
      "Loss 0.031679, Accuracy 0.992177\n",
      "Loss 0.034968, Accuracy 0.991991\n",
      "Loss 0.039098, Accuracy 0.991805\n"
     ]
    }
   ],
   "source": [
    "test_loss_3, test_acc_3 = model3.evaluate(X_test, y_test)\n",
    "\n",
    "print('Loss %f, Accuracy %f' % (test_loss_1, test_acc_1))\n",
    "print('Loss %f, Accuracy %f' % (test_loss_2, test_acc_2))\n",
    "print('Loss %f, Accuracy %f' % (test_loss_3, test_acc_3))"
   ]
  },
  {
   "cell_type": "code",
   "execution_count": 32,
   "metadata": {},
   "outputs": [
    {
     "data": {
      "image/png": "[encoded data removed]",
      "text/plain": [
       "<Figure size 432x288 with 1 Axes>"
      ]
     },
     "metadata": {
      "needs_background": "light"
     },
     "output_type": "display_data"
    }
   ],
   "source": [
    "plt.plot(history3['loss'], label='Train')\n",
    "plt.plot(history3['val_loss'], label='Val')\n",
    "plt.xlabel('Epochs')\n",
    "plt.ylabel('Cross-Entropy')\n",
    "plt.legend()\n",
    "plt.show()"
   ]
  },
  {
   "cell_type": "code",
   "execution_count": 33,
   "metadata": {},
   "outputs": [],
   "source": [
    "X_train, X_val, y_train, y_val = train_test_split(X_train, y_train, test_size=0.2)"
   ]
  },
  {
   "cell_type": "markdown",
   "metadata": {},
   "source": [
    "# Early Stopping¶"
   ]
  },
  {
   "cell_type": "code",
   "execution_count": 34,
   "metadata": {},
   "outputs": [],
   "source": [
    "from keras.callbacks import EarlyStopping, ModelCheckpoint"
   ]
  },
  {
   "cell_type": "code",
   "execution_count": 36,
   "metadata": {},
   "outputs": [
    {
     "name": "stdout",
     "output_type": "stream",
     "text": [
      "Train on 10020 samples, validate on 2506 samples\n",
      "Epoch 1/5\n",
      "10020/10020 [==============================] - 139s 14ms/step - loss: 0.3295 - accuracy: 0.9565 - val_loss: 0.1042 - val_accuracy: 0.9848\n",
      "Epoch 2/5\n",
      "10020/10020 [==============================] - 143s 14ms/step - loss: 0.0648 - accuracy: 0.9882 - val_loss: 0.0610 - val_accuracy: 0.9872\n",
      "Epoch 3/5\n",
      "10020/10020 [==============================] - 165s 16ms/step - loss: 0.0482 - accuracy: 0.9891 - val_loss: 0.0577 - val_accuracy: 0.9872\n",
      "Epoch 4/5\n",
      "10020/10020 [==============================] - 156s 16ms/step - loss: 0.0457 - accuracy: 0.9896 - val_loss: 0.0561 - val_accuracy: 0.9864\n",
      "Epoch 5/5\n",
      "10020/10020 [==============================] - 161s 16ms/step - loss: 0.0444 - accuracy: 0.9893 - val_loss: 0.0554 - val_accuracy: 0.9864\n"
     ]
    }
   ],
   "source": [
    "es = EarlyStopping(monitor='val_loss', patience=10)\n",
    "mc = ModelCheckpoint('best_model_NOREG.h5', monitor='val_loss', save_best_only=True)\n",
    "\n",
    "model4 = build_model()\n",
    "history4 = model4.fit(X_train, y_train, validation_data=(X_val, y_val), epochs=5, \n",
    "                      batch_size=250, callbacks=[es,mc]).history"
   ]
  },
  {
   "cell_type": "code",
   "execution_count": 37,
   "metadata": {},
   "outputs": [
    {
     "name": "stdout",
     "output_type": "stream",
     "text": [
      "5369/5369 [==============================] - 35s 6ms/step\n",
      "Loss 0.031679, Accuracy 0.992177\n",
      "Loss 0.034968, Accuracy 0.991991\n",
      "Loss 0.039098, Accuracy 0.991805\n",
      "Loss 0.040201, Accuracy 0.991432\n"
     ]
    }
   ],
   "source": [
    "test_loss_4, test_acc_4 = model4.evaluate(X_test, y_test)\n",
    "\n",
    "print('Loss %f, Accuracy %f' % (test_loss_1, test_acc_1))\n",
    "print('Loss %f, Accuracy %f' % (test_loss_2, test_acc_2))\n",
    "print('Loss %f, Accuracy %f' % (test_loss_3, test_acc_3))\n",
    "print('Loss %f, Accuracy %f' % (test_loss_4, test_acc_4))"
   ]
  },
  {
   "cell_type": "code",
   "execution_count": 39,
   "metadata": {},
   "outputs": [],
   "source": [
    "from keras.regularizers import l2\n",
    "\n",
    "def build_L2_model():\n",
    "    # define the model\n",
    "    model = Sequential()\n",
    "\n",
    "    n_feature = X_train.shape[1]\n",
    "    h_dim=100\n",
    "    model.add(Dense(h_dim, activation='relu', input_shape=(n_feature,), kernel_regularizer=l2(0.01)))\n",
    "    model.add(Dense(h_dim, activation='relu', kernel_regularizer=l2(0.01)))\n",
    "    model.add(Dense(h_dim, activation='relu', kernel_regularizer=l2(0.01)))\n",
    "    model.add(Dense(h_dim, activation='relu', kernel_regularizer=l2(0.01)))\n",
    "    #linear activation\n",
    "    model.add(Dense(1))\n",
    "\n",
    "    #compile the model\n",
    "    model.compile(loss='binary_crossentropy', optimizer='adam', metrics=['accuracy'])\n",
    "    \n",
    "    return model"
   ]
  },
  {
   "cell_type": "code",
   "execution_count": 41,
   "metadata": {},
   "outputs": [
    {
     "name": "stdout",
     "output_type": "stream",
     "text": [
      "Train on 10020 samples, validate on 2506 samples\n",
      "Epoch 1/5\n",
      "10020/10020 [==============================] - 406s 40ms/step - loss: 5.5801 - accuracy: 0.7889 - val_loss: 4.8239 - val_accuracy: 0.7885\n",
      "Epoch 2/5\n",
      "10020/10020 [==============================] - 381s 38ms/step - loss: 4.3810 - accuracy: 0.7890 - val_loss: 4.0200 - val_accuracy: 0.7885\n",
      "Epoch 3/5\n",
      "10020/10020 [==============================] - 391s 39ms/step - loss: 3.8125 - accuracy: 0.7890 - val_loss: 3.6551 - val_accuracy: 0.7885\n",
      "Epoch 4/5\n",
      "10020/10020 [==============================] - 398s 40ms/step - loss: 3.5615 - accuracy: 0.7890 - val_loss: 3.5006 - val_accuracy: 0.7885\n",
      "Epoch 5/5\n",
      "10020/10020 [==============================] - 381s 38ms/step - loss: 3.4587 - accuracy: 0.7890 - val_loss: 3.4404 - val_accuracy: 0.7885\n"
     ]
    }
   ],
   "source": [
    "mc = ModelCheckpoint('best_model_L2.h5', monitor='val_loss', save_best_only=True)\n",
    "\n",
    "L2_model = build_L2_model()\n",
    "h_L2 = L2_model.fit(X_train, y_train, validation_data=(X_val, y_val), epochs=5, \n",
    "                    batch_size=250, callbacks=[es,mc]).history"
   ]
  },
  {
   "cell_type": "code",
   "execution_count": 42,
   "metadata": {},
   "outputs": [],
   "source": [
    "from keras.layers import Dropout\n",
    "\n",
    "def build_DROPOUT_model():\n",
    "    # define the model\n",
    "    model = Sequential()\n",
    "\n",
    "    n_feature = X_train.shape[1]\n",
    "    h_dim=100\n",
    "    model.add(Dense(h_dim, activation='relu', input_shape=(n_feature,)))\n",
    "    model.add(Dropout(0.2))\n",
    "    model.add(Dense(h_dim, activation='relu'))\n",
    "    model.add(Dropout(0.2))\n",
    "    model.add(Dense(h_dim, activation='relu'))\n",
    "    model.add(Dropout(0.2))\n",
    "    model.add(Dense(h_dim, activation='relu'))\n",
    "    #linear activation\n",
    "    model.add(Dense(1))\n",
    "\n",
    "    #compile the model\n",
    "    model.compile(loss='binary_crossentropy', optimizer='adam', metrics=['accuracy'])\n",
    "    \n",
    "    return model"
   ]
  },
  {
   "cell_type": "code",
   "execution_count": 44,
   "metadata": {},
   "outputs": [
    {
     "name": "stdout",
     "output_type": "stream",
     "text": [
      "Train on 10020 samples, validate on 2506 samples\n",
      "Epoch 1/3\n",
      "10020/10020 [==============================] - 666s 66ms/step - loss: 0.1849 - accuracy: 0.8466 - val_loss: 0.1546 - val_accuracy: 0.7283\n",
      "Epoch 2/3\n",
      "10020/10020 [==============================] - 693s 69ms/step - loss: 0.1321 - accuracy: 0.7764 - val_loss: 0.1455 - val_accuracy: 0.9078\n",
      "Epoch 3/3\n",
      "10020/10020 [==============================] - 671s 67ms/step - loss: 0.1326 - accuracy: 0.7637 - val_loss: 0.1593 - val_accuracy: 0.7478\n"
     ]
    }
   ],
   "source": [
    "mc = ModelCheckpoint('best_model_DROPOUT.h5', monitor='val_loss', save_best_only=True)\n",
    "\n",
    "DROPOUT_model = build_DROPOUT_model()\n",
    "h_DROPOUT = DROPOUT_model.fit(X_train, y_train, validation_data=(X_val, y_val), \n",
    "                              epochs=3, batch_size=250, callbacks=[es,mc]).history"
   ]
  },
  {
   "cell_type": "code",
   "execution_count": 45,
   "metadata": {},
   "outputs": [
    {
     "name": "stdout",
     "output_type": "stream",
     "text": [
      "5369/5369 [==============================] - 30s 6ms/step\n",
      "5369/5369 [==============================] - 64s 12ms/step\n",
      "5369/5369 [==============================] - 138s 26ms/step\n"
     ]
    }
   ],
   "source": [
    "from keras.models import load_model\n",
    "\n",
    "best_NOREG_model = load_model('best_model_NOREG.h5')\n",
    "best_L2_model = load_model('best_model_L2.h5')\n",
    "best_DROPOUT_model = load_model('best_model_DROPOUT.h5')\n",
    "\n",
    "loss_NOREG, acc_NOREG = best_NOREG_model.evaluate(X_test, y_test)\n",
    "loss_L2, acc_L2 = best_L2_model.evaluate(X_test, y_test)\n",
    "loss_DROPOUT, acc_DROPOUT = best_DROPOUT_model.evaluate(X_test, y_test)"
   ]
  },
  {
   "cell_type": "code",
   "execution_count": 46,
   "metadata": {},
   "outputs": [
    {
     "name": "stdout",
     "output_type": "stream",
     "text": [
      "Loss 0.040201, Accuracy 0.991432\n",
      "Loss 3.435924, Accuracy 0.788787\n",
      "Loss 0.102973, Accuracy 0.909853\n"
     ]
    }
   ],
   "source": [
    "print('Loss %f, Accuracy %f' % (loss_NOREG, acc_NOREG))\n",
    "print('Loss %f, Accuracy %f' % (loss_L2, acc_L2))\n",
    "print('Loss %f, Accuracy %f' % (loss_DROPOUT, acc_DROPOUT))"
   ]
  },
  {
   "cell_type": "markdown",
   "metadata": {},
   "source": [
    "# Hyper-Parameter Tuning¶"
   ]
  },
  {
   "cell_type": "code",
   "execution_count": 47,
   "metadata": {},
   "outputs": [],
   "source": [
    "from keras.wrappers.scikit_learn import KerasRegressor\n",
    "from sklearn.model_selection import RandomizedSearchCV"
   ]
  },
  {
   "cell_type": "code",
   "execution_count": 48,
   "metadata": {},
   "outputs": [],
   "source": [
    "def build_model(n_layers=2, h_dim=64, activation='relu', optimizer='adam'):\n",
    "    # define the model\n",
    "    model = Sequential()\n",
    "\n",
    "    n_feature = X_train.shape[1]\n",
    "    \n",
    "    model.add(Dense(h_dim, activation=activation, input_shape=(n_feature,)))\n",
    "    for i in range(n_layers-1):\n",
    "        model.add(Dense(h_dim, activation=activation))\n",
    "    #linear activation\n",
    "    model.add(Dense(1))\n",
    "\n",
    "    #compile the model\n",
    "    model.compile(loss='binary_crossentropy', optimizer=optimizer, metrics=['accuracy'])\n",
    "    \n",
    "    return model"
   ]
  },
  {
   "cell_type": "code",
   "execution_count": 49,
   "metadata": {},
   "outputs": [],
   "source": [
    "n_layers = [1, 2, 3]\n",
    "h_dim = [32, 64, 128]\n",
    "activation = ['relu', 'tanh']\n",
    "optimizer = ['adagrad', 'adam']\n",
    "params = dict(optimizer=optimizer, n_layers=n_layers, h_dim=h_dim, activation=activation)"
   ]
  },
  {
   "cell_type": "code",
   "execution_count": 52,
   "metadata": {
    "scrolled": true
   },
   "outputs": [
    {
     "name": "stdout",
     "output_type": "stream",
     "text": [
      "3340/3340 [==============================] - 7s 2ms/step\n",
      "3340/3340 [==============================] - 7s 2ms/step\n",
      "3340/3340 [==============================] - 7s 2ms/step\n",
      "3340/3340 [==============================] - 3s 974us/step\n",
      "3340/3340 [==============================] - 3s 981us/step\n",
      "3340/3340 [==============================] - 3s 1ms/step\n",
      "3340/3340 [==============================] - 7s 2ms/step\n",
      "3340/3340 [==============================] - 7s 2ms/step\n",
      "3340/3340 [==============================] - 7s 2ms/step\n",
      "3340/3340 [==============================] - 3s 773us/step\n",
      "3340/3340 [==============================] - 2s 696us/step\n",
      "3340/3340 [==============================] - 2s 716us/step\n",
      "3340/3340 [==============================] - 12s 4ms/step\n",
      "3340/3340 [==============================] - 12s 4ms/step\n",
      "3340/3340 [==============================] - 13s 4ms/step\n"
     ]
    }
   ],
   "source": [
    "model = KerasRegressor(build_fn=build_model)\n",
    "\n",
    "rnd = RandomizedSearchCV(estimator=model, param_distributions=params, n_iter=5, cv=3)\n",
    "rnd_result = rnd.fit(X_train, y_train, epochs=3, batch_size=250, verbose=0)"
   ]
  },
  {
   "cell_type": "code",
   "execution_count": 53,
   "metadata": {},
   "outputs": [
    {
     "name": "stdout",
     "output_type": "stream",
     "text": [
      "Best: 0.097162 using {'optimizer': 'adam', 'n_layers': 1, 'h_dim': 128, 'activation': 'relu'}\n",
      "0.101449 (0.023243) with: {'optimizer': 'adagrad', 'n_layers': 2, 'h_dim': 32, 'activation': 'relu'}\n",
      "0.286692 (0.263440) with: {'optimizer': 'adagrad', 'n_layers': 3, 'h_dim': 32, 'activation': 'tanh'}\n",
      "0.148331 (0.014055) with: {'optimizer': 'adagrad', 'n_layers': 3, 'h_dim': 64, 'activation': 'tanh'}\n",
      "0.103663 (0.019199) with: {'optimizer': 'adam', 'n_layers': 1, 'h_dim': 64, 'activation': 'tanh'}\n",
      "0.097162 (0.014105) with: {'optimizer': 'adam', 'n_layers': 1, 'h_dim': 128, 'activation': 'relu'}\n"
     ]
    }
   ],
   "source": [
    "print(\"Best: %f using %s\" % (-rnd_result.best_score_, rnd_result.best_params_))\n",
    "means = rnd_result.cv_results_['mean_test_score']\n",
    "stds = rnd_result.cv_results_['std_test_score']\n",
    "params = rnd_result.cv_results_['params']\n",
    "for mean, stdev, param in zip(means, stds, params):\n",
    "    print(\"%f (%f) with: %r\" % (-mean, stdev, param))"
   ]
  },
  {
   "cell_type": "code",
   "execution_count": 54,
   "metadata": {},
   "outputs": [
    {
     "name": "stdout",
     "output_type": "stream",
     "text": [
      "5369/5369 [==============================] - 20s 4ms/step\n",
      "Loss 0.077708, Accuracy 0.722853\n"
     ]
    }
   ],
   "source": [
    "clf = rnd_result.best_estimator_.model\n",
    "\n",
    "loss, acc = clf.evaluate(X_test, y_test)\n",
    "print('Loss %f, Accuracy %f' % (loss, acc))"
   ]
  },
  {
   "cell_type": "code",
   "execution_count": null,
   "metadata": {},
   "outputs": [],
   "source": []
  }
 ],
 "metadata": {
  "kernelspec": {
   "display_name": "Python 3",
   "language": "python",
   "name": "python3"
  },
  "language_info": {
   "codemirror_mode": {
    "name": "ipython",
    "version": 3
   },
   "file_extension": ".py",
   "mimetype": "text/x-python",
   "name": "python",
   "nbconvert_exporter": "python",
   "pygments_lexer": "ipython3",
   "version": "3.7.6"
  }
 },
 "nbformat": 4,
 "nbformat_minor": 4
}
